{
 "cells": [
  {
   "cell_type": "code",
   "execution_count": 62,
   "id": "4a4d740d",
   "metadata": {},
   "outputs": [
    {
     "data": {
      "text/plain": [
       "'\\nIn this script we are going to try out LDA topic modelling using gensim.\\nTHIS IS REALLY COOL!\\n'"
      ]
     },
     "execution_count": 62,
     "metadata": {},
     "output_type": "execute_result"
    }
   ],
   "source": [
    "'''\n",
    "In this script we are going to try out LDA topic modelling using gensim.\n",
    "THIS IS REALLY COOL!\n",
    "https://www.youtube.com/watch?v=UEn3xHNBXJU&ab_channel=PythonTutorialsforDigitalHumanities\n",
    "https://www.machinelearningplus.com/nlp/topic-modeling-gensim-python/#9createbigramandtrigrammodels\n",
    "\n",
    "more resources:\n",
    "https://towardsdatascience.com/basic-nlp-on-the-texts-of-harry-potter-topic-modeling-with-latent-dirichlet-allocation-f3c00f77b0f5\n",
    "https://towardsdatascience.com/unsupervised-nlp-topic-models-as-a-supervised-learning-input-cf8ee9e5cf28 \n",
    "# https://towardsdatascience.com/evaluate-topic-model-in-python-latent-dirichlet-allocation-lda-7d57484bb5d0\n",
    "'''"
   ]
  },
  {
   "cell_type": "code",
   "execution_count": 81,
   "id": "99965852",
   "metadata": {},
   "outputs": [],
   "source": [
    "import numpy as np\n",
    "import pandas as pd\n",
    "import glob\n",
    " \n",
    "#Gensim\n",
    "import gensim\n",
    "import gensim.corpora as corpora\n",
    "from gensim.utils import simple_preprocess\n",
    "from gensim.models import CoherenceModel\n",
    "from gensim.models import TfidfModel\n",
    "from gensim.models import CoherenceModel\n",
    "\n",
    "#spacy\n",
    "import spacy\n",
    "\n",
    "#vis\n",
    "import pyLDAvis\n",
    "import pyLDAvis.gensim_models"
   ]
  },
  {
   "cell_type": "code",
   "execution_count": 166,
   "id": "f80ec992",
   "metadata": {},
   "outputs": [],
   "source": [
    "df1 = pd.read_csv(\"data/new_york_times/NYT_clean_1.csv\")\n",
    "df2 = pd.read_csv(\"data/new_york_times/NYT_clean_2.csv\")\n",
    "df3 = pd.read_csv(\"data/new_york_times/NYT_clean_3.csv\")\n",
    "\n",
    "df = pd.concat([df1, df2, df3])"
   ]
  },
  {
   "cell_type": "code",
   "execution_count": 104,
   "id": "d941c045",
   "metadata": {},
   "outputs": [],
   "source": []
  },
  {
   "cell_type": "code",
   "execution_count": 154,
   "id": "616da906",
   "metadata": {},
   "outputs": [
    {
     "name": "stdout",
     "output_type": "stream",
     "text": [
      "year frustration United Nations effort bring peace Afghanistan reach critical point today envoy begin round shuttle diplomacy aim bring main warring group new coalition Government United Nations representative Mahmoud Mestiri hope new govern council power Kabul capital Monday open talk Mr. Mestiri say early date slip Tuesday Afghans involve talk judge prospect meet deadline increasingly slim peace effort snag thing bring rapid momentum Mr. Mestiri effort recent week sudden military success new afghan fighting force know Taliban month take control nearly half country offensive begin Kandahar Afghanistan second large city Taliban sprang student muslim religious school band fall rid country armed faction divide county fief prey ordinary Afghans week Taliban unit push gate Kabul halt apparently review tactic deal Government President Burnahuddin Rabbani arrive Friday Mr. Mestiri acknowledge Taliban offensive change political landscape way alter doom plan peace effort close success time begin decade ago take job everybody say mission impossible say try say Mr. Mestiri Foreign Minister Tunisia think progress head right direction long God know early talk Mr. Mestiri President Rabbani agree cede power new transitional govern council representative mujahedeen muslim resistance group form battle soviet force occupy Afghanistan soviet force withdraw mujahedeen fall civil war year later Soviet instal Communist Government Kabul collapse group anti soviet resistance new council propose United Nations include regional group establish power key provincial city include Jalalabad Mazar Sharif Herat group take seat council total Mr. Mestiri propose add equal number prominent personality afghan individual play fight ravage country past year United Nations plan little headway month swift success Taliban press Kabul mile road Kandahar persuade war faction bury difference accept proposal faction mujahedeen battle control capital collapse Communist Government April problem Taliban advance new council irrelevant United Nations plan make provision Taliban Taliban appear reluctant join council link key factor Taliban success movement rejection resistance group label un islamic ruthless contest power brigandage take control Rabbani Government relieve press problem Taliban rout early week Gulbuddin Hekmatyar ruthless resistance leader Mr. Hekmatyar force play major shelling kill thousand Kabul destroy wide area city year trap force mountain redoubt Sorobi mile east Kabul leader eligible representative propose new govern council Kabul Mr. Rabbani military chief Ahmed Shah Massoud say feel Mr. Hekmatyar lose claim power prospect peace new rest Rabbani Government Taliban Mr. Mestiri diplomatic skill likely test shuttle group diplomat feel success organize propose new govern council important reach agreement head new battle Kabul far group avoid clash Taliban commander outside Kabul secret impatience Mullah Bor Jan commander lead Taliban offensive route Mr. Hekmatyar tell reporter Mr. Hekmatyar stronghold Charasyab mile Kabul outskirt Taliban intend clean capital resistance group prey population Kandahar city conquer Taliban demand people Afghanistan say\n",
      "<class 'pandas.core.frame.DataFrame'>\n",
      "Int64Index: 21109 entries, 0 to 6109\n",
      "Data columns (total 7 columns):\n",
      " #   Column                   Non-Null Count  Dtype  \n",
      "---  ------                   --------------  -----  \n",
      " 0   headline                 21109 non-null  object \n",
      " 1   url                      21109 non-null  object \n",
      " 2   date                     21109 non-null  object \n",
      " 3   bread_text               21109 non-null  object \n",
      " 4   bread_text_preprocessed  21109 non-null  object \n",
      " 5   polarity                 21109 non-null  float64\n",
      " 6   subjectivity             21109 non-null  float64\n",
      "dtypes: float64(2), object(5)\n",
      "memory usage: 1.3+ MB\n",
      "None\n"
     ]
    }
   ],
   "source": [
    "print(df.iloc[1,4])\n",
    "print(df.info())"
   ]
  },
  {
   "cell_type": "code",
   "execution_count": 155,
   "id": "a88604d1",
   "metadata": {},
   "outputs": [],
   "source": [
    "#break it down by individual words\n",
    "def gen_words(texts):\n",
    "    final = []\n",
    "    for text in texts:\n",
    "        new = gensim.utils.simple_preprocess(text)\n",
    "        final.append(new)\n",
    "    return (final)"
   ]
  },
  {
   "cell_type": "code",
   "execution_count": 157,
   "id": "36774f98",
   "metadata": {},
   "outputs": [],
   "source": [
    "data_words = gen_words(df[\"bread_text_preprocessed\"])"
   ]
  },
  {
   "cell_type": "code",
   "execution_count": 158,
   "id": "a0dd3673",
   "metadata": {},
   "outputs": [
    {
     "name": "stdout",
     "output_type": "stream",
     "text": [
      "Before applying the helper function gen_words: \n",
      "decade soviet military occupation year ruthless civil war Afghanistan take sudden startling turn peace military campaign last barely month new\n",
      "\n",
      "After applying the helper function gen_words: \n",
      "['decade', 'soviet', 'military', 'occupation', 'year', 'ruthless', 'civil', 'war', 'afghanistan', 'take', 'sudden', 'startling', 'turn', 'peace', 'military', 'campaign', 'last', 'barely', 'month', 'new']\n"
     ]
    }
   ],
   "source": [
    "print(\"Before applying the helper function gen_words: \\n\" + str(df.iloc[0,4][0:142]))\n",
    "print(\"\\nAfter applying the helper function gen_words: \\n\" + str(data_words[0][0:20]))"
   ]
  },
  {
   "cell_type": "markdown",
   "id": "d877ba81",
   "metadata": {},
   "source": [
    "# Bigrams and Trigrams"
   ]
  },
  {
   "cell_type": "code",
   "execution_count": 159,
   "id": "93af1909",
   "metadata": {},
   "outputs": [],
   "source": [
    "#BIGRAMS AND TRIGRAMS\n",
    "bigram_phrases = gensim.models.Phrases(data_words, min_count=5, threshold=80)\n",
    "trigram_phrases = gensim.models.Phrases(bigram_phrases[data_words], threshold=80)\n",
    "\n",
    "bigram = gensim.models.phrases.Phraser(bigram_phrases)\n",
    "trigram = gensim.models.phrases.Phraser(trigram_phrases)\n",
    "\n",
    "def make_bigrams(texts):\n",
    "    return([bigram[doc] for doc in texts])\n",
    "\n",
    "def make_trigrams(texts):\n",
    "    return ([trigram[bigram[doc]] for doc in texts])\n",
    "\n",
    "data_bigrams = make_bigrams(data_words)\n",
    "data_bigrams_trigrams = make_trigrams(data_bigrams)"
   ]
  },
  {
   "cell_type": "code",
   "execution_count": 160,
   "id": "6fef42aa",
   "metadata": {},
   "outputs": [
    {
     "name": "stdout",
     "output_type": "stream",
     "text": [
      "Without bigrams and trigrams:\n",
      "['bin', 'laden', 'whereabouts', 'afghanistan', 'rule', 'taliban', 'conflicting', 'statement', 'whereabout', 'osama', 'bin', 'laden', 'know', 'page', 'warnings', 'attacks', 'secretary', 'defense', 'donald', 'rumsfeld', 'administration', 'official', 'step', 'warning', 'threat', 'chemical', 'biological', 'nuclear', 'attack', 'page', 'beefing', 'surveillance', 'pentagon', 'concern', 'shortage', 'surveillance', 'equipment', 'pursuit', 'osama', 'bin', 'laden', 'step', 'purchase', 'reconnaissance', 'plane', 'page', 'time', 'mourner', 'woman', 'husband', 'found', 'banking', 'firm', 'lose', 'employee', 'world', 'trade', 'center', 'disaster', 'spend', 'day', 'attend', 'memorial', 'service', 'page']\n",
      "\n",
      "With bigrams and trigrams:\n",
      "['bin_laden_whereabouts', 'afghanistan', 'rule', 'taliban', 'conflicting', 'statement', 'whereabout_osama_bin', 'laden', 'know', 'page', 'warnings', 'attacks', 'secretary', 'defense', 'donald_rumsfeld', 'administration', 'official', 'step', 'warning', 'threat', 'chemical_biological', 'nuclear', 'attack', 'page', 'beefing', 'surveillance', 'pentagon', 'concern', 'shortage', 'surveillance', 'equipment', 'pursuit_osama_bin', 'laden', 'step', 'purchase', 'reconnaissance', 'plane', 'page', 'time', 'mourner', 'woman', 'husband', 'found', 'banking', 'firm', 'lose', 'employee', 'world', 'trade_center', 'disaster', 'spend', 'day', 'attend', 'memorial_service', 'page']\n"
     ]
    }
   ],
   "source": [
    "print(\"Without bigrams and trigrams:\\n\" + str(data_words[1067][0:100]))\n",
    "print (\"\\nWith bigrams and trigrams:\\n\" + str(data_bigrams_trigrams[1067][0:100]))"
   ]
  },
  {
   "cell_type": "code",
   "execution_count": null,
   "id": "1b70e2e0",
   "metadata": {},
   "outputs": [],
   "source": []
  },
  {
   "cell_type": "markdown",
   "id": "504fdb13",
   "metadata": {},
   "source": []
  },
  {
   "cell_type": "code",
   "execution_count": 65,
   "id": "bca4e1a6",
   "metadata": {},
   "outputs": [],
   "source": [
    "      "
   ]
  },
  {
   "cell_type": "code",
   "execution_count": 63,
   "id": "fb6d6c9a",
   "metadata": {},
   "outputs": [],
   "source": []
  },
  {
   "cell_type": "code",
   "execution_count": null,
   "id": "ec25edac",
   "metadata": {},
   "outputs": [],
   "source": []
  },
  {
   "cell_type": "markdown",
   "id": "5e3bc5d3",
   "metadata": {},
   "source": [
    "# TF-IDF removal"
   ]
  },
  {
   "cell_type": "code",
   "execution_count": 161,
   "id": "2d128dbe",
   "metadata": {},
   "outputs": [],
   "source": [
    "#removing frequently occuring words such as say. removing words that are generic and dont add any meaningful to our topics. \n",
    "\n",
    "texts = data_bigrams_trigrams\n",
    "\n",
    "id2word = corpora.Dictionary(texts)\n",
    "\n",
    "corpus = [id2word.doc2bow(text) for text in texts]\n",
    "\n",
    "#dont know what this is\n",
    "tfidf = TfidfModel(corpus, id2word=id2word)\n",
    "\n",
    "low_value = 0.03\n",
    "words = []\n",
    "words_missing_in_tfidf = []\n",
    "for i in range(0, len(corpus)):\n",
    "    bow = corpus[i]\n",
    "    low_value_words = [] #reinitialize to be safe. You can skip this.\n",
    "    tfidf_ids = [id for id, value in tfidf[bow]]\n",
    "    bow_ids = [id for id, value in bow]\n",
    "    low_value_words = [id for id, value in tfidf[bow] if value < low_value]\n",
    "    drops = low_value_words+words_missing_in_tfidf\n",
    "    for item in drops:\n",
    "        words.append(id2word[item])\n",
    "    words_missing_in_tfidf = [id for id in bow_ids if id not in tfidf_ids] # The words with tf-idf socre 0 will be missing\n",
    "\n",
    "    new_bow = [b for b in bow if b[0] not in low_value_words and b[0] not in words_missing_in_tfidf]\n",
    "    corpus[i] = new_bow\n"
   ]
  },
  {
   "cell_type": "code",
   "execution_count": 162,
   "id": "4569291a",
   "metadata": {},
   "outputs": [
    {
     "data": {
      "text/plain": [
       "[(0, 1),\n",
       " (2, 1),\n",
       " (3, 1),\n",
       " (7, 6),\n",
       " (10, 1),\n",
       " (12, 1),\n",
       " (16, 1),\n",
       " (19, 2),\n",
       " (25, 1),\n",
       " (26, 1),\n",
       " (27, 2),\n",
       " (29, 1),\n",
       " (31, 1),\n",
       " (32, 1),\n",
       " (34, 1),\n",
       " (35, 1),\n",
       " (37, 1),\n",
       " (39, 1),\n",
       " (42, 1),\n",
       " (45, 3),\n",
       " (51, 1),\n",
       " (52, 1),\n",
       " (53, 5),\n",
       " (55, 1),\n",
       " (58, 1),\n",
       " (59, 2),\n",
       " (60, 1),\n",
       " (61, 3),\n",
       " (62, 3),\n",
       " (63, 2),\n",
       " (70, 1),\n",
       " (72, 2),\n",
       " (73, 1),\n",
       " (74, 1),\n",
       " (75, 2),\n",
       " (77, 4),\n",
       " (79, 1),\n",
       " (81, 1),\n",
       " (84, 1),\n",
       " (86, 1),\n",
       " (87, 1),\n",
       " (88, 2),\n",
       " (90, 1),\n",
       " (91, 1),\n",
       " (92, 1),\n",
       " (95, 2),\n",
       " (96, 1),\n",
       " (98, 4),\n",
       " (107, 2),\n",
       " (108, 1),\n",
       " (109, 1),\n",
       " (110, 3),\n",
       " (111, 1),\n",
       " (112, 11),\n",
       " (114, 1),\n",
       " (115, 1),\n",
       " (116, 2),\n",
       " (118, 1),\n",
       " (120, 2),\n",
       " (122, 1),\n",
       " (123, 1),\n",
       " (125, 6),\n",
       " (127, 1),\n",
       " (128, 1),\n",
       " (130, 1),\n",
       " (132, 1),\n",
       " (135, 4),\n",
       " (137, 1),\n",
       " (138, 1),\n",
       " (140, 1),\n",
       " (142, 2),\n",
       " (143, 1),\n",
       " (144, 1),\n",
       " (147, 1),\n",
       " (148, 1),\n",
       " (149, 1),\n",
       " (150, 2),\n",
       " (153, 9),\n",
       " (154, 1),\n",
       " (155, 11),\n",
       " (156, 4),\n",
       " (157, 1),\n",
       " (159, 1),\n",
       " (163, 6),\n",
       " (169, 1),\n",
       " (170, 1),\n",
       " (174, 2),\n",
       " (176, 2),\n",
       " (177, 3),\n",
       " (179, 2),\n",
       " (181, 1),\n",
       " (182, 1),\n",
       " (186, 1),\n",
       " (187, 2),\n",
       " (189, 6),\n",
       " (190, 1),\n",
       " (191, 10),\n",
       " (192, 3),\n",
       " (193, 1),\n",
       " (194, 1),\n",
       " (195, 2),\n",
       " (198, 7),\n",
       " (201, 1),\n",
       " (202, 1),\n",
       " (206, 2),\n",
       " (207, 1),\n",
       " (208, 1),\n",
       " (209, 1),\n",
       " (210, 4),\n",
       " (212, 2),\n",
       " (213, 1),\n",
       " (214, 3),\n",
       " (216, 2),\n",
       " (217, 1),\n",
       " (218, 1),\n",
       " (222, 2),\n",
       " (226, 2),\n",
       " (227, 1),\n",
       " (228, 2),\n",
       " (231, 1),\n",
       " (232, 1),\n",
       " (234, 1),\n",
       " (235, 1),\n",
       " (236, 1),\n",
       " (237, 1),\n",
       " (242, 1),\n",
       " (244, 1),\n",
       " (245, 1),\n",
       " (246, 1),\n",
       " (247, 3),\n",
       " (249, 1),\n",
       " (250, 1),\n",
       " (251, 1),\n",
       " (252, 2),\n",
       " (253, 4),\n",
       " (254, 1),\n",
       " (256, 1),\n",
       " (258, 1),\n",
       " (259, 1),\n",
       " (260, 1),\n",
       " (261, 1),\n",
       " (262, 1),\n",
       " (266, 1),\n",
       " (269, 1),\n",
       " (276, 1),\n",
       " (278, 1),\n",
       " (280, 1),\n",
       " (281, 2),\n",
       " (282, 1),\n",
       " (283, 1),\n",
       " (284, 1),\n",
       " (287, 7),\n",
       " (288, 1),\n",
       " (289, 1),\n",
       " (290, 1),\n",
       " (291, 1),\n",
       " (292, 1),\n",
       " (294, 1),\n",
       " (295, 1),\n",
       " (296, 1),\n",
       " (297, 1),\n",
       " (298, 1),\n",
       " (302, 2),\n",
       " (303, 1),\n",
       " (304, 1),\n",
       " (305, 1),\n",
       " (308, 5),\n",
       " (309, 1),\n",
       " (310, 3),\n",
       " (311, 1),\n",
       " (312, 2),\n",
       " (314, 2),\n",
       " (316, 1),\n",
       " (317, 1),\n",
       " (318, 5),\n",
       " (320, 1),\n",
       " (321, 1),\n",
       " (322, 1),\n",
       " (323, 1),\n",
       " (326, 1),\n",
       " (328, 1),\n",
       " (331, 1),\n",
       " (333, 1),\n",
       " (335, 1),\n",
       " (336, 1),\n",
       " (338, 1),\n",
       " (340, 1),\n",
       " (341, 1),\n",
       " (342, 1),\n",
       " (343, 1),\n",
       " (344, 2),\n",
       " (345, 1),\n",
       " (347, 1),\n",
       " (350, 4),\n",
       " (352, 1),\n",
       " (353, 1),\n",
       " (354, 6),\n",
       " (358, 1),\n",
       " (359, 1),\n",
       " (360, 1),\n",
       " (363, 5)]"
      ]
     },
     "execution_count": 162,
     "metadata": {},
     "output_type": "execute_result"
    }
   ],
   "source": [
    "corpus[0]\n",
    "#first item is index of word, second item is frequency of the word"
   ]
  },
  {
   "cell_type": "code",
   "execution_count": null,
   "id": "6d902322",
   "metadata": {},
   "outputs": [],
   "source": [
    "# so now we have bigrams and trigrams and we have removed those words such as \"say\" that appear all the time. This should make better clustering."
   ]
  },
  {
   "cell_type": "markdown",
   "id": "9b4551b5",
   "metadata": {},
   "source": []
  },
  {
   "cell_type": "code",
   "execution_count": null,
   "id": "54f0e754",
   "metadata": {},
   "outputs": [],
   "source": []
  },
  {
   "cell_type": "code",
   "execution_count": null,
   "id": "83def910",
   "metadata": {},
   "outputs": [],
   "source": []
  },
  {
   "cell_type": "code",
   "execution_count": null,
   "id": "e873441e",
   "metadata": {},
   "outputs": [],
   "source": []
  },
  {
   "cell_type": "code",
   "execution_count": null,
   "id": "e07e285e",
   "metadata": {},
   "outputs": [],
   "source": []
  },
  {
   "cell_type": "markdown",
   "id": "6773f477",
   "metadata": {},
   "source": [
    "# Creating a basic LDA topic model"
   ]
  },
  {
   "cell_type": "code",
   "execution_count": 33,
   "id": "e21d135a",
   "metadata": {},
   "outputs": [],
   "source": [
    "lda_model = gensim.models.ldamodel.LdaModel(corpus = corpus,\n",
    "                                            id2word = id2word,\n",
    "                                            num_topics = 10,\n",
    "                                            random_state = 100,\n",
    "                                            update_every = 1,\n",
    "                                            chunksize = 100,\n",
    "                                            passes = 10,\n",
    "                                            alpha = \"auto\",\n",
    "                                            )"
   ]
  },
  {
   "cell_type": "code",
   "execution_count": 34,
   "id": "e8d189b3",
   "metadata": {},
   "outputs": [
    {
     "name": "stderr",
     "output_type": "stream",
     "text": [
      "C:\\Users\\ah140\\anaconda3\\lib\\site-packages\\pyLDAvis\\_prepare.py:246: FutureWarning: In a future version of pandas all arguments of DataFrame.drop except for the argument 'labels' will be keyword-only\n",
      "  default_term_info = default_term_info.sort_values(\n"
     ]
    },
    {
     "data": {
      "text/html": [
       "\n",
       "<link rel=\"stylesheet\" type=\"text/css\" href=\"https://cdn.jsdelivr.net/gh/bmabey/pyLDAvis@3.3.1/pyLDAvis/js/ldavis.v1.0.0.css\">\n",
       "\n",
       "\n",
       "<div id=\"ldavis_el1282415753084021283775992523\"></div>\n",
       "<script type=\"text/javascript\">\n",
       "\n",
       "var ldavis_el1282415753084021283775992523_data = {\"mdsDat\": {\"x\": [-0.38089864539213714, -0.023261077416960988, -0.2460558932717202, 0.19100651010114272, 0.4424501829236179, 0.304972541512295, 0.11003424257365815, 0.10672921463940815, -0.3762765352604181, -0.12870054040888523], \"y\": [0.09400435962067663, 0.18473434561607238, 0.3180511124131692, -0.15274093148756543, -0.08758046655885132, 0.20212068165316036, 0.42569763805599464, -0.4508691761067917, -0.23472363434167043, -0.2986939288641943], \"topics\": [1, 2, 3, 4, 5, 6, 7, 8, 9, 10], \"cluster\": [1, 1, 1, 1, 1, 1, 1, 1, 1, 1], \"Freq\": [19.104875646287482, 15.496126973213965, 14.581744107296768, 13.524034197780404, 9.343122957252703, 8.641478516354184, 7.8116205407644, 4.279170435963103, 4.275707979011438, 2.9421186460755595]}, \"tinfo\": {\"Term\": [\"woman\", \"afghan\", \"kabul\", \"pakistan\", \"group\", \"airport\", \"people\", \"family\", \"australia\", \"force\", \"uk\", \"afghanistan\", \"work\", \"government\", \"trump\", \"attack\", \"case\", \"isis\", \"evacuation\", \"child\", \"country\", \"war\", \"iran\", \"troop\", \"leave\", \"biden\", \"australian\", \"refugee\", \"say\", \"court\", \"trump\", \"war\", \"biden\", \"world\", \"joe_biden\", \"global\", \"nation\", \"america\", \"obama\", \"history\", \"challenge\", \"democracy\", \"intervention\", \"escalate\", \"require\", \"great\", \"generation\", \"beijing\", \"reality\", \"democratic\", \"bush\", \"inclusive\", \"climate_change\", \"self\", \"actor\", \"fact\", \"era\", \"true\", \"brutal\", \"democrats\", \"russia\", \"west\", \"power\", \"president\", \"economic\", \"mean\", \"china\", \"white_house\", \"policy\", \"way\", \"vision\", \"state\", \"decade\", \"new\", \"political\", \"change\", \"american\", \"western\", \"ally\", \"conflict\", \"iraq\", \"military\", \"britain\", \"pakistan\", \"force\", \"afghanistan\", \"troop\", \"say\", \"border\", \"fighter\", \"mission\", \"army\", \"airlift\", \"pakistani\", \"commander\", \"helmand\", \"drone\", \"hazara\", \"karzai\", \"safe_passage\", \"unit\", \"command\", \"marine\", \"islamabad\", \"provincial_capital\", \"iskp\", \"insurgency\", \"hazaras\", \"president_ashraf_ghani\", \"fighting\", \"sbs\", \"deteriorate\", \"panjshir\", \"kandahar\", \"include\", \"nato\", \"afghan\", \"control\", \"fight\", \"special\", \"militant\", \"official\", \"operation\", \"military\", \"kabul\", \"add\", \"group\", \"insurgent\", \"month\", \"western\", \"british\", \"australia\", \"government\", \"country\", \"foreign\", \"international\", \"raab\", \"effort\", \"election\", \"process\", \"ghani\", \"agreement\", \"eligible\", \"development\", \"cabinet\", \"sydney\", \"amid\", \"negotiation\", \"morrison\", \"concern\", \"international_community\", \"ensure\", \"deadline\", \"ahead\", \"wallace\", \"summit\", \"candidate\", \"detention\", \"ministry_defence\", \"national\", \"resettle\", \"risk\", \"withdrawal\", \"aid\", \"commitment\", \"talk\", \"uk\", \"secretary\", \"meeting\", \"minister\", \"support\", \"australian\", \"situation\", \"defence\", \"office\", \"afghans\", \"british\", \"security\", \"un\", \"plan\", \"need\", \"peace\", \"help\", \"end\", \"leave\", \"afghan\", \"decision\", \"britain\", \"girl\", \"education\", \"school\", \"live\", \"activist\", \"interpreter\", \"lgbtq\", \"university\", \"student\", \"asylum\", \"study\", \"care\", \"hotel\", \"migrant\", \"charity\", \"asylum_seeker\", \"year\", \"parent\", \"climate\", \"age\", \"personnel\", \"yousafzai\", \"scheme\", \"husband\", \"racism\", \"program\", \"teacher\", \"women\", \"adult\", \"class\", \"community\", \"child\", \"refugee\", \"culture\", \"takeover\", \"visa\", \"ban\", \"immigration\", \"muslim\", \"organisation\", \"find\", \"young\", \"help\", \"uk\", \"guardian\", \"covid\", \"johnson\", \"medium\", \"pandemic\", \"putin\", \"yorkshire\", \"boris_johnson\", \"bbc\", \"labour\", \"twitter\", \"nsw\", \"vaccine\", \"bill\", \"chief_executive\", \"channel\", \"page\", \"republicans\", \"coronavirus\", \"brexit\", \"icc\", \"boyle\", \"quarantine\", \"times\", \"greece\", \"app\", \"paper\", \"brisbane\", \"exit\", \"labor\", \"news\", \"journalist\", \"company\", \"party\", \"story\", \"chair\", \"online\", \"write\", \"report\", \"health\", \"email\", \"eu\", \"win\", \"record\", \"allegation\", \"new\", \"europe\", \"airport\", \"evacuation\", \"kill\", \"evacuate\", \"flight\", \"spokesperson\", \"plane\", \"die\", \"fire\", \"lockdown\", \"checkpoint\", \"incident\", \"employee\", \"evacuation_flight\", \"injure\", \"dead\", \"blast\", \"inquest\", \"gunman\", \"wound\", \"vehicle\", \"explosion\", \"contractor\", \"drought\", \"evacuee\", \"ali_jan\", \"injury\", \"aid_worker\", \"attacker\", \"adf\", \"hospital\", \"guard\", \"gate\", \"police\", \"death\", \"attack\", \"suicide\", \"civilian\", \"body\", \"hour\", \"rescue\", \"embassy\", \"soldier\", \"kabul\", \"shoot\", \"target\", \"staff\", \"city\", \"people\", \"report\", \"sunday\", \"day\", \"thursday\", \"isis\", \"syria\", \"qatar\", \"al_qaida\", \"doha\", \"cia\", \"datum\", \"bin_laden\", \"abc\", \"saudi_arabia\", \"iranian\", \"israel\", \"texas\", \"yemen\", \"syrian\", \"multiple\", \"saudi\", \"counter_terrorism\", \"israeli\", \"milley\", \"rumsfeld\", \"iran\", \"affiliate\", \"detainee\", \"hamas\", \"jihadist\", \"al\", \"gulf\", \"suicide_bombing\", \"gaza\", \"terrorist\", \"sudan\", \"islamic\", \"intelligence\", \"group\", \"terrorism\", \"turkey\", \"extremist\", \"network\", \"information\", \"terror\", \"iraq\", \"attack\", \"threat\", \"pentagon\", \"sanction\", \"cricket\", \"social_medium\", \"sport\", \"player\", \"tweet\", \"protester\", \"photo\", \"ceremony\", \"rita\", \"music\", \"athlete\", \"coach\", \"dog\", \"organiser\", \"artist\", \"skin\", \"fan\", \"pair\", \"hussain\", \"baton\", \"cricket_board\", \"tree\", \"di\", \"camera\", \"helmet\", \"teammate\", \"ritchie\", \"depressed\", \"temperature\", \"aboriginal\", \"black\", \"football\", \"play\", \"match\", \"club\", \"game\", \"protest\", \"street\", \"film\", \"wall\", \"image\", \"video\", \"city\", \"england\", \"flag\", \"love\", \"watch\", \"event\", \"woman\", \"man\", \"go\", \"tell\", \"think\", \"know\", \"come\", \"sister\", \"new_zealand\", \"family\", \"daughter\", \"zahra\", \"coleman\", \"safi\", \"joya\", \"kid\", \"rahmani\", \"scared\", \"tampa\", \"diversity\", \"went\", \"captivity\", \"compensation\", \"mental_health_issue\", \"lawsuit\", \"nazari\", \"adelaide\", \"rahman\", \"bashir\", \"bibi\", \"transgender\", \"father\", \"work\", \"wife\", \"son\", \"lot\", \"female\", \"boat\", \"feel\", \"people\", \"life\", \"get\", \"want\", \"happen\", \"time\", \"right\", \"mother\", \"try\", \"like\", \"home\", \"leave\", \"day\", \"ask\", \"australian\", \"case\", \"court\", \"release\", \"torture\", \"roberts_smith\", \"detain\", \"trial\", \"prisoner\", \"charge\", \"prison\", \"lawyer\", \"blackman\", \"sentence\", \"guant\\u00e1namo\", \"jail\", \"scott_morrison\", \"prosecution\", \"sky_news\", \"bergdahl\", \"prosecute\", \"federal_court\", \"limbo\", \"convict\", \"guant\\u00e1namo_bay\", \"contend\", \"expire\", \"mental\", \"harith\", \"deportation\", \"interrogate\", \"evidence\", \"crime\", \"allege\", \"judge\", \"legal\", \"justice\", \"criminal\", \"law\", \"murder\", \"investigation\", \"appeal\", \"claim\", \"accuse\", \"home\", \"office\", \"witness\"], \"Freq\": [9782.0, 16082.0, 14589.0, 10088.0, 9463.0, 7164.0, 6597.0, 4980.0, 7050.0, 7199.0, 9172.0, 7040.0, 4603.0, 6704.0, 7256.0, 6171.0, 3159.0, 3934.0, 3936.0, 5773.0, 4898.0, 5659.0, 3568.0, 4843.0, 4614.0, 5346.0, 4926.0, 5290.0, 4550.0, 2353.0, 7255.359930928527, 5658.89979004007, 5345.370999880303, 3912.571982461279, 1806.8479260914155, 1775.534468845681, 1682.411255872847, 2279.448762686278, 1298.1943819998496, 1080.8866607654095, 1066.9265876870547, 977.2752587613577, 936.1287340358194, 908.0568536103309, 906.0311282730353, 772.2659746639454, 715.3759788511867, 631.5023641003324, 626.9938893918991, 581.6492271249358, 578.3679995801326, 577.5830505250824, 576.3948296651505, 567.4334537047501, 562.2611155528743, 549.3347712068779, 547.1593930036674, 523.1929756570886, 518.6490650648973, 505.1164080646453, 2464.6850838220926, 1815.9740450884938, 2900.6711300768543, 3982.4492556888745, 1303.2181600223144, 1411.7773688442983, 2349.390143122082, 1520.890230828081, 2324.13481705203, 1056.7852644431064, 605.235788448852, 3262.026811524007, 1640.7793479994461, 3076.7561472409375, 1495.3530828102562, 1338.0470026350413, 1866.1849752161957, 2009.1465472040925, 1578.6448934255775, 1175.2448741275416, 1333.5875969991246, 1550.8001981226842, 1334.359589321347, 10087.883906294732, 7198.915625272816, 7039.463047975902, 4842.206303223296, 4549.7630156629, 3144.0956461245923, 2711.858870920611, 2560.2204977139177, 2551.435384758751, 2112.7353379523406, 1995.0340365646919, 1426.1553867741243, 1319.6328744573839, 1309.6642183622937, 1188.4848820274754, 1184.2825905978477, 1086.530925578286, 1030.7067046823133, 1021.8888398022987, 976.4523814624189, 818.50014620737, 769.0396749566214, 703.1758917365065, 678.733290605768, 635.9811817146533, 621.2856125071294, 595.468105830205, 571.9996634332434, 566.2081017328143, 511.4296633031785, 1130.4014536144273, 2791.3930374532088, 4265.112997972719, 13146.252570900822, 2646.655866225517, 2457.1101788459414, 1659.3198850767071, 2443.820494453725, 3669.5408541338165, 2118.8044046861123, 4246.597018026318, 7806.090391725566, 1980.997135577753, 3207.4037662604533, 1279.4475288518565, 1278.4805029470735, 1335.5806983172695, 1300.2156256924275, 7049.303138901197, 6703.998963529397, 4897.05807415965, 3831.7076904983974, 2108.463035071036, 1629.419030468922, 1372.9066038734206, 1310.363468432587, 1285.862422078586, 960.3254287185168, 947.3837742154077, 812.1297470228352, 803.2564818303752, 763.3875533723011, 755.4767566637462, 738.7285182575106, 731.6792329112099, 720.1796527932867, 653.4506889353045, 649.2656151150527, 617.7462616031411, 599.203274051586, 585.4426436218199, 553.8315867291484, 525.4102109187526, 502.16711730714707, 491.64819542990153, 469.45097311709753, 2795.1085606382694, 463.8393140058549, 2379.0123937073677, 1965.9481176760828, 1506.5466674508682, 668.8035982483224, 1980.8862767053083, 7902.12154490566, 1613.2663675922995, 1120.1624753174456, 1933.9992793830806, 1567.9632294405815, 3982.5670198081148, 1799.832268877992, 1692.6259728850791, 2765.226205804645, 4069.1470847958635, 3823.0970250259825, 2386.303229491859, 1695.5088507554142, 1294.2404334130656, 1849.1368357946849, 1771.7064567573386, 1996.3394679743328, 1653.1591254260582, 2202.7318864172107, 2935.420055094911, 1440.40617002542, 1506.671851104465, 3638.3599461182052, 2745.5759799933944, 2718.894036627328, 2273.759445965946, 1974.8240533378444, 1595.3320057399312, 1583.6086707068662, 1492.158936876917, 1329.8199124559126, 1123.7156319628677, 1086.4637245170068, 1062.2869152379324, 1059.9257315113575, 1027.6316394981204, 992.1925930907154, 979.9211563782734, 954.4101173256507, 925.9764586729946, 905.8377737828152, 780.1890735950519, 756.7945615919596, 733.9530871301421, 726.5285931315791, 725.8496542771248, 675.6747763483362, 673.0250288747022, 671.9636712275535, 588.9151795300412, 586.6495820842448, 570.1110190917325, 2079.3435074551994, 5156.469876782858, 4676.676400572216, 955.6223502737894, 1234.9258310563937, 1521.684231374333, 1261.453362981603, 889.0884052855264, 1136.3978502565205, 1374.5691731155118, 1161.230613480914, 1155.7184344545649, 1434.9816179766021, 1103.034149603112, 3195.770666000239, 2687.7600698217393, 2059.184821952757, 1890.7698322878095, 1373.4032323336007, 1324.4791144121202, 1254.0145574871674, 1035.6087952353898, 1008.150097280416, 881.5304830201895, 814.0227144070116, 809.1643411032778, 760.1652041448317, 704.3903823761593, 623.1583542723986, 594.980511817883, 593.3840415658217, 572.7274937529751, 599.3083061118699, 535.6415732651759, 526.9514779559926, 520.0582259982829, 520.1152282516082, 516.9363347313407, 515.7909457035851, 507.677183891416, 500.2208311026426, 476.8686365510678, 476.6872472378076, 473.0299419485597, 1158.661289914308, 1938.495376043387, 957.1718624444624, 1351.1258356264225, 1393.0910981040001, 653.4546956507235, 797.2067952016967, 1046.1872937654505, 1607.247138790899, 924.3782625269289, 777.7263260226372, 807.0285888188637, 738.6801387588754, 662.341143364665, 642.7941545917695, 692.458996437265, 651.898330555466, 7163.571176480724, 3935.540659972767, 3353.3861244049144, 2451.373637229582, 1751.0919922599578, 1314.9917259872739, 1260.2388154723621, 1110.101263594057, 1015.9541660274751, 885.4213037772055, 769.3044381123246, 733.2351438335804, 695.0069028565865, 674.6295603612676, 643.7881236911251, 592.1423942694034, 567.2556662450089, 554.4417922584979, 532.7187797548313, 496.6365404572919, 444.8482275376416, 441.45828016117093, 427.7055392660478, 411.7386352834144, 402.724806868803, 396.40999133657306, 343.11316007213253, 336.66251598814523, 315.083710993856, 307.68365569503794, 1663.0327252051331, 1248.535765316858, 1205.135495066866, 2369.064029722791, 1595.2768963565065, 4404.947565222137, 546.8291797510643, 1825.1648019894128, 1054.8589842958945, 1063.0585004191005, 1018.0305470422098, 1732.9181273275437, 2154.8357368627203, 6237.651922740184, 909.2131185755123, 1209.7199146321577, 1341.4472961440438, 1703.9316412415462, 2293.6396658855356, 1483.8642505217665, 1022.46188587615, 1016.4896661504318, 923.5600593697286, 3933.257161039663, 2367.458174087279, 1909.4273911252524, 1298.0771690934362, 1113.0577106385574, 1094.515203937302, 1033.3608204359937, 907.779270660813, 889.0510657067559, 805.9924584171562, 802.9503942345759, 790.9486021158409, 786.8554960349571, 778.4606924810646, 771.3405857330662, 763.5554715847969, 736.9506650297842, 699.290684901367, 678.1779339595713, 641.1513874221722, 630.1760845225781, 3563.5348332685044, 619.6268578386808, 609.0694611124973, 574.2547407626256, 568.6711551444185, 501.8523366481107, 490.28351421825175, 449.4708339179593, 423.1193412261288, 2933.1033923721725, 967.2134347377964, 1902.4959612913058, 1864.09982631104, 6255.74282673376, 1411.5654392971953, 1288.6476637258127, 1136.7524502566798, 847.4752523941485, 868.5989818302664, 991.5253529669712, 1212.89613800612, 1731.6346754911312, 1137.8228109008066, 835.2966980063627, 785.7456468531127, 1328.144063906659, 1293.2673293507428, 1192.2267662259856, 1126.241118988547, 952.5319432007834, 582.7882446912078, 534.6745766007416, 447.15518865824737, 416.90678644638064, 410.60815563517207, 372.93879467589085, 371.9888438911397, 352.75553979188754, 349.181773331403, 332.8058740133241, 299.32864612355934, 284.8296414448292, 271.759444051504, 265.3020024853446, 263.84326521177627, 260.109242778844, 258.6501558558813, 258.59223060620377, 251.5913173312997, 246.49867390140466, 238.31676152190906, 239.29881012106904, 227.52662782967172, 225.34169207382882, 223.30796802609774, 490.457168262224, 615.4028875249099, 1707.0675974773976, 1127.0326319777014, 908.275280890251, 744.7712986678005, 1994.846205224822, 934.6546027630962, 498.6124839777832, 459.09986465089753, 472.5806669830835, 716.4860146359492, 1092.2971557771355, 546.4505817255181, 352.46498114511496, 373.73333795979704, 365.3600974316685, 374.97776346453844, 9781.677067736744, 2312.459888028559, 1772.2550918308946, 1756.6539687008628, 1665.8620989281296, 1609.3657196328957, 1128.4559611333254, 801.8154460906412, 749.3215489183923, 4973.674723359686, 562.1296389152773, 522.4672737612017, 297.76968445728704, 295.1582631957434, 290.56525855989105, 257.7069919011778, 194.93064534700576, 186.0182133189761, 179.32815968770834, 172.53241105117942, 161.96812773114203, 150.5662499247227, 126.19712286882624, 125.0716736953525, 117.56608224803823, 109.21709683080077, 108.16657512139162, 106.00242447102747, 103.16013019501688, 99.7456667918037, 101.21007132260786, 817.6104443250788, 3839.711628554261, 638.5429353213452, 961.8506339068152, 944.5705952282501, 1010.8511923705806, 485.27814378091864, 1547.1819335627147, 4303.372185789758, 1921.2842107695624, 813.9482451520419, 1686.0083401953764, 898.1215300294358, 595.4200253255573, 2113.566204033978, 885.7969054803025, 1510.9132212152897, 1308.335444415026, 1575.5440632644827, 1861.4765825743796, 1275.6782498101734, 981.2731741596338, 942.9257778480072, 3158.7286142333805, 2352.619296592358, 2007.3949890903157, 1369.0700924073237, 1099.073359963085, 884.9783986951747, 853.4493443391033, 814.6245207955366, 797.5226357317388, 747.0754307691512, 717.215645736348, 644.1798080299488, 518.0197738084565, 435.4665559311197, 424.8742699121118, 394.0335591697963, 375.3244278277881, 311.1890092735804, 306.99282172956924, 223.71555291434487, 220.72766083184493, 209.68699787961114, 204.1787745199132, 203.74475744414772, 203.98240026381652, 182.73139785841963, 181.486481555059, 179.67492784057015, 174.62689303792433, 162.01196660508464, 1072.0032977745025, 1263.5159087362401, 930.7317252503849, 935.48477396328, 850.199016245538, 688.6681849985108, 448.786862281823, 1106.8611465881195, 743.6065635948602, 714.559456745208, 420.6205147252459, 638.0475078292809, 467.6392075593964, 679.7002616949541, 521.1681084501488, 426.69418952570146], \"Total\": [9782.0, 16082.0, 14589.0, 10088.0, 9463.0, 7164.0, 6597.0, 4980.0, 7050.0, 7199.0, 9172.0, 7040.0, 4603.0, 6704.0, 7256.0, 6171.0, 3159.0, 3934.0, 3936.0, 5773.0, 4898.0, 5659.0, 3568.0, 4843.0, 4614.0, 5346.0, 4926.0, 5290.0, 4550.0, 2353.0, 7256.315170113665, 5659.854791278867, 5346.326280178749, 3913.5270550858113, 1807.8034615399433, 1776.4895409289147, 1683.3663791283059, 2280.760181349473, 1299.1492992031408, 1081.8417607190945, 1067.881779033932, 978.2302844508196, 937.0837554052683, 909.012521955654, 906.9864945893172, 773.2210509072476, 716.3311708381447, 632.4574476763324, 627.9490412684135, 582.6042379263152, 579.3229800874701, 578.5384965469424, 577.3500230697443, 568.3885780342265, 563.2163854560978, 550.2898367392438, 548.1145130333155, 524.1481678868507, 519.6043786864292, 506.07145819997027, 2515.727891997284, 1854.2241925526037, 3026.9898670647626, 4300.48353325777, 1344.6153826406116, 1470.9776264503619, 2519.8568847960146, 1600.3175057467622, 2508.16415150409, 1102.26902343498, 608.4277380449149, 3988.2057686535436, 1863.125526735187, 3959.223921812946, 1808.9287990085215, 1686.156338598271, 2906.2551688218505, 3345.532161721642, 2505.405167493048, 1491.7228387173045, 2547.2869674552217, 5798.201986368262, 2990.104873177649, 10088.808933931876, 7199.840655599824, 7040.38811206415, 4843.131351879867, 4550.688182766375, 3145.0209210113126, 2712.784013353656, 2561.145756961654, 2552.360420768179, 2113.6617543903803, 1995.9590159422432, 1427.0804173044296, 1320.557888961485, 1310.589300159879, 1189.4103986399743, 1185.2075467524996, 1087.4577851010165, 1031.6320364295136, 1022.81414234902, 977.3776162729607, 819.4251416225533, 769.9648557426839, 704.120210871569, 679.6583154378293, 636.9065555470701, 622.2167733480338, 596.3932867187385, 572.9283523187797, 567.1337528990741, 512.3555841548126, 1152.8283192825666, 2936.354015644558, 4790.3365171619935, 16082.515047958623, 2983.7060356753336, 2831.2115440326475, 1850.9282794445207, 2864.8124724486265, 4625.623059060565, 2488.511617057169, 5798.201986368262, 14589.41963441509, 2601.8292562415418, 9463.920055834742, 1669.8974387414405, 2026.6752969340375, 3345.532161721642, 5400.268307467649, 7050.296060331555, 6704.991641850232, 4898.050738582237, 3832.7003588420234, 2109.456078166124, 1630.4193204612263, 1373.900008182563, 1311.3560706262929, 1286.8550595691931, 961.3181049506945, 948.3764008570835, 813.1227043101746, 804.2491508338505, 764.3804483197927, 756.4701126927056, 739.721340789535, 732.6718337165215, 721.173352833092, 654.4433559811376, 650.2583564688766, 618.7389288987094, 600.1960388651983, 586.4354672606731, 554.8262134642983, 526.4028785959675, 503.1597082684761, 492.64087062840076, 470.4437908503447, 2801.052085875485, 464.83216419058334, 2465.347226628036, 2043.1561318528452, 1567.8542798598555, 678.0772781569896, 2103.1107779169984, 9172.215024909312, 1724.6307744850046, 1178.0923831101632, 2132.4533160230308, 1698.0163510393886, 4926.417863349328, 2030.9797072511726, 1900.188898241851, 3348.8219662590845, 5820.292505568046, 5400.268307467649, 3119.7278964028574, 2102.478718391888, 1511.7822913227046, 2443.1491417411626, 2499.1023993698636, 3432.218086839005, 2458.372764554264, 4614.783547084285, 16082.515047958623, 1892.0517484412674, 2990.104873177649, 3639.3395433895585, 2746.5555804439928, 2719.8735467700535, 2274.7390746153296, 1975.803968237089, 1596.3118856000212, 1584.6022607473442, 1493.1385963149646, 1330.7994664904277, 1124.6953072636506, 1087.4433559591712, 1063.2667115585148, 1060.9055165783457, 1028.6112612321167, 993.1723126763785, 980.9007461120334, 955.389652425657, 926.9560222829064, 906.8177464204388, 781.1687130729159, 757.7745935002669, 734.9328249085557, 727.5083182342746, 726.8293160970302, 676.654641545739, 674.004828957837, 672.9431956722242, 589.8948384717246, 587.629390873282, 571.0905776162639, 2084.2687143673948, 5773.644434644717, 5290.366992469825, 991.797881810914, 1423.9979143630076, 1903.129102590504, 1498.846110319274, 965.4760611646168, 1389.4355634073802, 1979.1365554668187, 1541.9047427489877, 1625.4201686928427, 3432.218086839005, 9172.215024909312, 3196.7425286247135, 2688.7364427912726, 2060.1566874340183, 1891.741584016858, 1374.3770611519442, 1325.4508976181348, 1254.9887963416477, 1036.5809234822705, 1009.1219724981122, 882.5020614501288, 814.9945875570376, 810.1360144508247, 761.1370507146165, 705.3621164219991, 624.1305052795267, 595.9522537775655, 594.3556966331688, 573.6993219929711, 600.3527468519798, 536.6191107992745, 527.9234166801073, 521.0303760485101, 521.0877992270742, 517.9080053674803, 516.7629900691556, 508.6488431319589, 501.1925739244796, 477.84056230937955, 477.65971181171443, 474.0017522778145, 1235.719148193079, 2283.8148242267325, 1087.9354600220088, 1716.4375526848964, 1795.2596156128589, 722.477081382548, 996.4967030478516, 1751.501026192969, 3998.166477380365, 1822.982232362104, 1352.4527577424722, 1540.8644363794178, 1220.974808516923, 1173.3822311677807, 1172.0459938994916, 3959.223921812946, 1781.5533140423966, 7164.55203507267, 3936.5223283972873, 3354.366626296441, 2452.3546686243376, 1752.0727682516213, 1315.973298216233, 1261.2196979629975, 1111.081851999237, 1016.9347060274871, 886.403901402312, 770.2850375115023, 734.2169061386446, 695.9877850542987, 675.6287088792651, 644.7686486078617, 593.1229952747047, 568.2362372752132, 555.4233512494384, 533.6993566986199, 497.6170389176355, 445.82876722671, 442.43879791972915, 428.6863566253499, 412.71962110259284, 403.70888916645004, 397.3997683296023, 344.09375553277187, 337.64325585440884, 316.06420630887743, 308.66527130006926, 1736.2051479964443, 1293.0760519814003, 1252.513274129075, 2713.111404627938, 1793.0013351476077, 6171.976132390239, 575.506253649799, 2481.013312776302, 1272.8393481284536, 1307.2655821221929, 1249.3873113196346, 2438.875111562838, 3275.4119350493797, 14589.41963441509, 1087.5364424875036, 1845.725827228449, 2208.04938574627, 3671.801486147314, 6597.924631166149, 3998.166477380365, 2040.420541767394, 2552.115148774851, 1972.978150464541, 3934.1809601564837, 2368.3817284912343, 1910.3512172606397, 1299.0007005625475, 1113.9817862588095, 1095.438792931579, 1034.2847971159915, 908.7027876514896, 889.9751116283439, 806.9159737431422, 803.8739443830927, 791.8721143479963, 787.7796720466703, 779.3842134027504, 772.2642690965106, 764.4795694996066, 737.874163981427, 700.2143250968326, 679.1014865441684, 642.0789287827354, 631.1007610077899, 3568.7798232620185, 620.5506654625558, 609.9930544182577, 575.1782702261083, 569.5948188310913, 502.7758846419242, 491.20754419406654, 450.394782104929, 424.0428708443049, 2940.8983659048095, 1001.6571064361827, 2052.187239793353, 2109.773524764453, 9463.920055834742, 1693.2100347737387, 1519.9283795144383, 1321.0582140752322, 948.4534874539391, 1142.331163949859, 1537.9694482070915, 2547.2869674552217, 6171.976132390239, 2369.8880213674975, 1346.4784375447869, 1312.017434335255, 1329.1213404120917, 1294.2449261722013, 1193.2040307783795, 1127.2183966018395, 953.5094703914004, 583.7656376991399, 535.651849610168, 448.132780899526, 417.88638433979713, 411.58535972714117, 373.9162179162678, 372.96609955096505, 353.73290524885533, 350.1592561346346, 333.78323828567903, 300.3063846519264, 285.8068457913579, 272.7370920849933, 266.2793321533295, 264.8213502133675, 261.0868429469624, 259.6273865492081, 259.5704292984066, 252.5686604821339, 247.47673486506912, 239.2941924187833, 240.32258343501798, 228.50584916153804, 226.31907031181566, 224.28537195617838, 497.4234020086177, 637.2494372305839, 1905.9928558454508, 1269.0110736343306, 1026.2687452151872, 849.047135650001, 2729.6669442918374, 1153.6166135244803, 559.5835579504815, 587.9401752049025, 694.9563502443555, 1467.7400464666412, 3671.801486147314, 1179.4186405352098, 563.1722953945651, 722.1155778267065, 658.310491797919, 1006.2251006948494, 9782.684588460903, 2313.4673836466754, 1773.2626785460113, 1757.6614803853254, 1666.8695900694433, 1610.3732068876725, 1129.4634845913813, 802.8230064638163, 750.329563174776, 4980.84944392099, 563.1371568074484, 523.4766859986837, 298.77741495874307, 296.1674905646376, 291.57278483195773, 258.71460303669124, 195.93867887096664, 187.02581514613212, 180.3360410510187, 173.54027547079772, 162.97664969145546, 151.57409873527982, 127.20520083066602, 126.07959486034903, 118.57457503567072, 110.2246322212975, 109.1756471075364, 107.01009558923478, 104.16801281713806, 100.75336082776579, 102.24341172195247, 855.4281417840072, 4603.683676380228, 719.9980876154331, 1128.2369336469844, 1121.1627754535784, 1220.053167251844, 557.3007087109818, 2043.4925534943304, 6597.924631166149, 2693.0881231149488, 1026.6212347452947, 2423.6797062847427, 1182.5343772415338, 733.9717669560928, 3478.348850806309, 1232.0915451028975, 2485.2811017992362, 2253.8544759731562, 3468.636182068426, 4614.783547084285, 2552.115148774851, 1684.7911355070905, 4926.417863349328, 3159.6938539629195, 2353.584402036937, 2008.3601391741888, 1370.0354477244873, 1100.0658607885418, 885.9439195476816, 854.4145268850585, 815.589676276961, 798.4878299342951, 748.0406268123992, 718.1808480854207, 645.1456836383204, 518.9849096692843, 436.4316088852441, 425.83948609706385, 395.00075538319044, 376.28956173584777, 312.15542760546793, 307.9584167754956, 224.6808365501811, 221.69295460686368, 210.65299356667657, 205.14388771404344, 204.70987357991058, 204.95061130453345, 183.69806697025234, 182.45245195788846, 180.64049611789326, 175.5922019085607, 162.97740389026384, 1221.9795593317874, 1502.0613598955456, 1094.3571391405553, 1147.0278212316996, 1048.7864298734808, 872.5159700076782, 540.8260645676006, 1693.5329289695667, 1059.8885941279214, 1105.6551473589611, 671.317939506237, 1860.4564873373308, 927.1260679587174, 3468.636182068426, 3348.8219662590845, 1009.003842623951], \"Category\": [\"Default\", \"Default\", \"Default\", \"Default\", \"Default\", \"Default\", \"Default\", \"Default\", \"Default\", \"Default\", \"Default\", \"Default\", \"Default\", \"Default\", \"Default\", \"Default\", \"Default\", \"Default\", \"Default\", \"Default\", \"Default\", \"Default\", \"Default\", \"Default\", \"Default\", \"Default\", \"Default\", \"Default\", \"Default\", \"Default\", \"Topic1\", \"Topic1\", \"Topic1\", \"Topic1\", \"Topic1\", \"Topic1\", \"Topic1\", \"Topic1\", \"Topic1\", \"Topic1\", \"Topic1\", \"Topic1\", \"Topic1\", \"Topic1\", \"Topic1\", \"Topic1\", \"Topic1\", \"Topic1\", \"Topic1\", \"Topic1\", \"Topic1\", \"Topic1\", \"Topic1\", \"Topic1\", \"Topic1\", \"Topic1\", \"Topic1\", \"Topic1\", \"Topic1\", \"Topic1\", \"Topic1\", \"Topic1\", \"Topic1\", \"Topic1\", \"Topic1\", \"Topic1\", \"Topic1\", \"Topic1\", \"Topic1\", \"Topic1\", \"Topic1\", \"Topic1\", \"Topic1\", \"Topic1\", \"Topic1\", \"Topic1\", \"Topic1\", \"Topic1\", \"Topic1\", \"Topic1\", \"Topic1\", \"Topic1\", \"Topic1\", \"Topic2\", \"Topic2\", \"Topic2\", \"Topic2\", \"Topic2\", \"Topic2\", \"Topic2\", \"Topic2\", \"Topic2\", \"Topic2\", \"Topic2\", \"Topic2\", \"Topic2\", \"Topic2\", \"Topic2\", \"Topic2\", \"Topic2\", \"Topic2\", \"Topic2\", \"Topic2\", \"Topic2\", \"Topic2\", \"Topic2\", \"Topic2\", \"Topic2\", \"Topic2\", \"Topic2\", \"Topic2\", \"Topic2\", \"Topic2\", \"Topic2\", \"Topic2\", \"Topic2\", \"Topic2\", \"Topic2\", \"Topic2\", \"Topic2\", \"Topic2\", \"Topic2\", \"Topic2\", \"Topic2\", \"Topic2\", \"Topic2\", \"Topic2\", \"Topic2\", \"Topic2\", \"Topic2\", \"Topic2\", \"Topic3\", \"Topic3\", \"Topic3\", \"Topic3\", \"Topic3\", \"Topic3\", \"Topic3\", \"Topic3\", \"Topic3\", \"Topic3\", \"Topic3\", \"Topic3\", \"Topic3\", \"Topic3\", \"Topic3\", \"Topic3\", \"Topic3\", \"Topic3\", \"Topic3\", \"Topic3\", \"Topic3\", \"Topic3\", \"Topic3\", \"Topic3\", \"Topic3\", \"Topic3\", \"Topic3\", \"Topic3\", \"Topic3\", \"Topic3\", \"Topic3\", \"Topic3\", \"Topic3\", \"Topic3\", \"Topic3\", \"Topic3\", \"Topic3\", \"Topic3\", \"Topic3\", \"Topic3\", \"Topic3\", \"Topic3\", \"Topic3\", \"Topic3\", \"Topic3\", \"Topic3\", \"Topic3\", \"Topic3\", \"Topic3\", \"Topic3\", \"Topic3\", \"Topic3\", \"Topic3\", \"Topic3\", \"Topic3\", \"Topic3\", \"Topic3\", \"Topic4\", \"Topic4\", \"Topic4\", \"Topic4\", \"Topic4\", \"Topic4\", \"Topic4\", \"Topic4\", \"Topic4\", \"Topic4\", \"Topic4\", \"Topic4\", \"Topic4\", \"Topic4\", \"Topic4\", \"Topic4\", \"Topic4\", \"Topic4\", \"Topic4\", \"Topic4\", \"Topic4\", \"Topic4\", \"Topic4\", \"Topic4\", \"Topic4\", \"Topic4\", \"Topic4\", \"Topic4\", \"Topic4\", \"Topic4\", \"Topic4\", \"Topic4\", \"Topic4\", \"Topic4\", \"Topic4\", \"Topic4\", \"Topic4\", \"Topic4\", \"Topic4\", \"Topic4\", \"Topic4\", \"Topic4\", \"Topic4\", \"Topic4\", \"Topic5\", \"Topic5\", \"Topic5\", \"Topic5\", \"Topic5\", \"Topic5\", \"Topic5\", \"Topic5\", \"Topic5\", \"Topic5\", \"Topic5\", \"Topic5\", \"Topic5\", \"Topic5\", \"Topic5\", \"Topic5\", \"Topic5\", \"Topic5\", \"Topic5\", \"Topic5\", \"Topic5\", \"Topic5\", \"Topic5\", \"Topic5\", \"Topic5\", \"Topic5\", \"Topic5\", \"Topic5\", \"Topic5\", \"Topic5\", \"Topic5\", \"Topic5\", \"Topic5\", \"Topic5\", \"Topic5\", \"Topic5\", \"Topic5\", \"Topic5\", \"Topic5\", \"Topic5\", \"Topic5\", \"Topic5\", \"Topic5\", \"Topic5\", \"Topic5\", \"Topic5\", \"Topic5\", \"Topic6\", \"Topic6\", \"Topic6\", \"Topic6\", \"Topic6\", \"Topic6\", \"Topic6\", \"Topic6\", \"Topic6\", \"Topic6\", \"Topic6\", \"Topic6\", \"Topic6\", \"Topic6\", \"Topic6\", \"Topic6\", \"Topic6\", \"Topic6\", \"Topic6\", \"Topic6\", \"Topic6\", \"Topic6\", \"Topic6\", \"Topic6\", \"Topic6\", \"Topic6\", \"Topic6\", \"Topic6\", \"Topic6\", \"Topic6\", \"Topic6\", \"Topic6\", \"Topic6\", \"Topic6\", \"Topic6\", \"Topic6\", \"Topic6\", \"Topic6\", \"Topic6\", \"Topic6\", \"Topic6\", \"Topic6\", \"Topic6\", \"Topic6\", \"Topic6\", \"Topic6\", \"Topic6\", \"Topic6\", \"Topic6\", \"Topic6\", \"Topic6\", \"Topic6\", \"Topic6\", \"Topic7\", \"Topic7\", \"Topic7\", \"Topic7\", \"Topic7\", \"Topic7\", \"Topic7\", \"Topic7\", \"Topic7\", \"Topic7\", \"Topic7\", \"Topic7\", \"Topic7\", \"Topic7\", \"Topic7\", \"Topic7\", \"Topic7\", \"Topic7\", \"Topic7\", \"Topic7\", \"Topic7\", \"Topic7\", \"Topic7\", \"Topic7\", \"Topic7\", \"Topic7\", \"Topic7\", \"Topic7\", \"Topic7\", \"Topic7\", \"Topic7\", \"Topic7\", \"Topic7\", \"Topic7\", \"Topic7\", \"Topic7\", \"Topic7\", \"Topic7\", \"Topic7\", \"Topic7\", \"Topic7\", \"Topic7\", \"Topic7\", \"Topic7\", \"Topic7\", \"Topic7\", \"Topic8\", \"Topic8\", \"Topic8\", \"Topic8\", \"Topic8\", \"Topic8\", \"Topic8\", \"Topic8\", \"Topic8\", \"Topic8\", \"Topic8\", \"Topic8\", \"Topic8\", \"Topic8\", \"Topic8\", \"Topic8\", \"Topic8\", \"Topic8\", \"Topic8\", \"Topic8\", \"Topic8\", \"Topic8\", \"Topic8\", \"Topic8\", \"Topic8\", \"Topic8\", \"Topic8\", \"Topic8\", \"Topic8\", \"Topic8\", \"Topic8\", \"Topic8\", \"Topic8\", \"Topic8\", \"Topic8\", \"Topic8\", \"Topic8\", \"Topic8\", \"Topic8\", \"Topic8\", \"Topic8\", \"Topic8\", \"Topic8\", \"Topic8\", \"Topic8\", \"Topic8\", \"Topic8\", \"Topic8\", \"Topic9\", \"Topic9\", \"Topic9\", \"Topic9\", \"Topic9\", \"Topic9\", \"Topic9\", \"Topic9\", \"Topic9\", \"Topic9\", \"Topic9\", \"Topic9\", \"Topic9\", \"Topic9\", \"Topic9\", \"Topic9\", \"Topic9\", \"Topic9\", \"Topic9\", \"Topic9\", \"Topic9\", \"Topic9\", \"Topic9\", \"Topic9\", \"Topic9\", \"Topic9\", \"Topic9\", \"Topic9\", \"Topic9\", \"Topic9\", \"Topic9\", \"Topic9\", \"Topic9\", \"Topic9\", \"Topic9\", \"Topic9\", \"Topic9\", \"Topic9\", \"Topic9\", \"Topic9\", \"Topic9\", \"Topic9\", \"Topic9\", \"Topic9\", \"Topic9\", \"Topic9\", \"Topic9\", \"Topic9\", \"Topic9\", \"Topic9\", \"Topic9\", \"Topic9\", \"Topic9\", \"Topic9\", \"Topic10\", \"Topic10\", \"Topic10\", \"Topic10\", \"Topic10\", \"Topic10\", \"Topic10\", \"Topic10\", \"Topic10\", \"Topic10\", \"Topic10\", \"Topic10\", \"Topic10\", \"Topic10\", \"Topic10\", \"Topic10\", \"Topic10\", \"Topic10\", \"Topic10\", \"Topic10\", \"Topic10\", \"Topic10\", \"Topic10\", \"Topic10\", \"Topic10\", \"Topic10\", \"Topic10\", \"Topic10\", \"Topic10\", \"Topic10\", \"Topic10\", \"Topic10\", \"Topic10\", \"Topic10\", \"Topic10\", \"Topic10\", \"Topic10\", \"Topic10\", \"Topic10\", \"Topic10\", \"Topic10\", \"Topic10\", \"Topic10\", \"Topic10\", \"Topic10\", \"Topic10\"], \"logprob\": [30.0, 29.0, 28.0, 27.0, 26.0, 25.0, 24.0, 23.0, 22.0, 21.0, 20.0, 19.0, 18.0, 17.0, 16.0, 15.0, 14.0, 13.0, 12.0, 11.0, 10.0, 9.0, 8.0, 7.0, 6.0, 5.0, 4.0, 3.0, 2.0, 1.0, -4.1208, -4.3693, -4.4263, -4.7383, -5.5109, -5.5284, -5.5823, -5.2786, -5.8415, -6.0247, -6.0377, -6.1255, -6.1685, -6.199, -6.2012, -6.3609, -6.4375, -6.5622, -6.5693, -6.6444, -6.6501, -6.6514, -6.6535, -6.6691, -6.6783, -6.7016, -6.7055, -6.7503, -6.759, -6.7855, -5.2004, -5.5059, -5.0376, -4.7206, -5.8377, -5.7577, -5.2484, -5.6832, -5.2592, -6.0473, -6.6046, -4.9202, -5.6073, -4.9786, -5.7001, -5.8113, -5.4786, -5.4048, -5.6459, -5.941, -5.8146, -5.6637, -5.8141, -3.5818, -3.9192, -3.9416, -4.3158, -4.3781, -4.7476, -4.8955, -4.9531, -4.9565, -5.1452, -5.2025, -5.5382, -5.6158, -5.6234, -5.7205, -5.724, -5.8102, -5.8629, -5.8715, -5.917, -6.0934, -6.1558, -6.2453, -6.2807, -6.3457, -6.3691, -6.4116, -6.4518, -6.4619, -6.5637, -5.7706, -4.8666, -4.4427, -3.317, -4.9199, -4.9942, -5.3867, -4.9996, -4.5931, -5.1423, -4.447, -3.8383, -5.2096, -4.7277, -5.6467, -5.6475, -5.6038, -5.6306, -3.8794, -3.9296, -4.2437, -4.489, -5.0864, -5.3441, -5.5154, -5.562, -5.5809, -5.8728, -5.8864, -6.0404, -6.0514, -6.1023, -6.1127, -6.1352, -6.1447, -6.1606, -6.2578, -6.2642, -6.314, -6.3445, -6.3677, -6.4232, -6.4759, -6.5212, -6.5423, -6.5885, -4.8045, -6.6006, -4.9657, -5.1564, -5.4225, -6.2346, -5.1488, -3.7652, -5.3541, -5.7189, -5.1727, -5.3826, -4.4504, -5.2446, -5.3061, -4.8152, -4.4289, -4.4913, -4.9626, -5.3044, -5.5744, -5.2176, -5.2604, -5.141, -5.3296, -5.0426, -4.7555, -5.4674, -5.4224, -4.4655, -4.747, -4.7568, -4.9356, -5.0766, -5.29, -5.2973, -5.3568, -5.472, -5.6404, -5.6741, -5.6966, -5.6988, -5.7298, -5.7649, -5.7773, -5.8037, -5.8339, -5.8559, -6.0053, -6.0357, -6.0663, -6.0765, -6.0774, -6.1491, -6.153, -6.1546, -6.2865, -6.2904, -6.319, -5.025, -4.1168, -4.2144, -5.8024, -5.546, -5.3372, -5.5248, -5.8746, -5.6292, -5.4389, -5.6076, -5.6123, -5.3959, -5.659, -4.2254, -4.3985, -4.6649, -4.7502, -5.0699, -5.1062, -5.1609, -5.3522, -5.3791, -5.5133, -5.593, -5.599, -5.6614, -5.7376, -5.8602, -5.9064, -5.9091, -5.9446, -5.8992, -6.0115, -6.0279, -6.041, -6.0409, -6.047, -6.0493, -6.0651, -6.0799, -6.1277, -6.1281, -6.1358, -5.2399, -4.7253, -5.431, -5.0863, -5.0557, -5.8127, -5.6138, -5.3421, -4.9127, -5.4658, -5.6386, -5.6016, -5.6901, -5.7992, -5.8291, -5.7547, -5.8151, -3.3401, -3.9391, -4.0992, -4.4125, -4.7489, -5.0353, -5.0778, -5.2047, -5.2933, -5.4308, -5.5714, -5.6194, -5.673, -5.7027, -5.7495, -5.8331, -5.8761, -5.8989, -5.9389, -6.009, -6.1192, -6.1268, -6.1585, -6.1965, -6.2186, -6.2344, -6.3788, -6.3978, -6.4641, -6.4878, -4.8005, -5.0872, -5.1225, -4.4466, -4.8421, -3.8264, -5.9128, -4.7075, -5.2557, -5.248, -5.2913, -4.7593, -4.5414, -3.4785, -5.4043, -5.1188, -5.0154, -4.7762, -4.479, -4.9145, -5.2869, -5.2928, -5.3887, -3.8387, -4.3464, -4.5614, -4.9473, -5.1011, -5.1179, -5.1754, -5.3049, -5.3258, -5.4239, -5.4276, -5.4427, -5.4479, -5.4586, -5.4678, -5.4779, -5.5134, -5.5659, -5.5965, -5.6527, -5.6699, -3.9374, -5.6868, -5.704, -5.7629, -5.7726, -5.8976, -5.9209, -6.0079, -6.0683, -4.1321, -5.2415, -4.565, -4.5854, -3.3747, -4.8635, -4.9546, -5.08, -5.3737, -5.3491, -5.2167, -5.0152, -4.6591, -5.0791, -5.3881, -5.4493, -4.3225, -4.3492, -4.4305, -4.4874, -4.655, -5.1463, -5.2324, -5.4112, -5.4812, -5.4964, -5.5927, -5.5952, -5.6483, -5.6585, -5.7065, -5.8125, -5.8622, -5.9092, -5.9332, -5.9387, -5.953, -5.9586, -5.9588, -5.9863, -6.0067, -6.0405, -6.0364, -6.0868, -6.0965, -6.1055, -5.3187, -5.0918, -4.0715, -4.4867, -4.7025, -4.901, -3.9158, -4.6739, -5.3023, -5.3848, -5.3559, -4.9397, -4.518, -5.2106, -5.6491, -5.5905, -5.6132, -5.5872, -2.325, -3.7672, -4.0333, -4.0421, -4.0952, -4.1297, -4.4847, -4.8264, -4.8941, -3.0014, -5.1815, -5.2547, -5.817, -5.8258, -5.8414, -5.9614, -6.2406, -6.2874, -6.3241, -6.3627, -6.4259, -6.4989, -6.6754, -6.6844, -6.7463, -6.8199, -6.8296, -6.8498, -6.877, -6.9106, -6.8961, -4.8069, -3.2601, -5.0541, -4.6444, -4.6625, -4.5947, -5.3285, -4.1691, -3.1461, -3.9525, -4.8114, -4.0832, -4.713, -5.124, -3.8571, -4.7268, -4.1928, -4.3368, -4.1509, -3.9841, -4.362, -4.6244, -4.6643, -3.0815, -3.3762, -3.5349, -3.9176, -4.1372, -4.3539, -4.3902, -4.4367, -4.4579, -4.5233, -4.5641, -4.6715, -4.8894, -5.063, -5.0877, -5.163, -5.2117, -5.3991, -5.4126, -5.7291, -5.7425, -5.7938, -5.8205, -5.8226, -5.8214, -5.9314, -5.9383, -5.9483, -5.9768, -6.0518, -4.1622, -3.9978, -4.3035, -4.2984, -4.394, -4.6047, -5.0329, -4.1302, -4.5279, -4.5678, -5.0977, -4.681, -4.9918, -4.6178, -4.8834, -5.0834], \"loglift\": [30.0, 29.0, 28.0, 27.0, 26.0, 25.0, 24.0, 23.0, 22.0, 21.0, 20.0, 19.0, 18.0, 17.0, 16.0, 15.0, 14.0, 13.0, 12.0, 11.0, 10.0, 9.0, 8.0, 7.0, 6.0, 5.0, 4.0, 3.0, 2.0, 1.0, 1.6551, 1.6551, 1.655, 1.655, 1.6547, 1.6547, 1.6547, 1.6547, 1.6545, 1.6543, 1.6543, 1.6542, 1.6542, 1.6542, 1.6542, 1.654, 1.6539, 1.6537, 1.6537, 1.6536, 1.6536, 1.6536, 1.6536, 1.6535, 1.6535, 1.6535, 1.6535, 1.6534, 1.6534, 1.6533, 1.6347, 1.6344, 1.6126, 1.5784, 1.624, 1.6141, 1.5852, 1.6043, 1.579, 1.6131, 1.65, 1.4542, 1.5281, 1.4031, 1.4649, 1.424, 1.2123, 1.1453, 1.1933, 1.4168, 1.0081, 0.3364, 0.8484, 1.8645, 1.8645, 1.8644, 1.8644, 1.8644, 1.8643, 1.8642, 1.8642, 1.8642, 1.8641, 1.8641, 1.8639, 1.8639, 1.8639, 1.8638, 1.8638, 1.8637, 1.8637, 1.8637, 1.8636, 1.8635, 1.8634, 1.8632, 1.8632, 1.8631, 1.8631, 1.863, 1.863, 1.8629, 1.8628, 1.8449, 1.814, 1.7484, 1.663, 1.7447, 1.7229, 1.7553, 1.7056, 1.633, 1.7037, 1.5532, 1.2392, 1.592, 0.7826, 1.5982, 1.4039, 0.9463, 0.4407, 1.9253, 1.9253, 1.9252, 1.9251, 1.9249, 1.9248, 1.9247, 1.9246, 1.9246, 1.9244, 1.9244, 1.9242, 1.9242, 1.9241, 1.9241, 1.9241, 1.924, 1.924, 1.9239, 1.9239, 1.9238, 1.9237, 1.9237, 1.9236, 1.9235, 1.9234, 1.9234, 1.9233, 1.9233, 1.9233, 1.8898, 1.8869, 1.8855, 1.9116, 1.8655, 1.7764, 1.8586, 1.875, 1.8277, 1.8457, 1.7127, 1.8046, 1.8097, 1.7339, 1.5675, 1.58, 1.6574, 1.7103, 1.77, 1.6468, 1.5814, 1.3835, 1.5286, 1.1858, 0.2245, 1.6527, 1.24, 2.0004, 2.0003, 2.0003, 2.0003, 2.0002, 2.0001, 2.0001, 2.0, 2.0, 1.9998, 1.9998, 1.9998, 1.9998, 1.9997, 1.9997, 1.9997, 1.9997, 1.9996, 1.9996, 1.9994, 1.9994, 1.9994, 1.9994, 1.9994, 1.9993, 1.9992, 1.9992, 1.999, 1.999, 1.999, 1.9983, 1.8877, 1.8774, 1.9635, 1.8582, 1.777, 1.8283, 1.9183, 1.7997, 1.6362, 1.7172, 1.6597, 1.1286, -0.1174, 2.3702, 2.3702, 2.3701, 2.37, 2.3698, 2.3698, 2.3698, 2.3696, 2.3696, 2.3694, 2.3693, 2.3693, 2.3693, 2.3692, 2.369, 2.3689, 2.3689, 2.3688, 2.3688, 2.3687, 2.3687, 2.3687, 2.3687, 2.3687, 2.3686, 2.3686, 2.3686, 2.3685, 2.3685, 2.3685, 2.3061, 2.2066, 2.2425, 2.1312, 2.1169, 2.2701, 2.1474, 1.8552, 1.4592, 1.6914, 1.8172, 1.7238, 1.868, 1.7987, 1.7698, 0.627, 1.3652, 2.4485, 2.4483, 2.4483, 2.4482, 2.448, 2.4479, 2.4478, 2.4477, 2.4476, 2.4475, 2.4473, 2.4473, 2.4472, 2.4471, 2.4471, 2.4469, 2.4469, 2.4468, 2.4468, 2.4466, 2.4464, 2.4464, 2.4463, 2.4462, 2.4462, 2.4461, 2.4457, 2.4457, 2.4455, 2.4454, 2.4055, 2.4135, 2.41, 2.313, 2.3318, 2.1113, 2.3975, 2.1416, 2.2608, 2.2418, 2.2438, 2.1069, 2.0299, 1.5989, 2.2695, 2.0261, 1.9502, 1.6809, 1.392, 1.4574, 1.7577, 1.528, 1.6895, 2.5493, 2.5492, 2.5491, 2.5488, 2.5487, 2.5487, 2.5487, 2.5485, 2.5485, 2.5484, 2.5484, 2.5484, 2.5484, 2.5484, 2.5484, 2.5483, 2.5483, 2.5482, 2.5482, 2.5481, 2.5481, 2.5481, 2.5481, 2.548, 2.548, 2.5479, 2.5477, 2.5477, 2.5475, 2.5474, 2.5469, 2.5146, 2.4738, 2.4258, 2.1356, 2.3676, 2.3845, 2.3993, 2.437, 2.2756, 2.1106, 1.8075, 1.2786, 1.8158, 2.0721, 2.0369, 3.1507, 3.1507, 3.1506, 3.1505, 3.1504, 3.1497, 3.1496, 3.1492, 3.1491, 3.149, 3.1488, 3.1488, 3.1486, 3.1486, 3.1485, 3.1481, 3.148, 3.1478, 3.1477, 3.1477, 3.1477, 3.1476, 3.1476, 3.1475, 3.1475, 3.1473, 3.1471, 3.1471, 3.1471, 3.147, 3.1373, 3.1165, 3.0412, 3.0328, 3.0293, 3.0204, 2.8378, 2.9409, 3.036, 2.9041, 2.7658, 2.4343, 1.939, 2.3821, 2.6828, 2.4928, 2.5626, 2.1643, 3.1521, 3.1518, 3.1517, 3.1516, 3.1516, 3.1516, 3.1513, 3.151, 3.1509, 3.1508, 3.1504, 3.1503, 3.1488, 3.1488, 3.1488, 3.1483, 3.1471, 3.1468, 3.1466, 3.1464, 3.146, 3.1455, 3.1443, 3.1442, 3.1437, 3.143, 3.1429, 3.1428, 3.1425, 3.1422, 3.1421, 3.107, 2.9708, 3.0322, 2.9927, 2.9808, 2.9641, 3.0138, 2.874, 2.7249, 2.8145, 2.9201, 2.7893, 2.8771, 2.943, 2.654, 2.8222, 2.6545, 2.6083, 2.3631, 2.2443, 2.4588, 2.6117, 1.4988, 3.5257, 3.5256, 3.5256, 3.5253, 3.5251, 3.5249, 3.5249, 3.5249, 3.5248, 3.5247, 3.5247, 3.5245, 3.5242, 3.5238, 3.5238, 3.5236, 3.5235, 3.5229, 3.5229, 3.5217, 3.5217, 3.5214, 3.5213, 3.5213, 3.5213, 3.5208, 3.5207, 3.5207, 3.5205, 3.5201, 3.3951, 3.3531, 3.3641, 3.3222, 3.3161, 3.2894, 3.3395, 3.1008, 3.1716, 3.0895, 3.0585, 2.4559, 2.8416, 1.8962, 1.6657, 2.6654]}, \"token.table\": {\"Topic\": [7, 8, 2, 3, 5, 7, 10, 4, 1, 2, 5, 9, 6, 4, 7, 2, 3, 2, 2, 3, 4, 6, 4, 3, 3, 3, 6, 6, 2, 6, 7, 7, 6, 5, 7, 2, 6, 7, 10, 1, 2, 1, 7, 1, 2, 7, 3, 5, 3, 4, 10, 2, 8, 1, 5, 9, 4, 4, 8, 2, 6, 7, 6, 3, 3, 9, 3, 4, 5, 9, 8, 5, 1, 10, 9, 1, 5, 7, 8, 9, 10, 6, 3, 6, 9, 6, 9, 2, 5, 5, 5, 5, 1, 3, 4, 5, 2, 3, 6, 10, 1, 1, 3, 8, 3, 9, 4, 10, 8, 4, 5, 1, 1, 4, 5, 10, 4, 6, 5, 4, 6, 1, 5, 7, 2, 6, 8, 1, 2, 6, 2, 5, 6, 7, 10, 4, 4, 1, 5, 8, 8, 9, 9, 2, 2, 1, 3, 3, 4, 5, 6, 9, 9, 3, 1, 3, 6, 10, 6, 1, 2, 10, 5, 7, 3, 10, 5, 8, 8, 1, 4, 10, 1, 6, 10, 1, 4, 7, 9, 6, 8, 9, 6, 3, 1, 4, 6, 10, 1, 3, 4, 1, 3, 10, 1, 3, 6, 1, 1, 1, 10, 8, 10, 7, 3, 2, 3, 8, 6, 9, 8, 7, 2, 6, 1, 3, 4, 3, 3, 3, 4, 5, 2, 6, 7, 6, 1, 3, 4, 5, 8, 3, 1, 1, 3, 5, 1, 5, 6, 6, 6, 6, 1, 3, 8, 7, 10, 5, 10, 6, 2, 4, 7, 1, 6, 9, 8, 4, 9, 10, 1, 4, 9, 4, 9, 1, 2, 2, 2, 5, 8, 4, 6, 6, 2, 7, 8, 6, 5, 8, 2, 3, 1, 8, 6, 8, 7, 1, 3, 5, 9, 3, 4, 1, 9, 3, 1, 5, 2, 7, 10, 10, 6, 7, 5, 7, 6, 7, 2, 4, 9, 10, 2, 2, 1, 5, 6, 2, 8, 3, 4, 1, 3, 4, 6, 9, 10, 5, 6, 9, 4, 5, 6, 9, 4, 8, 5, 1, 4, 8, 3, 4, 6, 2, 10, 1, 6, 7, 10, 6, 6, 6, 2, 2, 6, 2, 7, 3, 3, 4, 10, 1, 6, 10, 3, 7, 7, 1, 7, 7, 2, 2, 4, 7, 7, 7, 10, 7, 1, 5, 2, 5, 6, 9, 3, 5, 10, 1, 10, 2, 6, 9, 2, 6, 2, 9, 6, 9, 5, 5, 3, 4, 9, 10, 9, 10, 1, 2, 3, 6, 9, 3, 10, 4, 4, 9, 1, 8, 9, 10, 4, 6, 1, 3, 4, 9, 4, 8, 9, 9, 2, 3, 8, 1, 3, 5, 2, 3, 10, 9, 4, 2, 7, 1, 2, 7, 3, 5, 3, 2, 2, 3, 6, 3, 4, 9, 7, 4, 10, 8, 4, 7, 1, 1, 3, 1, 2, 9, 1, 3, 3, 2, 7, 1, 3, 5, 9, 5, 6, 5, 1, 3, 4, 6, 10, 2, 3, 7, 4, 5, 2, 6, 7, 1, 3, 4, 6, 8, 5, 8, 2, 2, 5, 2, 5, 4, 3, 5, 8, 1, 2, 3, 1, 2, 7, 6, 9, 4, 8, 1, 3, 5, 7, 6, 3, 8, 8, 5, 6, 10, 1, 3, 1, 3, 1, 3, 1, 3, 2, 10, 10, 3, 4, 10, 10, 2, 4, 8, 10, 8, 2, 5, 7, 5, 3, 4, 9, 9, 1, 1, 3, 5, 6, 3, 4, 10, 2, 5, 6, 7, 5, 1, 1, 5, 6, 3, 1, 4, 9, 10, 1, 3, 8, 8, 10, 7, 1, 5, 2, 9, 1, 3, 7, 7, 7, 2, 2, 9, 4, 4, 10, 3, 5, 2, 3, 6, 1, 10, 6, 8, 9, 9, 3, 6, 8, 10, 8, 2, 6, 4, 6, 7, 9, 10, 2, 5, 6, 8, 3, 5, 6, 1, 7, 4, 5, 2, 4, 6, 8, 4, 4, 1, 7, 2, 6, 7, 7, 3, 2, 5, 6, 1, 2, 3, 3, 7, 7, 4, 5, 3, 9, 9, 2, 6, 7, 4, 8, 9, 8, 1, 7, 1, 7, 1, 7, 7, 9, 1, 3, 7, 2, 3, 5, 6, 1, 9, 5, 10, 9, 8, 10, 2, 1, 1, 1, 2, 6, 9, 10, 1, 3, 7, 8, 5, 3, 4, 5, 3, 6, 2, 4, 5, 6, 7, 8, 3, 4, 1, 4, 2, 6, 8, 3, 1, 3, 9, 1, 2, 8, 9, 1, 4, 9, 1, 2, 1, 2, 1, 7, 4, 9, 10, 1, 5, 1, 2, 3, 1, 6, 10, 9, 4, 3, 6, 9, 1, 6, 4, 5, 4, 7, 5, 4, 9, 4, 9], \"Freq\": [0.9989043383173268, 0.9942690334863679, 0.263178879801344, 0.06795192388313391, 0.051772894387149646, 0.11325320647188986, 0.504785720274709, 0.9995930931155046, 0.9978402875209095, 0.7613873951366212, 0.2382938843940965, 0.9892315993659427, 0.9978446836689233, 0.9989289322776271, 0.9991126180452239, 0.817409463681406, 0.18249633165258838, 0.9998028358604589, 0.17902880293441598, 0.6991057573321868, 0.015291327697853189, 0.10635204320192274, 0.998503891600678, 0.998548676605787, 0.99755221615879, 0.9611862654319538, 0.03826886259184952, 0.9980948653845282, 0.9996869156623543, 0.9999229491153155, 0.9984567982164124, 0.999229638165619, 0.9964776820694033, 0.5486132825390982, 0.4504942662218412, 0.08589517684676701, 0.02284446192733165, 0.0402062529921037, 0.8507277621738306, 0.6302373845504498, 0.3696008980960839, 0.9992282479482646, 0.0004384503062519809, 0.6420633742068996, 0.14554812823661228, 0.21195661227837628, 0.999024847939678, 0.9987243790274569, 0.21599303618587842, 0.15640875034149818, 0.6271246085121022, 0.9994669950383537, 0.9976534523132384, 0.03501917760401921, 0.3816496813454975, 0.5822680208397093, 0.9993817816619665, 0.999081715336028, 0.997549670561567, 0.0056707931542900256, 0.7137098241327875, 0.2806232498065807, 0.996632942650148, 0.9998161693749504, 0.8084982050816278, 0.19141697398744037, 0.07605850875225376, 0.8413138555841403, 0.08206312786427379, 0.9887872218587058, 0.9968984743386221, 0.9988881695883256, 0.999276713906978, 0.9968878370478366, 0.9925227226012477, 0.9997519268168003, 0.9980689118535193, 0.9992266033943772, 0.9850762911864587, 0.012062158667589291, 0.9982241474020886, 0.9978244307664341, 0.11125053141131645, 0.016149270688739486, 0.8702662537820722, 0.8288555830327227, 0.17048498722094863, 0.9996753849856794, 0.9994395772977194, 0.998022426146582, 0.9988462751571551, 0.998240914699001, 0.4461381980165563, 0.5039957004579838, 0.004013237163567223, 0.0458177909507258, 0.24072877975383594, 0.7079277884607037, 0.029628157508164422, 0.021665590177845234, 0.9988368483576735, 0.9977163341815469, 0.9981940297886647, 0.9977484915149474, 0.9976951487779755, 0.9962124219106692, 0.9988086605695968, 0.9997804046863434, 0.9974722204047377, 0.09412063268480947, 0.9038348991644204, 0.999174272797566, 0.7935207248411502, 0.20579349141993955, 0.9984021307553929, 0.9993890577714438, 0.9988196281134546, 0.9983317376699231, 0.9981886716480548, 0.8930234721524337, 0.10669171040455763, 0.932195798171353, 0.06746414886723287, 0.9995994363770844, 0.23830264334853932, 0.4640773763038983, 0.29740169889897705, 0.08020916251243938, 0.1841989309959035, 0.7355865406291551, 0.3864642924431017, 0.06557530414194494, 0.06987532408567904, 0.13491312573465722, 0.342926590512794, 0.9980903596399437, 0.9990982240657875, 0.9976616904550097, 0.11400522577102115, 0.8847585042742496, 0.9974096853517567, 0.9973980129694529, 0.9987042656877829, 0.9992040173133017, 0.9992429177141465, 0.011798065290941406, 0.9866132099549751, 0.0019191383397097418, 0.9974721520641383, 0.8796477687937849, 0.10846231631940086, 0.011030066066379749, 0.9905255380849532, 0.9977945287885553, 0.7876798353575879, 0.1501619430809359, 0.06100328937663021, 0.9953617542368735, 0.9983989305590386, 0.11261162996037227, 0.887151739598528, 0.9944239736957801, 0.9977467466267572, 0.9982657808426518, 0.9997854782160667, 0.9997516970131043, 0.9997261007886262, 0.9991563295404285, 0.995837235861084, 0.11384355164551431, 0.04460536818859333, 0.8415102297071935, 0.13682772493438206, 0.03143339626870939, 0.8302114661559127, 0.03528944822517048, 0.9639060715217994, 0.9987577917421062, 0.9979806752339072, 0.39810115953730896, 0.10148444913401872, 0.49997744052126597, 0.998106640134253, 0.9980072529844422, 0.007808136963181602, 0.026213031233538235, 0.8895698897339039, 0.07640819742541996, 0.8807780133180697, 0.10466283522061157, 0.013955044696081543, 0.09037807773538713, 0.7610785493506285, 0.14798749570706665, 0.062099089258536064, 0.8909640518195047, 0.046837448678048385, 0.9987423365741429, 0.9989628672656657, 0.9978827926716489, 0.9966274020023447, 0.9977862747785488, 0.9989345606117331, 0.9983720234008161, 0.9986991119360777, 0.9980009073815858, 0.9984468111249413, 0.9978024103132686, 0.9990263075602484, 0.9968867430379951, 0.9979280829179866, 0.9991186693795895, 0.9995503548214477, 0.9982563923162404, 0.9690503446726263, 0.030491990891464066, 0.9997977173853868, 0.9993449245380285, 0.998965902048522, 0.9986192682798999, 0.42441408523439045, 0.5752511468856373, 0.12505765406107866, 0.7105734901240961, 0.16401003811289006, 0.9985807436919003, 0.3270456017054745, 0.6723959945511807, 0.08817903704896993, 0.4476781880947704, 0.4629399445070921, 0.9988057501084914, 0.9979666419939373, 0.9988861298043775, 0.475707001014532, 0.5237319915671587, 0.6337166511386999, 0.3659727693024201, 0.9994476049318358, 0.9998673122228929, 0.9990694461750922, 0.9982440585642944, 0.5744241518134081, 0.05167829739497789, 0.3726800292907059, 0.12193329983480032, 0.8772650833752077, 0.9986188665374096, 0.9961999220690472, 0.9967480294981043, 0.11203139908834603, 0.02649391194656832, 0.8606736538070908, 0.9976560774829374, 0.0012046138048446454, 0.9986248442162111, 0.9971769542848988, 0.04325319473689045, 0.9562463052642268, 0.9968742596800493, 0.04648903654557094, 0.19623267005025205, 0.7570372582736656, 0.17048437361833801, 0.828652412154518, 0.13174571881997768, 0.8678263569455366, 0.9997109930795092, 0.9976638122028433, 0.1072225928505739, 0.8917345638739396, 0.7529648024365688, 0.24644842801541442, 0.9990808593492316, 0.25569439615120254, 0.1171932649026345, 0.625030746147384, 0.9993877147849904, 0.0329541287494324, 0.9650851990905202, 0.9998832396937605, 0.9998172675199073, 0.12131246390831621, 0.8774542292397629, 0.9620656522286257, 0.03672615767843716, 0.9975406476184154, 0.9981416823777373, 0.0915624933701293, 0.11494015125186444, 0.7928922298221834, 0.9986288566251833, 0.999631926789576, 0.9997244335428742, 0.9992879348551752, 0.9998521039393932, 0.9984208255765736, 0.9985235202910844, 0.33886592248027336, 0.661036860316991, 0.9967197406051758, 0.9965322943759551, 0.9659137976348244, 0.034027387586815276, 0.9997677233564903, 0.9975416823126204, 0.9986896055057176, 0.9979514695058888, 0.23255137887955962, 0.0067651310219508255, 0.7593859572139802, 0.9964543049224397, 0.998814203540185, 0.9985766270747655, 0.1459147518159484, 0.5068617694659261, 0.3466846734875165, 0.9995775353991305, 0.9940328335676715, 0.5815481270417378, 0.4180969751026522, 0.9992219188150632, 0.09283187486327382, 0.16404141862485344, 0.09283187486327382, 0.45435725088360107, 0.19604246865536087, 0.010367438445146726, 0.957836118571056, 0.03110231533544018, 0.999146468215882, 0.051252018653496045, 0.8131476989353179, 0.1346321684032135, 0.998858994706648, 0.9951955259051317, 0.9982508510686754, 0.20289044045776777, 0.11511514352213774, 0.6806182860746394, 0.07768188463371155, 0.9207892725249276, 0.9983425795177552, 0.9504984702559268, 0.04904040835430078, 0.9990692122474883, 0.15056929673989852, 0.7607251096916966, 0.08841569169028925, 0.9988078691333375, 0.9968213444295775, 0.9974373579248397, 0.9990314023636933, 0.7659153013396739, 0.23354727718723442, 0.11612620839355407, 0.8835071528391216, 0.9993097376232694, 0.9980648361434217, 0.999178177139533, 0.9940028257480286, 0.9988434807465, 0.3527320439212706, 0.6466754138556627, 0.0011208312639314991, 0.9986606561629656, 0.998912834046682, 0.5236944313866161, 0.47619291249772516, 0.9996998205805875, 0.9984090630345883, 0.9994811708831494, 0.07260546070591672, 0.9268160151855948, 0.9988986676861145, 0.9983780236592122, 0.9980286325611606, 0.9989557158677953, 0.9995555592424528, 0.9994385439510143, 0.06524171680619917, 0.8485801823517717, 0.08582131875177876, 0.9980355339669721, 0.1612864104737613, 0.022667279309825913, 0.8151502367187395, 0.20973828135018502, 0.7896703598375818, 0.5350452722318281, 0.4275701265926395, 0.037355838248314926, 0.980197988806544, 0.01908350066703006, 0.9989811516507734, 0.9972378712747425, 0.999592582907984, 0.9991472741338472, 0.9978866063827811, 0.9994310931701351, 0.03129552375001527, 0.30350753221712923, 0.010628668443401414, 0.6536631092691869, 0.9951543150334052, 0.9983557789259228, 0.05915770419448752, 0.011051439245124042, 0.4773788364119268, 0.04897304449800066, 0.40326918500344794, 0.1887896280502843, 0.8104605244582912, 0.999619929390319, 0.286288440910068, 0.7133075161974587, 0.30081800188419755, 0.11846372640572382, 0.5803391540774785, 0.9969001458008244, 0.9996750947730325, 0.9984161831868169, 0.048164281924320686, 0.10168015072912145, 0.007135449173973435, 0.8428749336756121, 0.19941406115816707, 0.5179226310635728, 0.28250325330740333, 0.9993657210570385, 0.9985904974187827, 0.11111014153421768, 0.8880931170855555, 0.9599058303879974, 0.0394295596051727, 0.9996079887321166, 0.048383302376949454, 0.9506894502137436, 0.9920392850723448, 0.9914371959907958, 0.9994057412599348, 0.8531099412280387, 0.14660645471185607, 0.2674967177146373, 0.7324684462502028, 0.9983196321598953, 0.9069366187142887, 0.09285080170911539, 0.9969310024312681, 0.9995526389083714, 0.6305894199891633, 0.2955579519354529, 0.07302600481877634, 0.9983729947474035, 0.28001166096078317, 0.7191024104674025, 0.9993726850020067, 0.2972010471149401, 0.7019605684238586, 0.9985777926417762, 0.8175981887307765, 0.18136861228886944, 0.9991883055612567, 0.0017850435645994857, 0.9978393526111125, 0.10938688714721877, 0.8903341100818475, 0.988889668338028, 0.24271952533253285, 0.7568101219896345, 0.9990830359710792, 0.10543479603669696, 0.8930327224308233, 0.7771725117762543, 0.047736628120153425, 0.17478172835527073, 0.9982280277360386, 0.9379153844906741, 0.06150264816332289, 0.9985977484884501, 0.9991153447845865, 0.8256634804294292, 0.0029861247031805756, 0.015527848456538993, 0.155577097035708, 0.7934066293645108, 0.12711801037229764, 0.07934066293645108, 0.1986960914114455, 0.7998019437117276, 0.8515130029836303, 0.12457245442422152, 0.02370895100331958, 0.009600146057389392, 0.25465650594338174, 0.6947474120479165, 0.040421667610060594, 0.9966893460209179, 0.9977190483058405, 0.9972974263259959, 0.999919818688492, 0.9995195212253442, 0.9989980470491919, 0.9973542121980601, 0.9976205275446494, 0.9989686433229573, 0.1701197923240761, 0.7870953405131055, 0.041947346052511915, 0.12684554265560707, 0.16365876008247093, 0.709054579134813, 0.023023020002107437, 0.35648547100037326, 0.6201361839277326, 0.3476850870899608, 0.6521747732119012, 0.9989778048684782, 0.9987830722312592, 0.0026458836189305257, 0.855943350724025, 0.0694544449969263, 0.07210032861585683, 0.9990329218890511, 0.10388286576875555, 0.895596221551847, 0.9989191122097435, 0.05049553061710249, 0.8731672411088746, 0.0762961666988337, 0.9265741233907474, 0.07296173174720601, 0.826455967100205, 0.17303058040291916, 0.9583778365314009, 0.041295149798836646, 0.9259423897813398, 0.07371264127591279, 0.9980444542799985, 0.9986088632420493, 0.999276993941791, 0.9993355432200116, 0.9985091665301705, 0.9969697613706853, 0.996572953738342, 0.21541089517517895, 0.01758456287144318, 0.7308583943443572, 0.03590181586252982, 0.9986884502106742, 0.9987468833993037, 0.9989053554373518, 0.9992926864712462, 0.9979124454099908, 0.9991294751948689, 0.9990325322468142, 0.9905607449122175, 0.9952093232618722, 0.9984886651526748, 0.05795213034061767, 0.031532776802983144, 0.5641810336101308, 0.3451560704110317, 0.11587097849214029, 0.8840596515623819, 0.9993227613177246, 0.14281546384584876, 0.4019342388796479, 0.3711701372105772, 0.08378840698486749, 0.9987810304698604, 0.9989123381712934, 0.08644236980918885, 0.09844825450490952, 0.8147993746829096, 0.9982097534235128, 0.301292378927739, 0.06267341470061746, 0.6077596269591987, 0.028461780070463894, 0.034477901969313364, 0.9649756327646646, 0.9978788867668003, 0.9944966327503899, 0.9990310936585398, 0.9982558078268958, 0.9798356999742884, 0.01987496348832228, 0.9995790318417059, 0.9960580056831633, 0.29801433255961535, 0.10213278916365334, 0.5990774050942651, 0.9988152939564787, 0.9988648461885156, 0.9998487739131455, 0.9983796362755963, 0.9945151146897523, 0.999301288766693, 0.9996788281679158, 0.9974664469129443, 0.9352726530591228, 0.06378176803255023, 0.0006410815514731467, 0.764810290907464, 0.23431530706343512, 0.997556991663997, 0.9981022383292186, 0.8358340598875563, 0.0882729040145274, 0.0744802627622575, 0.9989748593934279, 0.8862717798575191, 0.11324583853734967, 0.9956498272474607, 0.9962985503268958, 0.9990381061984278, 0.3419417228151228, 0.6579325113094551, 0.008863386494249366, 0.07445244655169468, 0.01595409568964886, 0.852657780746789, 0.047862287068946574, 0.8963070143905738, 0.10319146458625654, 0.9992603966831605, 0.9989909263233094, 0.35280008002933133, 0.039401292634854715, 0.607323372682071, 0.8179116598342624, 0.1817860065542122, 0.22336602267026887, 0.7759323430914826, 0.06067873778805854, 0.012135747557611707, 0.11702328001982717, 0.8104945690262104, 0.9993992584829208, 0.9986727069954847, 0.033943751590770746, 0.9654002290669209, 0.005212801739293573, 0.9504675171311947, 0.043440014494113104, 0.9969032010130969, 0.9973349716481237, 0.22936448169386817, 0.2690621804485761, 0.5008771373742164, 0.057125480529456873, 0.018845519349923918, 0.923430448146272, 0.9980566149699257, 0.999416593839324, 0.9983629061357588, 0.86727655114049, 0.13202266527482762, 0.9419380190529281, 0.05753382145653927, 0.9925913808286347, 0.08289421849275716, 0.6555686560538312, 0.26114387786607157, 0.9985984022451078, 0.9945916262918811, 0.9996236588258278, 0.9941716342772251, 0.35501355416162966, 0.6450063108577594, 0.16595696589853345, 0.8339189887855133, 0.0023802250635908493, 0.9973143016445659, 0.9990102917423032, 0.9994783094762637, 0.2814478971099743, 0.23798592799104273, 0.4801914646344089, 0.1576297233331117, 0.23568431302217666, 0.1383694999033424, 0.4683275381343897, 0.18801813123181801, 0.8106578846589255, 0.9982467825210849, 0.999244218296536, 0.9878387105730208, 0.9975835116720663, 0.9983444489290046, 0.9997664007441327, 0.997809459314759, 0.9998187551005114, 0.05472218007916363, 0.23176452739410477, 0.1005922427925802, 0.6079795154383547, 0.004828427654043849, 0.04079139572340029, 0.11053152389566531, 0.8480662756042416, 0.999465689217338, 0.9987796390648203, 0.8615149098162501, 0.12025448564000554, 0.018098136551442358, 0.80666690471769, 0.1931054028982206, 0.999387343154153, 0.9992374476704475, 0.9985061156679352, 0.9981410638172468, 0.5109896686443283, 0.4878248036657854, 0.20019661276861872, 0.7997355502200464, 0.9943662363982132, 0.003287161112060209, 0.018709386539483206, 0.19899983864723045, 0.780691674692981, 0.9985108607988445, 0.06725311086994354, 0.23641737747532302, 0.695636471943097, 0.9998489729312164, 0.17013248519572516, 0.5544496169324972, 0.27342720835027257, 0.958931057235094, 0.04082487944709483, 0.9940074256446894, 0.9793853447139083, 0.019954437089435357, 0.6005023723837555, 0.399338561226828, 0.9504363943642858, 0.0493652039150418, 0.005555570311648507, 0.8875023572858489, 0.10555583592132162, 0.393947521803709, 0.605254092750397, 0.016151482251174708, 0.02104587081213674, 0.9622367910851356, 0.08424150276668366, 0.492565022059315, 0.42318966683969317, 0.9999300203891158, 0.9984830542439684, 0.1529210192290056, 0.013033041411562979, 0.8341146503400306, 0.999865324788, 0.9987600124807269, 0.4019409577682074, 0.597202048047649, 0.9985454600412211, 0.9982239653062678, 0.9992121074351181, 0.711200723521015, 0.2885407779683011, 0.9987307344604294, 0.9971790797218285], \"Term\": [\"abc\", \"aboriginal\", \"accuse\", \"accuse\", \"accuse\", \"accuse\", \"accuse\", \"activist\", \"actor\", \"add\", \"add\", \"adelaide\", \"adf\", \"adult\", \"affiliate\", \"afghan\", \"afghan\", \"afghanistan\", \"afghans\", \"afghans\", \"afghans\", \"afghans\", \"age\", \"agreement\", \"ahead\", \"aid\", \"aid\", \"aid_worker\", \"airlift\", \"airport\", \"al\", \"al_qaida\", \"ali_jan\", \"allegation\", \"allegation\", \"allege\", \"allege\", \"allege\", \"allege\", \"ally\", \"ally\", \"america\", \"america\", \"american\", \"american\", \"american\", \"amid\", \"app\", \"appeal\", \"appeal\", \"appeal\", \"army\", \"artist\", \"ask\", \"ask\", \"ask\", \"asylum\", \"asylum_seeker\", \"athlete\", \"attack\", \"attack\", \"attack\", \"attacker\", \"australia\", \"australian\", \"australian\", \"ban\", \"ban\", \"ban\", \"bashir\", \"baton\", \"bbc\", \"beijing\", \"bergdahl\", \"bibi\", \"biden\", \"bill\", \"bin_laden\", \"black\", \"black\", \"blackman\", \"blast\", \"boat\", \"boat\", \"boat\", \"body\", \"body\", \"border\", \"boris_johnson\", \"boyle\", \"brexit\", \"brisbane\", \"britain\", \"britain\", \"britain\", \"britain\", \"british\", \"british\", \"british\", \"british\", \"brutal\", \"bush\", \"cabinet\", \"camera\", \"candidate\", \"captivity\", \"care\", \"case\", \"ceremony\", \"chair\", \"chair\", \"challenge\", \"change\", \"change\", \"channel\", \"charge\", \"charity\", \"checkpoint\", \"chief_executive\", \"child\", \"child\", \"china\", \"china\", \"cia\", \"city\", \"city\", \"city\", \"civilian\", \"civilian\", \"civilian\", \"claim\", \"claim\", \"claim\", \"claim\", \"claim\", \"class\", \"climate\", \"climate_change\", \"club\", \"club\", \"coach\", \"coleman\", \"come\", \"command\", \"commander\", \"commitment\", \"commitment\", \"community\", \"community\", \"company\", \"company\", \"company\", \"compensation\", \"concern\", \"conflict\", \"conflict\", \"conflict\", \"contend\", \"contractor\", \"control\", \"control\", \"convict\", \"coronavirus\", \"counter_terrorism\", \"country\", \"court\", \"covid\", \"cricket\", \"cricket_board\", \"crime\", \"crime\", \"crime\", \"criminal\", \"criminal\", \"criminal\", \"culture\", \"culture\", \"datum\", \"daughter\", \"day\", \"day\", \"day\", \"dead\", \"deadline\", \"death\", \"death\", \"death\", \"death\", \"decade\", \"decade\", \"decade\", \"decision\", \"decision\", \"decision\", \"defence\", \"defence\", \"defence\", \"democracy\", \"democratic\", \"democrats\", \"deportation\", \"depressed\", \"detain\", \"detainee\", \"detention\", \"deteriorate\", \"development\", \"di\", \"die\", \"diversity\", \"dog\", \"doha\", \"drone\", \"drought\", \"economic\", \"economic\", \"education\", \"effort\", \"election\", \"eligible\", \"email\", \"email\", \"embassy\", \"embassy\", \"embassy\", \"employee\", \"end\", \"end\", \"england\", \"england\", \"england\", \"ensure\", \"era\", \"escalate\", \"eu\", \"eu\", \"europe\", \"europe\", \"evacuate\", \"evacuation\", \"evacuation_flight\", \"evacuee\", \"event\", \"event\", \"event\", \"evidence\", \"evidence\", \"exit\", \"expire\", \"explosion\", \"extremist\", \"extremist\", \"extremist\", \"fact\", \"family\", \"family\", \"fan\", \"father\", \"father\", \"federal_court\", \"feel\", \"feel\", \"feel\", \"female\", \"female\", \"fight\", \"fight\", \"fighter\", \"fighting\", \"film\", \"film\", \"find\", \"find\", \"fire\", \"flag\", \"flag\", \"flag\", \"flight\", \"football\", \"football\", \"force\", \"foreign\", \"game\", \"game\", \"gate\", \"gate\", \"gaza\", \"generation\", \"get\", \"get\", \"get\", \"ghani\", \"girl\", \"global\", \"go\", \"government\", \"great\", \"greece\", \"group\", \"group\", \"guant\\u00e1namo\", \"guant\\u00e1namo_bay\", \"guard\", \"guard\", \"guardian\", \"gulf\", \"gunman\", \"hamas\", \"happen\", \"happen\", \"happen\", \"harith\", \"hazara\", \"hazaras\", \"health\", \"health\", \"health\", \"helmand\", \"helmet\", \"help\", \"help\", \"history\", \"home\", \"home\", \"home\", \"home\", \"home\", \"hospital\", \"hospital\", \"hospital\", \"hotel\", \"hour\", \"hour\", \"hour\", \"husband\", \"hussain\", \"icc\", \"image\", \"image\", \"image\", \"immigration\", \"immigration\", \"incident\", \"include\", \"include\", \"inclusive\", \"information\", \"information\", \"information\", \"injure\", \"injury\", \"inquest\", \"insurgency\", \"insurgent\", \"insurgent\", \"intelligence\", \"intelligence\", \"international\", \"international_community\", \"interpreter\", \"interrogate\", \"intervention\", \"investigation\", \"investigation\", \"iran\", \"iran\", \"iranian\", \"iraq\", \"iraq\", \"isis\", \"iskp\", \"islamabad\", \"islamic\", \"islamic\", \"israel\", \"israeli\", \"jail\", \"jihadist\", \"joe_biden\", \"johnson\", \"journalist\", \"journalist\", \"journalist\", \"joya\", \"judge\", \"judge\", \"judge\", \"justice\", \"justice\", \"kabul\", \"kabul\", \"kabul\", \"kandahar\", \"kandahar\", \"karzai\", \"kid\", \"kill\", \"know\", \"labor\", \"labour\", \"law\", \"law\", \"law\", \"law\", \"lawsuit\", \"lawyer\", \"leave\", \"leave\", \"leave\", \"leave\", \"leave\", \"legal\", \"legal\", \"lgbtq\", \"life\", \"life\", \"like\", \"like\", \"like\", \"limbo\", \"live\", \"lockdown\", \"lot\", \"lot\", \"lot\", \"lot\", \"love\", \"love\", \"love\", \"man\", \"marine\", \"match\", \"match\", \"mean\", \"mean\", \"medium\", \"meeting\", \"meeting\", \"mental\", \"mental_health_issue\", \"migrant\", \"militant\", \"militant\", \"military\", \"military\", \"milley\", \"minister\", \"minister\", \"ministry_defence\", \"mission\", \"month\", \"month\", \"month\", \"morrison\", \"mother\", \"mother\", \"multiple\", \"murder\", \"murder\", \"music\", \"muslim\", \"muslim\", \"nation\", \"national\", \"national\", \"nato\", \"nato\", \"nazari\", \"need\", \"need\", \"negotiation\", \"network\", \"network\", \"new\", \"new\", \"new\", \"new_zealand\", \"news\", \"news\", \"nsw\", \"obama\", \"office\", \"office\", \"office\", \"office\", \"official\", \"official\", \"official\", \"online\", \"online\", \"operation\", \"operation\", \"operation\", \"organisation\", \"organisation\", \"organisation\", \"organisation\", \"organiser\", \"page\", \"pair\", \"pakistan\", \"pakistani\", \"pandemic\", \"panjshir\", \"paper\", \"parent\", \"party\", \"party\", \"party\", \"peace\", \"peace\", \"peace\", \"pentagon\", \"pentagon\", \"pentagon\", \"people\", \"people\", \"personnel\", \"photo\", \"plan\", \"plan\", \"plan\", \"plan\", \"plane\", \"play\", \"play\", \"player\", \"police\", \"police\", \"police\", \"policy\", \"policy\", \"political\", \"political\", \"power\", \"power\", \"president\", \"president\", \"president_ashraf_ghani\", \"prison\", \"prisoner\", \"process\", \"program\", \"prosecute\", \"prosecution\", \"protest\", \"protest\", \"protest\", \"protest\", \"protester\", \"provincial_capital\", \"putin\", \"qatar\", \"quarantine\", \"raab\", \"racism\", \"rahman\", \"rahmani\", \"reality\", \"record\", \"record\", \"record\", \"record\", \"refugee\", \"refugee\", \"release\", \"report\", \"report\", \"report\", \"report\", \"republicans\", \"require\", \"rescue\", \"rescue\", \"rescue\", \"resettle\", \"right\", \"right\", \"right\", \"right\", \"risk\", \"risk\", \"rita\", \"ritchie\", \"roberts_smith\", \"rumsfeld\", \"russia\", \"russia\", \"safe_passage\", \"safi\", \"sanction\", \"sanction\", \"sanction\", \"saudi\", \"saudi_arabia\", \"say\", \"sbs\", \"scared\", \"scheme\", \"school\", \"scott_morrison\", \"secretary\", \"secretary\", \"security\", \"security\", \"security\", \"self\", \"sentence\", \"shoot\", \"shoot\", \"shoot\", \"sister\", \"situation\", \"situation\", \"skin\", \"sky_news\", \"social_medium\", \"soldier\", \"soldier\", \"son\", \"son\", \"son\", \"son\", \"son\", \"special\", \"special\", \"spokesperson\", \"sport\", \"staff\", \"staff\", \"staff\", \"state\", \"state\", \"story\", \"story\", \"street\", \"street\", \"street\", \"street\", \"student\", \"study\", \"sudan\", \"sudan\", \"suicide\", \"suicide\", \"suicide\", \"suicide_bombing\", \"summit\", \"sunday\", \"sunday\", \"sunday\", \"support\", \"support\", \"support\", \"sydney\", \"syria\", \"syrian\", \"takeover\", \"takeover\", \"talk\", \"talk\", \"tampa\", \"target\", \"target\", \"target\", \"teacher\", \"teammate\", \"tell\", \"temperature\", \"terror\", \"terror\", \"terrorism\", \"terrorism\", \"terrorist\", \"terrorist\", \"texas\", \"think\", \"threat\", \"threat\", \"threat\", \"thursday\", \"thursday\", \"thursday\", \"thursday\", \"time\", \"time\", \"times\", \"torture\", \"transgender\", \"tree\", \"trial\", \"troop\", \"true\", \"trump\", \"try\", \"try\", \"try\", \"try\", \"try\", \"turkey\", \"turkey\", \"turkey\", \"tweet\", \"twitter\", \"uk\", \"uk\", \"uk\", \"un\", \"un\", \"unit\", \"university\", \"vaccine\", \"vehicle\", \"video\", \"video\", \"visa\", \"visa\", \"vision\", \"vision\", \"wall\", \"wall\", \"wall\", \"wallace\", \"want\", \"want\", \"want\", \"war\", \"watch\", \"watch\", \"watch\", \"way\", \"way\", \"went\", \"west\", \"west\", \"western\", \"western\", \"white_house\", \"white_house\", \"wife\", \"wife\", \"wife\", \"win\", \"win\", \"withdrawal\", \"withdrawal\", \"withdrawal\", \"witness\", \"witness\", \"witness\", \"woman\", \"women\", \"work\", \"work\", \"work\", \"world\", \"wound\", \"write\", \"write\", \"year\", \"yemen\", \"yorkshire\", \"young\", \"young\", \"yousafzai\", \"zahra\"]}, \"R\": 30, \"lambda.step\": 0.01, \"plot.opts\": {\"xlab\": \"PC1\", \"ylab\": \"PC2\"}, \"topic.order\": [1, 6, 7, 5, 9, 2, 8, 4, 3, 10]};\n",
       "\n",
       "function LDAvis_load_lib(url, callback){\n",
       "  var s = document.createElement('script');\n",
       "  s.src = url;\n",
       "  s.async = true;\n",
       "  s.onreadystatechange = s.onload = callback;\n",
       "  s.onerror = function(){console.warn(\"failed to load library \" + url);};\n",
       "  document.getElementsByTagName(\"head\")[0].appendChild(s);\n",
       "}\n",
       "\n",
       "if(typeof(LDAvis) !== \"undefined\"){\n",
       "   // already loaded: just create the visualization\n",
       "   !function(LDAvis){\n",
       "       new LDAvis(\"#\" + \"ldavis_el1282415753084021283775992523\", ldavis_el1282415753084021283775992523_data);\n",
       "   }(LDAvis);\n",
       "}else if(typeof define === \"function\" && define.amd){\n",
       "   // require.js is available: use it to load d3/LDAvis\n",
       "   require.config({paths: {d3: \"https://d3js.org/d3.v5\"}});\n",
       "   require([\"d3\"], function(d3){\n",
       "      window.d3 = d3;\n",
       "      LDAvis_load_lib(\"https://cdn.jsdelivr.net/gh/bmabey/pyLDAvis@3.3.1/pyLDAvis/js/ldavis.v3.0.0.js\", function(){\n",
       "        new LDAvis(\"#\" + \"ldavis_el1282415753084021283775992523\", ldavis_el1282415753084021283775992523_data);\n",
       "      });\n",
       "    });\n",
       "}else{\n",
       "    // require.js not available: dynamically load d3 & LDAvis\n",
       "    LDAvis_load_lib(\"https://d3js.org/d3.v5.js\", function(){\n",
       "         LDAvis_load_lib(\"https://cdn.jsdelivr.net/gh/bmabey/pyLDAvis@3.3.1/pyLDAvis/js/ldavis.v3.0.0.js\", function(){\n",
       "                 new LDAvis(\"#\" + \"ldavis_el1282415753084021283775992523\", ldavis_el1282415753084021283775992523_data);\n",
       "            })\n",
       "         });\n",
       "}\n",
       "</script>"
      ],
      "text/plain": [
       "PreparedData(topic_coordinates=              x         y  topics  cluster       Freq\n",
       "topic                                                \n",
       "0     -0.380899  0.094004       1        1  19.104876\n",
       "5     -0.023261  0.184734       2        1  15.496127\n",
       "6     -0.246056  0.318051       3        1  14.581744\n",
       "4      0.191007 -0.152741       4        1  13.524034\n",
       "8      0.442450 -0.087580       5        1   9.343123\n",
       "1      0.304973  0.202121       6        1   8.641479\n",
       "7      0.110034  0.425698       7        1   7.811621\n",
       "3      0.106729 -0.450869       8        1   4.279170\n",
       "2     -0.376277 -0.234724       9        1   4.275708\n",
       "9     -0.128701 -0.298694      10        1   2.942119, topic_info=          Term          Freq         Total Category  logprob  loglift\n",
       "513      woman   9782.000000   9782.000000  Default  30.0000  30.0000\n",
       "1       afghan  16082.000000  16082.000000  Default  29.0000  29.0000\n",
       "80       kabul  14589.000000  14589.000000  Default  28.0000  28.0000\n",
       "309   pakistan  10088.000000  10088.000000  Default  27.0000  27.0000\n",
       "594      group   9463.000000   9463.000000  Default  26.0000  26.0000\n",
       "...        ...           ...           ...      ...      ...      ...\n",
       "204      claim    638.047508   1860.456487  Topic10  -4.6810   2.4559\n",
       "1719    accuse    467.639208    927.126068  Topic10  -4.9918   2.8416\n",
       "956       home    679.700262   3468.636182  Topic10  -4.6178   1.8962\n",
       "1767    office    521.168108   3348.821966  Topic10  -4.8834   1.6657\n",
       "1093   witness    426.694190   1009.003843  Topic10  -5.0834   2.6654\n",
       "\n",
       "[526 rows x 6 columns], token_table=       Topic      Freq        Term\n",
       "term                              \n",
       "514        7  0.998904         abc\n",
       "16529      8  0.994269  aboriginal\n",
       "1719       2  0.263179      accuse\n",
       "1719       3  0.067952      accuse\n",
       "1719       5  0.051773      accuse\n",
       "...      ...       ...         ...\n",
       "11198      5  0.999212   yorkshire\n",
       "1713       4  0.711201       young\n",
       "1713       9  0.288541       young\n",
       "31643      4  0.998731   yousafzai\n",
       "44091      9  0.997179       zahra\n",
       "\n",
       "[766 rows x 3 columns], R=30, lambda_step=0.01, plot_opts={'xlab': 'PC1', 'ylab': 'PC2'}, topic_order=[1, 6, 7, 5, 9, 2, 8, 4, 3, 10])"
      ]
     },
     "execution_count": 34,
     "metadata": {},
     "output_type": "execute_result"
    }
   ],
   "source": [
    "pyLDAvis.enable_notebook()\n",
    "vis = pyLDAvis.gensim_models.prepare(lda_model, corpus, id2word, mds = \"mmds\", R=30)\n",
    "vis"
   ]
  },
  {
   "cell_type": "code",
   "execution_count": null,
   "id": "c9db21ab",
   "metadata": {},
   "outputs": [],
   "source": []
  },
  {
   "cell_type": "code",
   "execution_count": null,
   "id": "4b4080ee",
   "metadata": {},
   "outputs": [],
   "source": []
  },
  {
   "cell_type": "markdown",
   "id": "6967b47e",
   "metadata": {},
   "source": [
    "# Coherence Score and choosing number of topics"
   ]
  },
  {
   "cell_type": "code",
   "execution_count": null,
   "id": "0aac997f",
   "metadata": {},
   "outputs": [],
   "source": []
  },
  {
   "cell_type": "code",
   "execution_count": 35,
   "id": "8206fd62",
   "metadata": {},
   "outputs": [
    {
     "name": "stdout",
     "output_type": "stream",
     "text": [
      "\n",
      "Coherence Score:  0.4704628056474351\n"
     ]
    }
   ],
   "source": [
    "# Compute Coherence Score for the current model with 10 topics\n",
    "coherence_model_lda = CoherenceModel(model=lda_model, texts=data_bigrams_trigrams, dictionary=id2word, coherence='c_v')\n",
    "coherence_lda = coherence_model_lda.get_coherence()\n",
    "print('\\nCoherence Score: ', coherence_lda)"
   ]
  },
  {
   "cell_type": "code",
   "execution_count": null,
   "id": "81bd835a",
   "metadata": {},
   "outputs": [],
   "source": [
    "# Nexp up, we are going to compute coherence scores for each number of topic"
   ]
  },
  {
   "cell_type": "code",
   "execution_count": null,
   "id": "b6f84407",
   "metadata": {},
   "outputs": [],
   "source": []
  },
  {
   "cell_type": "code",
   "execution_count": null,
   "id": "a7147d3a",
   "metadata": {},
   "outputs": [],
   "source": []
  },
  {
   "cell_type": "code",
   "execution_count": 36,
   "id": "efa9be67",
   "metadata": {},
   "outputs": [],
   "source": [
    "def compute_coherence_values(k):\n",
    "    lda_model = gensim.models.ldamodel.LdaModel(corpus=corpus,\n",
    "                                           id2word=id2word,\n",
    "                                           num_topics=k, \n",
    "                                           random_state=100,\n",
    "                                           chunksize=100,\n",
    "                                           passes=10,\n",
    "                                           alpha=\"auto\")\n",
    "    \n",
    "    coherence_model_lda = CoherenceModel(model=lda_model, texts=data_bigrams_trigrams, dictionary=id2word, coherence='c_v')\n",
    "    return coherence_model_lda.get_coherence()"
   ]
  },
  {
   "cell_type": "code",
   "execution_count": null,
   "id": "83dddc48",
   "metadata": {},
   "outputs": [],
   "source": []
  },
  {
   "cell_type": "code",
   "execution_count": null,
   "id": "be1767e4",
   "metadata": {},
   "outputs": [],
   "source": []
  },
  {
   "cell_type": "code",
   "execution_count": null,
   "id": "5e0b8971",
   "metadata": {},
   "outputs": [],
   "source": []
  },
  {
   "cell_type": "code",
   "execution_count": null,
   "id": "c05fa9f3",
   "metadata": {},
   "outputs": [],
   "source": []
  },
  {
   "cell_type": "code",
   "execution_count": 37,
   "id": "a9948590",
   "metadata": {},
   "outputs": [
    {
     "name": "stdout",
     "output_type": "stream",
     "text": [
      "1\n",
      "3\n",
      "5\n",
      "7\n",
      "9\n",
      "11\n",
      "13\n",
      "15\n",
      "17\n",
      "19\n",
      "21\n",
      "23\n",
      "25\n",
      "27\n",
      "29\n"
     ]
    }
   ],
   "source": [
    "# Topics range\n",
    "min_topics = 1\n",
    "max_topics = 30\n",
    "step_size = 2\n",
    "topics_range = range(min_topics, max_topics, step_size)\n",
    "\n",
    "#empty dataframe\n",
    "model_results = {'Topics': [],\n",
    "                 'Coherence': []\n",
    "                }\n",
    "\n",
    "# iterate through number of topics\n",
    "for k in topics_range:\n",
    "    print(k)\n",
    "    # get the coherence score for the given topics\n",
    "    cv = compute_coherence_values(k=k)\n",
    "    # Save the model results\n",
    "    model_results['Topics'].append(k)\n",
    "    model_results['Coherence'].append(cv)\n",
    "                    \n"
   ]
  },
  {
   "cell_type": "code",
   "execution_count": 38,
   "id": "26677d58",
   "metadata": {},
   "outputs": [],
   "source": [
    "pd.DataFrame(model_results).to_csv('data/lda_topic_model/tuning_results_guardian.csv', index=False)"
   ]
  },
  {
   "cell_type": "code",
   "execution_count": 65,
   "id": "5ebd7e4a",
   "metadata": {},
   "outputs": [],
   "source": [
    "#plotting in R"
   ]
  },
  {
   "cell_type": "code",
   "execution_count": null,
   "id": "1903790d",
   "metadata": {},
   "outputs": [],
   "source": []
  },
  {
   "cell_type": "code",
   "execution_count": null,
   "id": "57c59eee",
   "metadata": {},
   "outputs": [],
   "source": []
  },
  {
   "cell_type": "code",
   "execution_count": null,
   "id": "a332c657",
   "metadata": {},
   "outputs": [],
   "source": []
  },
  {
   "cell_type": "markdown",
   "id": "2ce99ff1",
   "metadata": {},
   "source": [
    "# Final Models"
   ]
  },
  {
   "cell_type": "code",
   "execution_count": 91,
   "id": "522b4427",
   "metadata": {},
   "outputs": [],
   "source": [
    "lda_model_nyt = gensim.models.ldamodel.LdaModel(corpus = corpus,\n",
    "                                            id2word = id2word,\n",
    "                                            num_topics = 7,\n",
    "                                            random_state = 100,\n",
    "                                            update_every = 1,\n",
    "                                            chunksize = 100,\n",
    "                                            passes = 10,\n",
    "                                            alpha = \"auto\",\n",
    "                                            )"
   ]
  },
  {
   "cell_type": "code",
   "execution_count": 92,
   "id": "9c1999ca",
   "metadata": {},
   "outputs": [
    {
     "name": "stderr",
     "output_type": "stream",
     "text": [
      "C:\\Users\\ah140\\anaconda3\\lib\\site-packages\\pyLDAvis\\_prepare.py:246: FutureWarning: In a future version of pandas all arguments of DataFrame.drop except for the argument 'labels' will be keyword-only\n",
      "  default_term_info = default_term_info.sort_values(\n"
     ]
    },
    {
     "data": {
      "text/html": [
       "\n",
       "<link rel=\"stylesheet\" type=\"text/css\" href=\"https://cdn.jsdelivr.net/gh/bmabey/pyLDAvis@3.3.1/pyLDAvis/js/ldavis.v1.0.0.css\">\n",
       "\n",
       "\n",
       "<div id=\"ldavis_el1282415753290311047251447371\"></div>\n",
       "<script type=\"text/javascript\">\n",
       "\n",
       "var ldavis_el1282415753290311047251447371_data = {\"mdsDat\": {\"x\": [-0.11149966638662681, -0.0618959942888303, -0.3935283343450936, -0.2507971951044305, 0.2823612982689798, 0.35435360568956764, 0.1810062861664336], \"y\": [-0.004400296735718273, -0.37776834464095543, -0.1551990804443915, 0.30749575177982985, -0.2657729750894311, 0.0827817950329866, 0.41286315009767993], \"topics\": [1, 2, 3, 4, 5, 6, 7], \"cluster\": [1, 1, 1, 1, 1, 1, 1], \"Freq\": [28.541800533264837, 17.613436038227032, 16.41604468223971, 12.321574843390428, 10.140131221865332, 9.915123366527116, 5.051889314485557]}, \"tinfo\": {\"Term\": [\"mr\", \"kill\", \"trump\", \"biden\", \"officer\", \"police\", \"afghan\", \"war\", \"attack\", \"force\", \"woman\", \"president\", \"security\", \"say\", \"kabul\", \"civilian\", \"family\", \"wound\", \"district\", \"times\", \"country\", \"soldier\", \"states\", \"group\", \"state\", \"american\", \"people\", \"intelligence\", \"case\", \"official\", \"country\", \"states\", \"united\", \"pakistan\", \"afghanistan\", \"peace\", \"withdrawal\", \"international\", \"agreement\", \"political\", \"support\", \"ally\", \"withdraw\", \"effort\", \"long\", \"nato\", \"humanitarian\", \"governor\", \"diplomat\", \"diplomatic\", \"ashraf_ghani\", \"hear\", \"promise\", \"leadership\", \"year\", \"chaos\", \"ambassador\", \"partner\", \"ensure\", \"commitment\", \"leader\", \"washington\", \"negotiation\", \"aid\", \"troop\", \"evacuation\", \"government\", \"india\", \"meeting\", \"remain\", \"american\", \"talk\", \"afghans\", \"military\", \"continue\", \"afghan\", \"leave\", \"power\", \"group\", \"official\", \"deal\", \"end\", \"security\", \"company\", \"pandemic\", \"bank\", \"vaccine\", \"virus\", \"chinese\", \"russian\", \"migrant\", \"australia\", \"california\", \"facebook\", \"beijing\", \"republicans\", \"climate_change\", \"vaccination\", \"com\", \"donald_trump\", \"lockdown\", \"negotiator\", \"france\", \"contractor\", \"activist\", \"vaccinate\", \"race\", \"japan\", \"season\", \"athlete\", \"voter\", \"infection\", \"climate\", \"israel\", \"percent\", \"million\", \"vote\", \"covid\", \"china\", \"health\", \"europe\", \"coronavirus\", \"pay\", \"morning\", \"turkey\", \"germany\", \"team\", \"russia\", \"money\", \"today\", \"britain\", \"worker\", \"live\", \"flight\", \"new\", \"airport\", \"evacuate\", \"party\", \"election\", \"program\", \"kill\", \"police\", \"say\", \"wound\", \"district\", \"soldier\", \"area\", \"province\", \"outpost\", \"local\", \"insurgent\", \"fighter\", \"kunduz\", \"ghani\", \"commander\", \"provincial_capital\", \"kandahar\", \"flee\", \"vehicle\", \"fire\", \"airstrike\", \"marines\", \"arrive\", \"commando\", \"herat_province\", \"explosion\", \"drone_strike\", \"attacker\", \"compound\", \"checkpoint\", \"attack\", \"civilian\", \"force\", \"pro\", \"militia\", \"member\", \"kabul\", \"village\", \"security\", \"city\", \"afghan\", \"airport\", \"official\", \"american\", \"trump\", \"biden\", \"war\", \"president\", \"america\", \"iraq\", \"obama\", \"think\", \"congress\", \"nuclear\", \"lot\", \"senator\", \"time\", \"vice\", \"bush\", \"iraqi\", \"barack_obama\", \"bolton\", \"xinjiang\", \"timeline\", \"joe_biden\", \"variant\", \"rumsfeld\", \"powell\", \"th_anniversary\", \"mattis\", \"camp_david\", \"cheney\", \"clinton\", \"saigon\", \"blinken\", \"isis\", \"vietnam\", \"policy\", \"white_house\", \"republican\", \"make\", \"iran\", \"let\", \"question\", \"want\", \"good\", \"world\", \"know\", \"administration\", \"state\", \"syria\", \"right\", \"mr\", \"need\", \"like\", \"americans\", \"people\", \"look\", \"get\", \"work\", \"deal\", \"case\", \"release\", \"prisoner\", \"detainee\", \"court\", \"qatar\", \"prison\", \"lawyer\", \"guant\\u00e1namo\", \"arrest\", \"guard\", \"doha\", \"yemen\", \"evidence\", \"trial\", \"affiliate\", \"sergeant\", \"bounty\", \"criminal\", \"general_milley\", \"prosecutor\", \"detention\", \"bin_laden\", \"yemeni\", \"guant\\u00e1namo_bay\", \"retribution\", \"agent\", \"related\", \"justice_department\", \"safe_haven\", \"officer\", \"judge\", \"sergeant_bergdahl\", \"charge\", \"sentence\", \"intelligence\", \"document\", \"transfer\", \"july\", \"mr\", \"sept\", \"crime\", \"agency\", \"report\", \"abdullah\", \"investigation\", \"group\", \"department\", \"hold\", \"official\", \"office\", \"law\", \"terrorist\", \"woman\", \"family\", \"school\", \"student\", \"girl\", \"father\", \"social_medium\", \"female\", \"parent\", \"teacher\", \"sport\", \"husband\", \"class\", \"wear\", \"male\", \"women\", \"muslims\", \"islam\", \"marry\", \"gul\", \"kid\", \"shop\", \"trauma\", \"classroom\", \"cry\", \"god\", \"prayer\", \"teach\", \"gender\", \"marriage\", \"muslim\", \"special_immigrant_visa\", \"boy\", \"education\", \"friend\", \"feel\", \"son\", \"wife\", \"old\", \"home\", \"daughter\", \"dream\", \"young\", \"mother\", \"mosque\", \"ms\", \"child\", \"university\", \"go\", \"life\", \"work\", \"people\", \"man\", \"brother\", \"refugee\", \"hospital\", \"day\", \"tell\", \"islamic\", \"kabul\", \"afghans\", \"story\", \"book\", \"twitter\", \"article\", \"film\", \"museum\", \"movie\", \"art\", \"artist\", \"feature\", \"correspondent\", \"app\", \"novel\", \"reader\", \"documentary\", \"podcast\", \"austin\", \"song\", \"narrative\", \"amazon\", \"comedy\", \"essay\", \"broadway\", \"album\", \"memoir\", \"journalism\", \"drama\", \"instagram\", \"portrait\", \"hunter\", \"star\", \"writer\", \"times\", \"editor\", \"episode_daily\", \"write\", \"read\", \"play\", \"theater\", \"music\", \"new_york\", \"news\", \"series\", \"love\", \"today_mini_crossword_clue\", \"image\", \"direct\", \"journalist\", \"life\", \"director\"], \"Freq\": [117064.0, 54778.0, 33825.0, 30377.0, 27207.0, 28336.0, 49656.0, 22651.0, 26421.0, 26947.0, 18555.0, 17886.0, 24231.0, 16957.0, 22621.0, 17571.0, 12968.0, 15586.0, 15262.0, 9695.0, 20974.0, 14338.0, 17824.0, 17318.0, 17118.0, 26421.0, 13160.0, 10014.0, 8922.0, 24893.0, 20973.277308719473, 17823.96995903893, 15978.502009108095, 15596.299072554219, 12689.970288879927, 11318.558685719001, 9610.310257069856, 8323.95925293592, 6656.838874942265, 5836.339610629922, 5690.310208859636, 5001.4138328759545, 4289.244402861184, 4263.45325815208, 4221.29910654848, 3853.286302160876, 3258.38680666555, 2769.7561604224134, 2731.090828417593, 2670.459985979125, 2408.66371382477, 2380.5265135984696, 2350.0050702499075, 2149.9344791712474, 1919.01574978269, 1888.009514787822, 1775.7870269679036, 1722.4975606652433, 1723.462370507222, 1694.5119652310525, 7085.73532371387, 2566.263005239762, 4853.085537280728, 7112.04887486027, 15690.60259951125, 6289.884249091024, 18908.762201124802, 3913.4016119309604, 3244.035522805903, 4213.919351869581, 20010.677765322027, 8548.149517249969, 12743.632275270002, 12960.159814751618, 4143.619407828542, 22506.7143376605, 7519.895551967697, 5411.205786585416, 9540.510952531224, 11456.208199433726, 6166.703637059549, 5386.257824196156, 5104.435208193378, 4824.354587298981, 4156.163933985879, 3439.490323495546, 3300.881943270466, 3039.9754196281747, 2860.745922253421, 2722.540755609683, 2413.062195460092, 1756.099779608488, 1675.9947207251362, 1626.0344134944664, 1582.0418322293813, 1576.3071736115157, 1556.4038348312783, 1536.1420577943363, 1491.4846807881843, 1487.2191241376397, 1363.608710219141, 1347.6890792038344, 1304.8921169363757, 1297.1993626742255, 1244.2124791576553, 1232.16355712747, 1211.5634907299109, 1204.6526550316958, 1192.0037436513664, 1175.281927346236, 1173.9119202421261, 1168.9790934246791, 1162.9832061364937, 1354.0432869189226, 5496.938406937845, 4678.994559437752, 3174.7672925769048, 2741.286534418236, 7131.280174940013, 3665.814036004954, 2253.5625913975064, 3294.4953323599157, 3032.9537060865805, 2742.0067101660916, 1812.0752982148185, 1528.927574697197, 2803.9182585213557, 3536.6087096133797, 2319.1666900777545, 2227.790385855292, 1966.2122323434362, 2215.6567441977004, 2137.3887697523096, 2092.04833338583, 2855.4980185462873, 3170.3293509265054, 2376.6992116834576, 2403.2325977445116, 2605.874169733869, 2326.2949217600653, 54777.96109719958, 28336.094056926697, 16956.975523242556, 15585.695057453982, 15261.894365983246, 14337.76125348551, 8932.622272767738, 8781.300622837662, 8770.341512176154, 7392.197764963199, 7212.03662757323, 6478.008591380191, 5962.110697308064, 5822.143508351964, 4786.271219208078, 4626.119200410051, 4444.557644357709, 3876.2507950309437, 3385.425358858113, 3227.5907518083145, 3138.9797880803853, 2330.645001742499, 2336.176391891999, 2277.2270246348266, 2165.5893212355404, 1706.7783649902856, 1661.2572907350243, 1561.755743733079, 1447.5804404254286, 1391.7408328343813, 25880.418640311123, 17084.20276801856, 25293.00187471421, 4657.139264482248, 6817.341278793275, 11720.323424465805, 18118.996190087542, 5057.602774321057, 19126.06764824653, 10098.684298362357, 27149.067922096474, 6550.730206411119, 6459.702993356846, 6409.164923636413, 33825.154929046716, 30376.732526834676, 22650.4356687379, 17885.940408316306, 6478.570396478594, 6402.264046650168, 5650.551279462702, 5443.540070787466, 3457.3761131765646, 2382.4772759497423, 2220.0165163450424, 2195.2528584957013, 2021.835046203826, 1608.8494142461932, 1578.5089753078153, 1476.188033052077, 1367.0284945702704, 1315.530396397635, 947.7843980128057, 875.9793024960463, 871.7733069915944, 756.9622247914534, 726.099766303636, 688.1434718084718, 666.6352854726841, 640.6012399246285, 582.8130246167145, 531.4285953148635, 530.7993775301413, 531.3522665444892, 2713.363979235225, 5850.423852252947, 2402.0687116787262, 6277.948054254954, 5110.305804456344, 3670.054444552425, 1474.4667615802005, 8907.822041827923, 2324.1010983102083, 2900.5005279320108, 5073.531493117533, 2428.1766131428244, 7085.35213870546, 3771.431251024289, 10270.016600750423, 10886.495229096987, 3408.8801425911915, 4621.907512225791, 40884.41680598231, 5031.574738527127, 3566.9492777596006, 4261.885639203241, 5098.630305157308, 2681.856847623112, 2589.455183519977, 3480.7478837510225, 3244.834613073729, 8921.8255359092, 6763.414939747248, 5365.615732131642, 4671.683558921899, 4250.394594996084, 4277.792930999169, 3212.0860089471257, 2823.648239783264, 2597.290564931389, 2414.213328435011, 2378.3426565498153, 2342.766117770442, 1938.8486442208973, 1807.5768220198129, 1687.2520967632531, 1665.6213745031278, 1447.0278368191598, 1450.6476548064552, 1291.631944471045, 1506.617060468866, 1230.4036885097873, 1054.6982986483436, 920.9120996713308, 866.579894772073, 827.773522144098, 836.4832131316691, 804.41137613097, 808.5132305227801, 760.8496933435672, 760.0127435604397, 26525.0363607427, 2403.1211999913517, 1215.9324211054602, 2603.594076168813, 1388.5809566893004, 8988.697945684313, 2964.731734591867, 3579.4148436391433, 4191.625498018287, 76179.11119339574, 4911.449253415032, 2244.3859200663364, 4815.025149400849, 5700.447200078305, 2053.3528443363098, 2035.0878296819274, 7484.4117001407385, 3817.8851585684415, 3026.007203800738, 6977.529188399001, 3124.5398948678258, 2342.537649066473, 2501.5513243481064, 18554.308561495007, 12967.796312176468, 7797.658978333541, 4744.678939894139, 4293.014673405509, 2830.38599705821, 2449.9724868943827, 2166.5758385205063, 1704.8277063761113, 1366.465878034541, 1333.4420902497748, 1279.8330909169579, 1187.3441717494873, 996.8128645866558, 993.163461165435, 971.9288138061705, 930.1616871498935, 917.7977320231377, 810.8067141915323, 801.4542017432483, 770.3907270995926, 710.7396730758065, 650.0920790022119, 617.7215741614395, 603.1585846715775, 595.6802891859794, 592.6326967253493, 611.6246646634156, 522.0047447667384, 514.2002389533343, 1770.3296523896183, 877.1406358336836, 1518.2480015473684, 2378.6538087770473, 2437.413588263474, 3222.397949255419, 2288.686618817086, 1428.3263138820141, 2873.93262161493, 5839.748570633836, 1501.8348065097587, 1056.2366061270357, 3354.623372270005, 2121.471390507329, 2036.5952838130106, 5800.064732707883, 6262.774515387563, 2670.4490133294826, 4063.246392688101, 3691.1092590721255, 7103.998120596185, 8060.777389823272, 3575.611434705113, 1810.906025120565, 3361.9281488012434, 2829.567486394296, 3095.036363352945, 2730.405383770286, 3265.3428291814243, 4501.665909632949, 2713.061713238885, 5127.332263438045, 3843.479144995163, 2337.93610403307, 2080.0470501067066, 2017.7909572092437, 1764.341071236618, 1513.1004952666704, 1170.2550024678287, 1008.7871963240036, 975.0664584146248, 960.7085794827018, 894.4144091765628, 876.872950084139, 840.9126885769285, 773.2238938662967, 753.8170325388518, 769.1099783060267, 708.3893714065699, 697.5429611140987, 605.4715247466108, 597.2459241599412, 595.4456805507102, 512.5382236099819, 480.5865018356481, 466.92542816645556, 457.21980076483044, 454.1752572155855, 425.5446313944604, 394.9868919012326, 390.0884705419636, 1575.3480715802646, 1078.0622385761774, 9109.525200605256, 1689.0160776165899, 1069.8531304217618, 6433.083006030333, 3275.6909353746905, 3052.4169282558714, 1335.502008907491, 1296.13971010435, 1976.736832261361, 1856.5640487234232, 1168.5566874972822, 1064.7023545714264, 820.4517310158741, 926.3098268686524, 1011.9474572667682, 1042.0251926302763, 1042.3522024140661, 917.4802247466487], \"Total\": [117064.0, 54778.0, 33825.0, 30377.0, 27207.0, 28336.0, 49656.0, 22651.0, 26421.0, 26947.0, 18555.0, 17886.0, 24231.0, 16957.0, 22621.0, 17571.0, 12968.0, 15586.0, 15262.0, 9695.0, 20974.0, 14338.0, 17824.0, 17318.0, 17118.0, 26421.0, 13160.0, 10014.0, 8922.0, 24893.0, 20974.08869088838, 17824.779321651196, 15979.311174154724, 15597.107459392446, 12690.779028367862, 11319.368001374742, 9611.1212279209, 8324.770071668634, 6657.649524990479, 5837.149175390543, 5691.119621144436, 5002.2240647328645, 4290.054777847542, 4264.263546970091, 4222.109725910297, 3854.095176795374, 3259.200727788694, 2770.5689044740097, 2731.9006340134647, 2671.2702963724105, 2409.4750845810618, 2381.3446080946833, 2350.816243812975, 2150.743916942281, 1919.8247531198328, 1888.8234482109272, 1776.5975979386892, 1723.3076628535807, 1724.2729563855485, 1695.3214389600346, 7089.261080795093, 2567.5086619928165, 4936.500569744253, 7450.880898490306, 17211.76832897481, 6616.8434887913545, 21991.000372966824, 4116.343071401445, 3350.8136418350673, 4512.663245033923, 26421.290688712994, 10196.542772154184, 17449.170521208634, 17843.992992914027, 4523.3049613678995, 49656.467194792785, 10912.654737041676, 6921.525524599806, 17318.56216342478, 24893.94623864316, 9412.190408674047, 7188.119786282153, 24231.187622445308, 4825.208686916157, 4157.034208800827, 3440.345973030492, 3301.7368694943243, 3040.8312418279233, 2861.600831533526, 2723.39678492227, 2413.9167464509765, 1756.9550585213765, 1676.8499556115987, 1626.890070890252, 1582.8959183425852, 1577.164391678333, 1557.2593883281354, 1536.9972749228773, 1492.3386139111644, 1488.0819451690797, 1364.4705757248225, 1348.5578504139205, 1305.746899135158, 1298.0587181590881, 1245.069133582575, 1233.0193102843887, 1212.4182718978525, 1205.5065226973156, 1192.8598994520012, 1176.1367253044389, 1174.766058586173, 1169.834304128239, 1163.8388139873844, 1360.410153864587, 5816.895557337935, 5102.794350358521, 3431.2175263201902, 3012.2716030603874, 8992.381082033253, 4295.1009155578395, 2464.9518335840767, 3884.130043222877, 3533.5862795702797, 3249.6071762093757, 1957.46240357123, 1589.0187046830704, 3701.2253237861455, 5212.211584511128, 2994.889871393257, 2838.2052309014275, 2336.1880113860475, 2895.654639915406, 2784.9914202578716, 2739.3726350385887, 6414.365838350915, 10200.297307502817, 4497.5742866657465, 4873.158257625602, 6409.16540488373, 4459.33528321495, 54778.79622655626, 28336.93001656789, 16957.814542797325, 15586.530263141356, 15262.730189462467, 14338.597126660383, 8933.457493786036, 8782.136111280875, 8771.177718446681, 7393.034470748015, 7212.872674258058, 6478.845549787443, 5962.946532542622, 5822.9851007047755, 4787.107709574727, 4626.95492289047, 4445.393667466836, 3877.100471283059, 3386.262486701296, 3228.4296059465914, 3139.815942475375, 2331.484629177842, 2337.0222209198105, 2278.0648414243865, 2166.4259579351146, 1707.614687421677, 1662.1024812892153, 1562.5918454112743, 1448.4171049512424, 1392.5782712932862, 26421.032871480787, 17571.608612028656, 26947.528189771496, 4819.441634215323, 7191.3027803748355, 13638.628249883164, 22621.37274329743, 5505.88088345423, 24231.187622445308, 12758.119767731245, 49656.467194792785, 10200.297307502817, 24893.94623864316, 26421.290688712994, 33825.96134364791, 30377.54185916444, 22651.239662238197, 17886.7429006619, 6479.373447409789, 6403.066325215438, 5651.353565809823, 5444.343106908737, 3458.17931888956, 2383.2800908271925, 2220.8224547879363, 2196.0565384050337, 2022.6397858762778, 1609.653904037967, 1579.3111756565868, 1476.9913541963117, 1367.8337737728375, 1316.3341398844123, 948.5967990245202, 876.788787174758, 872.5827582672578, 757.7877187566125, 726.903433676047, 688.9505156851229, 667.4514364250462, 641.4103867623257, 583.6190194827565, 532.2313023852233, 531.601937786756, 532.1592989242733, 2720.3026795879528, 5911.518096523963, 2426.2354839331056, 6444.344105895619, 5278.277349911688, 3790.8602898650006, 1497.6146409490252, 9449.130940232224, 2417.446474658164, 3046.748280391852, 5711.3678584216295, 2642.0270109180333, 8847.170838673448, 4515.326529799866, 15664.32342614575, 17118.970040721426, 4176.858419802488, 6397.647179261279, 117064.15300284706, 8384.724054864264, 5522.25152162912, 8866.772675102491, 13160.083288268122, 3565.872583688246, 3202.9818288236684, 10585.944983085372, 9412.190408674047, 8922.61043526753, 6764.198265403527, 5366.398410098007, 4672.465074090774, 4251.17655487044, 4278.579997074018, 3212.8680858259227, 2824.4303682167074, 2598.071997757895, 2414.996457567997, 2379.127011421622, 2343.5577340172504, 1939.6335033415041, 1808.3610662026063, 1688.0360071073908, 1666.408399821248, 1447.8131262366298, 1451.4440336655603, 1292.4146609041463, 1507.530770501175, 1231.185770721721, 1055.4806578179914, 921.6955649005506, 867.3625794570786, 828.5579032808575, 837.2800078516537, 805.1940337392949, 809.3106999275303, 761.6331217700514, 760.8001491654609, 27207.945392472895, 2407.3568334222164, 1217.6685881311105, 2647.437014371547, 1399.2449482184786, 10014.004589062482, 3136.106996123379, 3899.4298878388736, 4797.728262973572, 117064.15300284706, 5917.312189275333, 2459.7195937385673, 6084.086179359169, 7689.526208019644, 2257.1033209231414, 2355.0549031756245, 17318.56216342478, 7452.557959554568, 4899.464856064917, 24893.94623864316, 5257.254992155996, 3782.787640863546, 5676.739849468724, 18555.14145468536, 12968.629725411101, 7798.4912859511405, 4745.511454891984, 4293.846995777261, 2831.2181218464643, 2450.812566087897, 2167.4088732409155, 1705.6613580231995, 1367.2984440309017, 1334.2767208337232, 1280.6648671258274, 1188.1773634566152, 997.6467638944544, 993.9997605166374, 972.7611662846457, 930.9940188170092, 918.6293648191789, 811.6409535877008, 802.3007347021025, 771.2238350274484, 711.5729372854075, 650.9265396815325, 618.5544864159002, 603.9925810577582, 596.5133739698592, 593.4654539737977, 612.5143320035639, 522.8384512618504, 515.0324265532109, 1785.1925013164473, 879.8602390703567, 1534.8805006612329, 2416.9970270784484, 2496.5287645861436, 3342.350849072399, 2356.7317248955933, 1457.8888743264831, 2999.033060067959, 6269.70021599811, 1537.909938211857, 1069.690344150385, 3722.6742344498853, 2282.504832402842, 2197.8726279328594, 7046.000066396122, 7700.270323796445, 3073.294242137983, 4979.844369355961, 4734.18248449792, 10585.944983085372, 13160.083288268122, 5090.809234954305, 2050.7874752633297, 5410.250217695293, 4462.4271125812065, 5828.151590169101, 4681.145603133369, 8466.833480640666, 22621.37274329743, 17449.170521208634, 5128.182114920763, 3844.3281925686756, 2338.799570447972, 2080.8962013154546, 2018.638351735954, 1765.1890616116095, 1513.948155818023, 1171.1031790389018, 1009.6353644211249, 975.9163630630298, 961.5571330862964, 895.2665788289045, 877.7209495805612, 841.7607247065023, 774.071378158761, 754.6693143352045, 770.0280462985207, 709.2375576732444, 698.3960315596107, 606.3213373383824, 598.0932571338158, 596.2965999970327, 513.386673917522, 481.43460079419, 467.776885626268, 458.0709652690587, 455.0241345507431, 426.4382330694109, 395.8359743235326, 390.94167711707024, 1598.4666407085904, 1091.5476835688717, 9695.531306284283, 1782.0598370253595, 1107.6006129279795, 7350.509342298436, 3793.059688788794, 3559.1671544075916, 1449.4609603137883, 1429.524504543489, 2688.32293506087, 2976.0246698864094, 1532.5875837742296, 1786.9560096529199, 945.5617629139131, 1552.7923087027052, 2820.1329762429045, 4248.208605257581, 4734.18248449792, 2414.7556824533895], \"Category\": [\"Default\", \"Default\", \"Default\", \"Default\", \"Default\", \"Default\", \"Default\", \"Default\", \"Default\", \"Default\", \"Default\", \"Default\", \"Default\", \"Default\", \"Default\", \"Default\", \"Default\", \"Default\", \"Default\", \"Default\", \"Default\", \"Default\", \"Default\", \"Default\", \"Default\", \"Default\", \"Default\", \"Default\", \"Default\", \"Default\", \"Topic1\", \"Topic1\", \"Topic1\", \"Topic1\", \"Topic1\", \"Topic1\", \"Topic1\", \"Topic1\", \"Topic1\", \"Topic1\", \"Topic1\", \"Topic1\", \"Topic1\", \"Topic1\", \"Topic1\", \"Topic1\", \"Topic1\", \"Topic1\", \"Topic1\", \"Topic1\", \"Topic1\", \"Topic1\", \"Topic1\", \"Topic1\", \"Topic1\", \"Topic1\", \"Topic1\", \"Topic1\", \"Topic1\", \"Topic1\", \"Topic1\", \"Topic1\", \"Topic1\", \"Topic1\", \"Topic1\", \"Topic1\", \"Topic1\", \"Topic1\", \"Topic1\", \"Topic1\", \"Topic1\", \"Topic1\", \"Topic1\", \"Topic1\", \"Topic1\", \"Topic1\", \"Topic1\", \"Topic1\", \"Topic1\", \"Topic1\", \"Topic1\", \"Topic1\", \"Topic1\", \"Topic2\", \"Topic2\", \"Topic2\", \"Topic2\", \"Topic2\", \"Topic2\", \"Topic2\", \"Topic2\", \"Topic2\", \"Topic2\", \"Topic2\", \"Topic2\", \"Topic2\", \"Topic2\", \"Topic2\", \"Topic2\", \"Topic2\", \"Topic2\", \"Topic2\", \"Topic2\", \"Topic2\", \"Topic2\", \"Topic2\", \"Topic2\", \"Topic2\", \"Topic2\", \"Topic2\", \"Topic2\", \"Topic2\", \"Topic2\", \"Topic2\", \"Topic2\", \"Topic2\", \"Topic2\", \"Topic2\", \"Topic2\", \"Topic2\", \"Topic2\", \"Topic2\", \"Topic2\", \"Topic2\", \"Topic2\", \"Topic2\", \"Topic2\", \"Topic2\", \"Topic2\", \"Topic2\", \"Topic2\", \"Topic2\", \"Topic2\", \"Topic2\", \"Topic2\", \"Topic2\", \"Topic2\", \"Topic2\", \"Topic2\", \"Topic2\", \"Topic3\", \"Topic3\", \"Topic3\", \"Topic3\", \"Topic3\", \"Topic3\", \"Topic3\", \"Topic3\", \"Topic3\", \"Topic3\", \"Topic3\", \"Topic3\", \"Topic3\", \"Topic3\", \"Topic3\", \"Topic3\", \"Topic3\", \"Topic3\", \"Topic3\", \"Topic3\", \"Topic3\", \"Topic3\", \"Topic3\", \"Topic3\", \"Topic3\", \"Topic3\", \"Topic3\", \"Topic3\", \"Topic3\", \"Topic3\", \"Topic3\", \"Topic3\", \"Topic3\", \"Topic3\", \"Topic3\", \"Topic3\", \"Topic3\", \"Topic3\", \"Topic3\", \"Topic3\", \"Topic3\", \"Topic3\", \"Topic3\", \"Topic3\", \"Topic4\", \"Topic4\", \"Topic4\", \"Topic4\", \"Topic4\", \"Topic4\", \"Topic4\", \"Topic4\", \"Topic4\", \"Topic4\", \"Topic4\", \"Topic4\", \"Topic4\", \"Topic4\", \"Topic4\", \"Topic4\", \"Topic4\", \"Topic4\", \"Topic4\", \"Topic4\", \"Topic4\", \"Topic4\", \"Topic4\", \"Topic4\", \"Topic4\", \"Topic4\", \"Topic4\", \"Topic4\", \"Topic4\", \"Topic4\", \"Topic4\", \"Topic4\", \"Topic4\", \"Topic4\", \"Topic4\", \"Topic4\", \"Topic4\", \"Topic4\", \"Topic4\", \"Topic4\", \"Topic4\", \"Topic4\", \"Topic4\", \"Topic4\", \"Topic4\", \"Topic4\", \"Topic4\", \"Topic4\", \"Topic4\", \"Topic4\", \"Topic4\", \"Topic4\", \"Topic4\", \"Topic4\", \"Topic4\", \"Topic4\", \"Topic4\", \"Topic5\", \"Topic5\", \"Topic5\", \"Topic5\", \"Topic5\", \"Topic5\", \"Topic5\", \"Topic5\", \"Topic5\", \"Topic5\", \"Topic5\", \"Topic5\", \"Topic5\", \"Topic5\", \"Topic5\", \"Topic5\", \"Topic5\", \"Topic5\", \"Topic5\", \"Topic5\", \"Topic5\", \"Topic5\", \"Topic5\", \"Topic5\", \"Topic5\", \"Topic5\", \"Topic5\", \"Topic5\", \"Topic5\", \"Topic5\", \"Topic5\", \"Topic5\", \"Topic5\", \"Topic5\", \"Topic5\", \"Topic5\", \"Topic5\", \"Topic5\", \"Topic5\", \"Topic5\", \"Topic5\", \"Topic5\", \"Topic5\", \"Topic5\", \"Topic5\", \"Topic5\", \"Topic5\", \"Topic5\", \"Topic5\", \"Topic5\", \"Topic5\", \"Topic5\", \"Topic5\", \"Topic6\", \"Topic6\", \"Topic6\", \"Topic6\", \"Topic6\", \"Topic6\", \"Topic6\", \"Topic6\", \"Topic6\", \"Topic6\", \"Topic6\", \"Topic6\", \"Topic6\", \"Topic6\", \"Topic6\", \"Topic6\", \"Topic6\", \"Topic6\", \"Topic6\", \"Topic6\", \"Topic6\", \"Topic6\", \"Topic6\", \"Topic6\", \"Topic6\", \"Topic6\", \"Topic6\", \"Topic6\", \"Topic6\", \"Topic6\", \"Topic6\", \"Topic6\", \"Topic6\", \"Topic6\", \"Topic6\", \"Topic6\", \"Topic6\", \"Topic6\", \"Topic6\", \"Topic6\", \"Topic6\", \"Topic6\", \"Topic6\", \"Topic6\", \"Topic6\", \"Topic6\", \"Topic6\", \"Topic6\", \"Topic6\", \"Topic6\", \"Topic6\", \"Topic6\", \"Topic6\", \"Topic6\", \"Topic6\", \"Topic6\", \"Topic6\", \"Topic6\", \"Topic6\", \"Topic6\", \"Topic6\", \"Topic7\", \"Topic7\", \"Topic7\", \"Topic7\", \"Topic7\", \"Topic7\", \"Topic7\", \"Topic7\", \"Topic7\", \"Topic7\", \"Topic7\", \"Topic7\", \"Topic7\", \"Topic7\", \"Topic7\", \"Topic7\", \"Topic7\", \"Topic7\", \"Topic7\", \"Topic7\", \"Topic7\", \"Topic7\", \"Topic7\", \"Topic7\", \"Topic7\", \"Topic7\", \"Topic7\", \"Topic7\", \"Topic7\", \"Topic7\", \"Topic7\", \"Topic7\", \"Topic7\", \"Topic7\", \"Topic7\", \"Topic7\", \"Topic7\", \"Topic7\", \"Topic7\", \"Topic7\", \"Topic7\", \"Topic7\", \"Topic7\", \"Topic7\", \"Topic7\", \"Topic7\", \"Topic7\", \"Topic7\", \"Topic7\", \"Topic7\"], \"logprob\": [30.0, 29.0, 28.0, 27.0, 26.0, 25.0, 24.0, 23.0, 22.0, 21.0, 20.0, 19.0, 18.0, 17.0, 16.0, 15.0, 14.0, 13.0, 12.0, 11.0, 10.0, 9.0, 8.0, 7.0, 6.0, 5.0, 4.0, 3.0, 2.0, 1.0, -4.3593, -4.522, -4.6313, -4.6555, -4.8617, -4.9761, -5.1397, -5.2834, -5.5069, -5.6384, -5.6638, -5.7928, -5.9464, -5.9525, -5.9624, -6.0536, -6.2213, -6.3838, -6.3978, -6.4203, -6.5235, -6.5352, -6.5481, -6.6371, -6.7507, -6.767, -6.8283, -6.8588, -6.8582, -6.8751, -5.4445, -6.4601, -5.8229, -5.4407, -4.6495, -5.5636, -4.4629, -6.0381, -6.2257, -5.9641, -4.4063, -5.2568, -4.8575, -4.8407, -5.981, -4.2887, -5.385, -5.7141, -5.147, -4.964, -5.5834, -5.7187, -5.7724, -5.3462, -5.4952, -5.6845, -5.7256, -5.808, -5.8687, -5.9183, -6.0389, -6.3567, -6.4034, -6.4337, -6.4611, -6.4647, -6.4775, -6.4906, -6.5201, -6.5229, -6.6097, -6.6214, -6.6537, -6.6596, -6.7013, -6.7111, -6.7279, -6.7336, -6.7442, -6.7583, -6.7595, -6.7637, -6.7688, -6.6167, -5.2156, -5.3767, -5.7646, -5.9114, -4.9553, -5.6208, -6.1073, -5.7276, -5.8103, -5.9111, -6.3254, -6.4953, -5.8888, -5.6567, -6.0786, -6.1188, -6.2437, -6.1243, -6.1602, -6.1817, -5.8706, -5.766, -6.0541, -6.043, -5.9621, -6.0756, -2.8461, -3.5053, -4.0188, -4.1031, -4.1241, -4.1865, -4.6597, -4.6768, -4.6781, -4.849, -4.8737, -4.981, -5.064, -5.0878, -5.2837, -5.3177, -5.3577, -5.4946, -5.6299, -5.6777, -5.7055, -6.0033, -6.0009, -6.0265, -6.0767, -6.3148, -6.3419, -6.4036, -6.4795, -6.5189, -3.5959, -4.0113, -3.6189, -5.311, -4.93, -4.3881, -3.9525, -5.2285, -3.8984, -4.537, -3.5481, -4.9699, -4.9838, -4.9917, -3.0413, -3.1488, -3.4423, -3.6785, -4.694, -4.7059, -4.8308, -4.8681, -5.322, -5.6944, -5.765, -5.7762, -5.8585, -6.087, -6.106, -6.1731, -6.2499, -6.2883, -6.6162, -6.6949, -6.6997, -6.841, -6.8826, -6.9363, -6.968, -7.0079, -7.1024, -7.1947, -7.1959, -7.1949, -5.5643, -4.796, -5.6862, -4.7255, -4.9313, -5.2623, -6.1742, -4.3756, -5.7192, -5.4976, -4.9385, -5.6754, -4.6045, -5.2351, -4.2333, -4.175, -5.3361, -5.0317, -2.8518, -4.9468, -5.2908, -5.1128, -4.9336, -5.576, -5.6111, -5.3153, -5.3855, -4.1792, -4.4561, -4.6877, -4.8262, -4.9207, -4.9142, -5.2008, -5.3296, -5.4132, -5.4863, -5.5013, -5.5163, -5.7056, -5.7757, -5.8446, -5.8575, -5.9982, -5.9957, -6.1118, -5.9578, -6.1603, -6.3144, -6.4501, -6.5109, -6.5567, -6.5462, -6.5853, -6.5802, -6.641, -6.6421, -3.0896, -5.4909, -6.1722, -5.4108, -6.0394, -4.1717, -5.2809, -5.0925, -4.9346, -2.0346, -4.7761, -5.5592, -4.7959, -4.6271, -5.6482, -5.6571, -4.3548, -5.028, -5.2604, -4.425, -5.2284, -5.5164, -5.4508, -3.4245, -3.7828, -4.2914, -4.7882, -4.8882, -5.3048, -5.4492, -5.5721, -5.8118, -6.033, -6.0575, -6.0985, -6.1735, -6.3484, -6.3521, -6.3737, -6.4176, -6.431, -6.555, -6.5666, -6.6061, -6.6867, -6.7759, -6.8269, -6.8508, -6.8633, -6.8684, -6.8369, -6.9953, -7.0104, -5.7741, -6.4763, -5.9277, -5.4787, -5.4543, -5.1751, -5.5173, -5.9887, -5.2896, -4.5805, -5.9385, -6.2905, -5.1349, -5.5931, -5.634, -4.5874, -4.5106, -5.363, -4.9432, -5.0393, -4.3846, -4.2582, -5.0711, -5.7514, -5.1327, -5.3051, -5.2154, -5.3408, -5.1619, -4.8408, -5.3472, -4.0363, -4.3246, -4.8217, -4.9385, -4.9689, -5.1032, -5.2568, -5.5137, -5.6622, -5.6962, -5.711, -5.7825, -5.8023, -5.8442, -5.9281, -5.9535, -5.9335, -6.0157, -6.0311, -6.1727, -6.1864, -6.1894, -6.3393, -6.4037, -6.4325, -6.4535, -6.4602, -6.5253, -6.5998, -6.6123, -5.2165, -5.5958, -3.4616, -5.1468, -5.6034, -3.8095, -4.4844, -4.555, -5.3816, -5.4115, -4.9895, -5.0522, -5.5152, -5.6082, -5.8688, -5.7475, -5.6591, -5.6298, -5.6295, -5.7571], \"loglift\": [30.0, 29.0, 28.0, 27.0, 26.0, 25.0, 24.0, 23.0, 22.0, 21.0, 20.0, 19.0, 18.0, 17.0, 16.0, 15.0, 14.0, 13.0, 12.0, 11.0, 10.0, 9.0, 8.0, 7.0, 6.0, 5.0, 4.0, 3.0, 2.0, 1.0, 1.2538, 1.2538, 1.2537, 1.2537, 1.2537, 1.2537, 1.2537, 1.2537, 1.2537, 1.2537, 1.2537, 1.2536, 1.2536, 1.2536, 1.2536, 1.2536, 1.2536, 1.2535, 1.2535, 1.2535, 1.2535, 1.2535, 1.2535, 1.2534, 1.2534, 1.2534, 1.2533, 1.2533, 1.2533, 1.2533, 1.2533, 1.2533, 1.2368, 1.2073, 1.1613, 1.2031, 1.1028, 1.2032, 1.2214, 1.1853, 0.9759, 1.0775, 0.9395, 0.934, 1.1661, 0.4625, 0.8814, 1.0076, 0.6576, 0.4777, 0.831, 0.9652, -0.3037, 1.7363, 1.7363, 1.7363, 1.7362, 1.7362, 1.7362, 1.7362, 1.7362, 1.736, 1.736, 1.736, 1.736, 1.736, 1.736, 1.736, 1.7359, 1.7359, 1.7359, 1.7359, 1.7359, 1.7358, 1.7358, 1.7358, 1.7358, 1.7358, 1.7358, 1.7358, 1.7358, 1.7358, 1.7358, 1.7318, 1.6799, 1.6498, 1.6588, 1.6422, 1.5046, 1.5781, 1.6468, 1.5719, 1.5837, 1.5667, 1.6593, 1.698, 1.4589, 1.3487, 1.4808, 1.4943, 1.5641, 1.4688, 1.4718, 1.4669, 0.9272, 0.5679, 1.0987, 1.0296, 0.8365, 1.0858, 1.8069, 1.8069, 1.8069, 1.8069, 1.8069, 1.8069, 1.8068, 1.8068, 1.8068, 1.8068, 1.8068, 1.8068, 1.8068, 1.8068, 1.8067, 1.8067, 1.8067, 1.8067, 1.8067, 1.8067, 1.8066, 1.8066, 1.8065, 1.8065, 1.8065, 1.8064, 1.8064, 1.8064, 1.8063, 1.8063, 1.7862, 1.7788, 1.7435, 1.7727, 1.7535, 1.6553, 1.585, 1.722, 1.5703, 1.5731, 1.2031, 1.3641, 0.4579, 0.3905, 2.0938, 2.0938, 2.0938, 2.0938, 2.0937, 2.0937, 2.0937, 2.0937, 2.0936, 2.0935, 2.0935, 2.0935, 2.0934, 2.0933, 2.0933, 2.0933, 2.0932, 2.0932, 2.093, 2.0929, 2.0929, 2.0927, 2.0927, 2.0926, 2.0926, 2.0926, 2.0924, 2.0923, 2.0923, 2.0923, 2.0913, 2.0834, 2.0838, 2.0677, 2.0615, 2.0614, 2.0782, 2.0348, 2.0544, 2.0446, 1.9754, 2.0094, 1.8718, 1.9138, 1.6717, 1.6412, 1.8906, 1.7687, 1.0418, 1.5831, 1.6567, 1.3612, 1.1456, 1.8089, 1.8812, 0.9815, 1.0289, 2.2886, 2.2886, 2.2885, 2.2885, 2.2885, 2.2885, 2.2884, 2.2884, 2.2884, 2.2883, 2.2883, 2.2883, 2.2883, 2.2882, 2.2882, 2.2882, 2.2881, 2.2881, 2.2881, 2.2881, 2.288, 2.2879, 2.2878, 2.2878, 2.2877, 2.2877, 2.2877, 2.2877, 2.2876, 2.2876, 2.2632, 2.2869, 2.2872, 2.272, 2.281, 2.1807, 2.2325, 2.203, 2.1536, 1.859, 2.1024, 2.1971, 2.0547, 1.9894, 2.1941, 2.1426, 1.4497, 1.6198, 1.8068, 1.0167, 1.7683, 1.8094, 1.4692, 2.3111, 2.311, 2.311, 2.3109, 2.3109, 2.3108, 2.3108, 2.3107, 2.3106, 2.3105, 2.3105, 2.3105, 2.3104, 2.3103, 2.3103, 2.3103, 2.3102, 2.3102, 2.3101, 2.3101, 2.31, 2.3099, 2.3098, 2.3098, 2.3097, 2.3097, 2.3097, 2.3097, 2.3095, 2.3095, 2.3027, 2.308, 2.3002, 2.2951, 2.2871, 2.2746, 2.2818, 2.2906, 2.2685, 2.2401, 2.2874, 2.2985, 2.207, 2.2379, 2.2349, 2.1165, 2.1045, 2.1706, 2.1077, 2.0622, 1.9122, 1.8209, 1.9578, 2.1867, 1.8353, 1.8555, 1.6782, 1.772, 1.3583, 0.6967, 0.4499, 2.9852, 2.9852, 2.985, 2.985, 2.985, 2.9849, 2.9848, 2.9847, 2.9846, 2.9845, 2.9845, 2.9845, 2.9844, 2.9844, 2.9843, 2.9843, 2.9842, 2.9842, 2.9842, 2.984, 2.984, 2.984, 2.9838, 2.9836, 2.9836, 2.9835, 2.9835, 2.9833, 2.9833, 2.9832, 2.9708, 2.973, 2.9231, 2.9318, 2.9507, 2.8521, 2.8388, 2.8318, 2.9035, 2.8875, 2.6779, 2.5135, 2.7142, 2.4676, 2.8435, 2.4688, 1.9605, 1.5801, 1.4721, 2.0177]}, \"token.table\": {\"Topic\": [3, 5, 2, 1, 4, 5, 5, 1, 3, 1, 1, 3, 6, 1, 3, 5, 5, 1, 1, 2, 2, 3, 5, 3, 7, 1, 7, 1, 4, 1, 3, 5, 1, 3, 4, 6, 7, 3, 5, 3, 7, 7, 7, 1, 2, 3, 5, 3, 7, 2, 2, 4, 2, 4, 5, 1, 4, 5, 4, 7, 5, 6, 7, 1, 2, 5, 7, 3, 5, 6, 4, 2, 4, 5, 1, 2, 5, 3, 4, 3, 6, 2, 4, 2, 2, 3, 6, 1, 3, 6, 6, 2, 2, 4, 2, 7, 3, 3, 1, 2, 3, 4, 1, 3, 2, 1, 2, 3, 4, 5, 6, 7, 7, 1, 5, 1, 2, 3, 4, 5, 6, 7, 2, 5, 5, 6, 6, 7, 2, 3, 6, 1, 4, 1, 2, 4, 5, 5, 5, 1, 1, 1, 5, 7, 1, 2, 4, 5, 7, 3, 1, 5, 7, 5, 2, 7, 1, 6, 3, 1, 7, 1, 2, 6, 1, 1, 2, 1, 4, 1, 2, 7, 7, 1, 2, 4, 2, 3, 1, 3, 5, 3, 2, 6, 6, 7, 1, 6, 6, 3, 7, 3, 3, 1, 2, 3, 5, 1, 3, 2, 4, 6, 6, 5, 1, 2, 5, 4, 6, 3, 6, 1, 6, 6, 4, 6, 1, 3, 1, 1, 3, 5, 5, 5, 5, 6, 2, 6, 1, 3, 1, 5, 1, 3, 6, 3, 6, 1, 7, 6, 3, 4, 6, 7, 1, 2, 2, 7, 3, 1, 5, 1, 3, 5, 1, 4, 4, 4, 1, 2, 4, 5, 6, 7, 6, 1, 5, 6, 1, 2, 2, 4, 7, 3, 5, 6, 7, 2, 5, 1, 5, 5, 3, 6, 3, 6, 3, 4, 6, 3, 2, 4, 5, 6, 5, 1, 3, 1, 1, 3, 6, 4, 6, 6, 7, 4, 6, 1, 2, 3, 2, 1, 4, 6, 4, 6, 7, 4, 6, 6, 3, 5, 6, 3, 6, 6, 4, 1, 4, 5, 2, 3, 4, 5, 7, 2, 1, 3, 5, 1, 3, 1, 2, 1, 2, 5, 6, 2, 3, 3, 6, 6, 7, 7, 4, 5, 5, 6, 7, 7, 6, 7, 1, 5, 6, 6, 7, 1, 1, 4, 1, 5, 2, 1, 2, 4, 2, 7, 2, 3, 5, 7, 7, 4, 4, 1, 2, 3, 4, 5, 6, 1, 5, 1, 3, 5, 2, 6, 7, 3, 1, 2, 6, 1, 1, 2, 2, 4, 6, 1, 4, 6, 1, 2, 1, 7, 7, 3, 1, 4, 1, 7, 4, 1, 4, 6, 4, 5, 5, 1, 2, 3, 1, 2, 4, 1, 5, 3, 3, 5, 4, 5, 2, 1, 4, 6, 7, 7, 1, 2, 6, 5, 5, 1, 3, 3, 5, 2, 4, 2, 5, 4, 6, 4, 1, 2, 4, 2, 5, 4, 3, 6, 2, 1, 3, 4, 2, 5, 1, 4, 5, 5, 5, 1, 3, 7, 6, 6, 3, 5, 6, 7, 2, 6, 6, 3, 7, 1, 2, 4, 1, 7, 6, 1, 2, 4, 1, 4, 6, 6, 2, 3, 4, 5, 3, 4, 5, 6, 1, 4, 5, 4, 2, 7, 4, 4, 4, 5, 7, 1, 2, 3, 4, 2, 7, 1, 5, 6, 5, 1, 3, 4, 1, 2, 7, 1, 2, 6, 2, 2, 2, 4, 3, 4, 4, 7, 3, 6, 2, 2, 4, 2, 4, 6, 4, 1, 4, 6, 4, 5, 6, 7, 1, 1, 6, 6, 1, 4, 6, 2, 3, 6, 4, 6, 7, 3, 5, 7, 1, 7, 4, 1, 5, 5, 6, 7], \"Freq\": [0.08993828422394694, 0.909572894146616, 0.9991413058490185, 0.21111668279781534, 0.6556299765145338, 0.1332326933773936, 0.9997549221299582, 0.4532541534158957, 0.5467364380454148, 0.999938614614113, 0.7303499031378182, 0.11416015435110907, 0.1554801700575095, 0.1934555108691725, 0.015121416312628607, 0.7914089081011603, 0.9985170857094533, 0.9999024392936214, 0.9545180089297938, 0.04536376364148907, 0.3107752553122457, 0.6422361821925935, 0.04695941555033618, 0.9997401304756954, 0.9990972796856041, 0.9997552959009784, 0.9978207309276254, 0.9996636278584511, 0.9999423636540137, 0.7573816221078318, 0.24256952756429434, 3.784826455988365e-05, 0.3071015915008247, 0.19398264318083677, 0.48067094490507345, 0.01827045825307881, 0.9985852495124287, 0.9999487887207887, 0.999587387565363, 0.9995625968334148, 0.9990580001329967, 0.9995693195485252, 0.9993706991221636, 0.9998028265226306, 0.9990335092170983, 0.9795226449279058, 0.020438262297568358, 0.9996212412006293, 0.9986649235654954, 0.9994564126630648, 0.9996087681177871, 0.9993904421803114, 0.9994340004720441, 0.9999821625078502, 0.9992453420337054, 0.0018380307594143734, 0.997315490058239, 0.0003676061518828747, 0.99974615876449, 0.9996545059365006, 0.9996940745524725, 0.9890020749798042, 0.010424264294912297, 0.10101926679265104, 0.8415418581116607, 0.05735839724667474, 0.9992468173850884, 0.07948166349078668, 0.037058935124538575, 0.88307541461236, 0.9998029674826702, 0.9994931236341366, 0.9989393431980591, 0.9999315855744282, 0.9995640417257065, 0.01624212389816096, 0.9835928053677009, 0.9995847477264246, 0.9976865276812822, 0.18661682506900867, 0.8133480691768973, 0.7930046485961003, 0.2068417678290207, 0.9997900365673279, 0.06247002023102415, 0.7915743215973813, 0.14594627060246795, 0.027715163179005922, 0.9722502007189675, 0.9990091012564066, 0.9991035770848368, 0.9992792696228179, 0.9991912790267474, 0.9988676907588747, 0.9991030092643276, 0.9981720958717126, 0.9997686056713302, 0.9995325675525019, 0.9998103964518777, 0.999749505773826, 0.9997120270467557, 0.9996589769410978, 0.9161442872838728, 0.08378829268353952, 0.9991843834610274, 0.011843063823329475, 0.8480663529140715, 0.00025745790920281465, 0.023428669737456134, 0.015704932461371696, 0.03527173356078561, 0.06539430893751493, 0.9994205928414174, 0.9999480935308119, 0.9997232401771007, 0.0019918522599038416, 0.9099445073994049, 0.00033197537665064023, 0.005311606026410244, 0.002655803013205122, 0.05809569091386204, 0.021910374858942257, 0.08740833733540256, 0.9122991115378759, 0.9996791580003772, 0.9983566336923875, 0.9766501683098492, 0.022758159714277446, 0.15905557459480968, 0.3097036808453414, 0.5310431535824551, 0.6552141140617642, 0.34476565593164016, 0.1869156882187144, 0.0013418211645277417, 0.29936030180613915, 0.5123073206166917, 0.9999004649401549, 0.9995446076491965, 0.9996703269503102, 0.9995244598144427, 0.6063543862666119, 0.03475013441761869, 0.3588483268431645, 0.11761024192371142, 0.01325185824492523, 0.05176507126923918, 0.4373113220825326, 0.3797485628311386, 0.9999521586601215, 0.05452620086348375, 0.9454396816387679, 0.9986159181323698, 0.999762013963149, 0.9992729263515412, 0.9977492742187087, 0.012153049778462209, 0.9872015820043147, 0.999336694757618, 0.051625651444772894, 0.9477796227197981, 0.012412096359200979, 0.0033098923624535945, 0.9842792412846376, 0.999703689287453, 0.5933689895258665, 0.4066052029199075, 0.7492919094474012, 0.2505523076336371, 0.9992617431127512, 0.03340554308848679, 0.9660521920184019, 0.9978255787521862, 0.034077744991009726, 0.9144194905920943, 0.05152230492688375, 0.5285071126111798, 0.47136519929983217, 0.9506043192127768, 0.04926820477954932, 0.9998003351159487, 0.9996400315444668, 0.9994529004103118, 0.9999514424095348, 0.9995697534439099, 0.9990610229547194, 0.035603682968538754, 0.9639921556691753, 0.9998113538954447, 0.9998694906706843, 0.999683771124528, 0.9998669303658347, 0.9997161612676251, 0.06388324018485891, 0.7636785055241418, 0.10440346681639799, 0.06789875813933575, 0.061378542341698365, 0.9386018569822108, 0.9994279908796623, 0.02323225785448333, 0.9761553860582047, 0.9983963473615476, 0.9996479206185631, 0.026431406928200316, 0.9622290760290068, 0.011327745826371565, 0.8083093000096225, 0.1913841641196982, 0.9998308254807906, 0.9998027419751812, 0.18394149135196075, 0.8158889512696688, 0.9991393755911243, 0.918991361544156, 0.08061991763134482, 0.8598517429541097, 0.14014824008591498, 0.999794661496023, 0.550911785283753, 0.01691826360844142, 0.43213749094053105, 0.9995873872014247, 0.9993266574627453, 0.9995262920322407, 0.9983787442216596, 0.8535305856774885, 0.1464459188191872, 0.9998552884393498, 0.9998033821864281, 0.38228664864928324, 0.6176184724040209, 0.030144981975013297, 0.038279342190493074, 0.9314639933019981, 0.3657202591385298, 0.6341840277953672, 0.999631588266885, 0.9975912593305107, 0.9994808422227436, 0.04572408016324966, 0.07148412532564383, 0.2859365013025753, 0.5963450455094251, 0.950601038865253, 0.04907268332501434, 0.9992868185474688, 0.9989723410439618, 0.9998790115537222, 0.10235665371269428, 0.897642888022838, 0.9999074963438024, 0.1354533176996643, 0.8640987508426861, 0.05725394255005469, 0.9427322000663348, 0.9998334664735177, 0.999328801625348, 0.002029935425057081, 0.00439819342095701, 0.9895935197153272, 0.0016916128542142344, 0.001522451568792811, 0.0008458064271071172, 0.9993148871097727, 0.5121158943203764, 0.10216334146382049, 0.3856223235599698, 0.0044104345905942345, 0.9952880726107657, 0.9995798258343868, 0.9993321455624278, 0.9976620101463325, 0.07791519455762001, 0.41429227317646894, 0.26246357079077437, 0.24527985718743217, 0.001661573367299162, 0.9981902004049716, 0.1261013477293165, 0.8737468589773467, 0.9991687313065115, 0.8009681908171795, 0.19901533169926278, 0.9999114437333826, 0.9984131260318155, 0.999985464694168, 0.8351555474698179, 0.16455066872714788, 0.9998412642914948, 0.02458504384316157, 0.1070639006073165, 0.6193844916615866, 0.24902270215331396, 0.9998476265439041, 0.999539997080383, 0.00042317527395443815, 0.9996541117999121, 0.6891082125483433, 0.11271317838224232, 0.1981186111076487, 0.9613449664190072, 0.038470345041724474, 0.7796488648433344, 0.22010135929741384, 0.645932186541858, 0.3540222665235022, 0.2323166941534391, 0.7673273190199372, 0.9998600749459361, 0.9996551221160833, 0.9997371631761517, 0.7521300711272076, 0.24762522475962875, 0.9996296620712911, 0.4040390452254244, 0.5959855722507992, 0.9842318308706832, 0.014690027326428108, 0.9989942044693072, 0.06501913246469763, 0.2325759904477402, 0.7024423495279721, 0.9997921370907716, 0.9979954144632789, 0.9992102991047118, 0.9993601806724751, 0.9681230730048684, 0.01134052921522349, 0.020293578595663088, 0.0118047062395281, 0.8593239573122319, 0.014224304412847524, 0.11460096802722, 0.9983391962062685, 0.9996202244951802, 0.7262948379965463, 0.22971315902375333, 0.043992395665685864, 0.051868209612578424, 0.9479506298363194, 0.08289575690430874, 0.9169485734166917, 0.10083843245277868, 0.7743189564834231, 0.027046069631374414, 0.09783331360484819, 0.8437942961458212, 0.1560188578212733, 0.07325265256677933, 0.9268052998666428, 0.9292422823776357, 0.07009842771354159, 0.9993737197575893, 0.34924440105081256, 0.6507457496245438, 0.059608287828873244, 0.8231620700177733, 0.11722963273011737, 0.9993263828575258, 0.09303792944946603, 0.9065951621541952, 0.007842291511798327, 0.0005601636794141662, 0.9914897125630743, 0.9989323037560732, 0.9994329412801412, 0.9997158407498684, 0.39977463516588724, 0.6001390107860217, 0.983085068346588, 0.016813529914025717, 0.9995863355704397, 0.3242721186190952, 0.4450946628161139, 0.23042028428799172, 0.2644771544099858, 0.7354027204902137, 0.15288851755969035, 0.0823245863782948, 0.1407918436428797, 0.6239867628754835, 0.9991786118573269, 0.9994628869547817, 0.9999374369687358, 0.21475085414051756, 0.017689840066490818, 0.10728032040323464, 0.06067805356140399, 0.5944166689009011, 0.005135760019303786, 0.025066207321508223, 0.9748990457522076, 0.4601922045696684, 0.2595008416131335, 0.28030911343288634, 0.0013337632229733936, 0.9583088757063832, 0.04034633749494516, 0.9998657285846342, 0.9999289958477667, 0.999751214748573, 0.999612257134109, 0.9992411901358256, 0.5066529485547624, 0.493109370343092, 0.8583347794662718, 0.0998985087872054, 0.04160079544396372, 0.9999674892295491, 0.38745955388790193, 0.6125341172563987, 0.05484024886738525, 0.9450057931787358, 0.14216809103033587, 0.8575039798904844, 0.9991131024907325, 0.9999671800520612, 0.025759021751823374, 0.9741875816743804, 0.9998031272876513, 0.9978880789575499, 0.9986203425884983, 0.781764075097138, 0.21815999877964856, 0.9992157016542731, 0.9999584664091151, 0.9997298096894323, 0.9999257583825202, 0.028219036627495715, 0.005394815825844769, 0.9662945115753496, 0.15876805735261257, 0.5216024031104193, 0.31955435272241933, 0.9996527828088976, 0.999036887243242, 0.9998706338336734, 0.9997936174208775, 0.999864441689903, 0.9521626773928606, 0.047919941709533835, 0.9996550102324029, 0.019509315980110454, 0.03374584385748835, 0.08304641261803773, 0.8636826912275924, 0.9990962696593292, 0.06284367382639028, 0.3156970438102194, 0.6214130335421297, 0.9996160931425246, 0.9998228518212342, 0.9338166335893566, 0.06603639221870629, 0.2585334838870376, 0.7412680373018683, 0.031655083760492114, 0.9681179783417171, 0.9992617182555752, 0.9984712308431464, 0.7224530941597956, 0.27744574689174323, 0.9987571476014658, 0.030121570748691234, 0.6785986989689229, 0.29123913628352416, 0.9998543051367077, 0.9989482794314136, 0.9978215189951265, 0.9999519665228518, 0.9999370024363525, 0.9992791278737795, 0.21063763277009886, 0.7893133550863853, 0.9995188928943509, 0.007146711526621568, 0.9926782310477358, 0.06979520207646477, 0.1000454228311553, 0.829937620817236, 0.9994383762504326, 0.9986296861499306, 0.14876800674485133, 0.08873881104078851, 0.7627622801961895, 0.9991948298545568, 0.9996684503339258, 0.9999583552940983, 0.028429201038131822, 0.9712603160639364, 0.9982550872273257, 0.0022730882828767914, 0.9967492120414729, 0.9990431363945813, 0.013763189946990408, 0.9853192802959042, 0.28284411903766316, 0.08119647366013047, 0.635902742636101, 0.9999562787489745, 0.9997694865560014, 0.9998922234416995, 0.999803268738145, 0.18363083516636633, 0.8161636467824547, 0.8383233602808786, 0.1616234087205063, 0.999160293928337, 0.9990503579985992, 0.7575869488355456, 0.18453348290109756, 0.05322561659079974, 0.004593073512911653, 0.022216783842482195, 0.28070051893290004, 0.11386101719272124, 0.5831905758651575, 0.2987630303612954, 0.2605368643303985, 0.44074593276176954, 0.9993236415409276, 0.0779600162363373, 0.9217219618738641, 0.9999369791906939, 0.9996836876834199, 0.9991003680860249, 0.06033707504206858, 0.9396081258687945, 0.04615592930832341, 0.7850031335797294, 0.0014093413529259054, 0.16771162099818276, 0.13113897458995427, 0.8672093480948588, 0.08180683053049966, 0.9178264779581764, 0.9985765833392108, 0.9993862648053544, 0.9116436905315125, 0.08831166972199982, 0.9999715797094976, 0.07407549679394065, 0.9256882771766928, 0.9996581278455515, 0.9999805264350051, 0.13080426679885448, 0.868774607843138, 0.9991733217185759, 0.9993511537468879, 0.9997768236769161, 0.9989605020811039, 0.9996271739989874, 0.9995937610958935, 0.9900110751435314, 0.00947970638147428, 0.9186540913371082, 0.08136754308403014, 0.9997266399343412, 0.9253275187729147, 0.07460908497822556, 0.9993479054143811, 0.8884036409103283, 0.11153195097750869, 0.9999452717706986, 0.999412402374664, 0.00038948261978747625, 0.9993517105273517, 0.9681188882743148, 0.03163911043871048, 0.979498523616698, 0.019891776740115014, 0.9997541341772631, 0.999883340570334, 0.9999384831051734, 0.9992175198691855, 9.446487787324026e-05, 0.3288322398767493, 0.6710784924114988, 0.7652846335517203, 0.11741731742219536, 0.11707197237095361, 0.8008209775976622, 0.14614841553052607, 0.05289826641012081, 0.9999659793980826, 0.1247532595766027, 0.8751774469534189, 0.011909695009837616, 0.98758855543115, 0.9993708612287814, 0.9995704018721018, 0.9996733901840669, 0.9995819747523514, 0.9012338412404173, 0.09858504314015891], \"Term\": [\"abdullah\", \"abdullah\", \"activist\", \"administration\", \"administration\", \"administration\", \"affiliate\", \"afghan\", \"afghan\", \"afghanistan\", \"afghans\", \"afghans\", \"afghans\", \"agency\", \"agency\", \"agency\", \"agent\", \"agreement\", \"aid\", \"aid\", \"airport\", \"airport\", \"airport\", \"airstrike\", \"album\", \"ally\", \"amazon\", \"ambassador\", \"america\", \"american\", \"american\", \"american\", \"americans\", \"americans\", \"americans\", \"americans\", \"app\", \"area\", \"arrest\", \"arrive\", \"art\", \"article\", \"artist\", \"ashraf_ghani\", \"athlete\", \"attack\", \"attack\", \"attacker\", \"austin\", \"australia\", \"bank\", \"barack_obama\", \"beijing\", \"biden\", \"bin_laden\", \"blinken\", \"blinken\", \"blinken\", \"bolton\", \"book\", \"bounty\", \"boy\", \"boy\", \"britain\", \"britain\", \"britain\", \"broadway\", \"brother\", \"brother\", \"brother\", \"bush\", \"california\", \"camp_david\", \"case\", \"chaos\", \"charge\", \"charge\", \"checkpoint\", \"cheney\", \"child\", \"child\", \"china\", \"china\", \"chinese\", \"city\", \"city\", \"city\", \"civilian\", \"civilian\", \"class\", \"classroom\", \"climate\", \"climate_change\", \"clinton\", \"com\", \"comedy\", \"commander\", \"commando\", \"commitment\", \"company\", \"compound\", \"congress\", \"continue\", \"continue\", \"contractor\", \"coronavirus\", \"coronavirus\", \"coronavirus\", \"coronavirus\", \"coronavirus\", \"coronavirus\", \"coronavirus\", \"correspondent\", \"country\", \"court\", \"covid\", \"covid\", \"covid\", \"covid\", \"covid\", \"covid\", \"covid\", \"crime\", \"crime\", \"criminal\", \"cry\", \"daughter\", \"daughter\", \"day\", \"day\", \"day\", \"deal\", \"deal\", \"department\", \"department\", \"department\", \"department\", \"detainee\", \"detention\", \"diplomat\", \"diplomatic\", \"direct\", \"direct\", \"direct\", \"director\", \"director\", \"director\", \"director\", \"director\", \"district\", \"document\", \"document\", \"documentary\", \"doha\", \"donald_trump\", \"drama\", \"dream\", \"dream\", \"drone_strike\", \"editor\", \"editor\", \"education\", \"education\", \"education\", \"effort\", \"election\", \"election\", \"end\", \"end\", \"ensure\", \"episode_daily\", \"episode_daily\", \"essay\", \"europe\", \"europe\", \"europe\", \"evacuate\", \"evacuate\", \"evacuation\", \"evacuation\", \"evidence\", \"explosion\", \"facebook\", \"family\", \"father\", \"feature\", \"feel\", \"feel\", \"female\", \"fighter\", \"film\", \"fire\", \"flee\", \"flight\", \"flight\", \"flight\", \"flight\", \"force\", \"force\", \"france\", \"friend\", \"friend\", \"gender\", \"general_milley\", \"germany\", \"germany\", \"germany\", \"get\", \"get\", \"ghani\", \"girl\", \"go\", \"go\", \"god\", \"good\", \"good\", \"government\", \"government\", \"governor\", \"group\", \"group\", \"group\", \"guant\\u00e1namo\", \"guant\\u00e1namo_bay\", \"guard\", \"gul\", \"health\", \"health\", \"hear\", \"herat_province\", \"hold\", \"hold\", \"home\", \"home\", \"home\", \"hospital\", \"hospital\", \"humanitarian\", \"hunter\", \"husband\", \"image\", \"image\", \"image\", \"image\", \"india\", \"india\", \"infection\", \"instagram\", \"insurgent\", \"intelligence\", \"intelligence\", \"international\", \"investigation\", \"investigation\", \"iran\", \"iran\", \"iraq\", \"iraqi\", \"isis\", \"isis\", \"isis\", \"isis\", \"isis\", \"isis\", \"islam\", \"islamic\", \"islamic\", \"islamic\", \"israel\", \"israel\", \"japan\", \"joe_biden\", \"journalism\", \"journalist\", \"journalist\", \"journalist\", \"journalist\", \"judge\", \"judge\", \"july\", \"july\", \"justice_department\", \"kabul\", \"kabul\", \"kandahar\", \"kid\", \"kill\", \"know\", \"know\", \"kunduz\", \"law\", \"law\", \"law\", \"law\", \"lawyer\", \"leader\", \"leader\", \"leadership\", \"leave\", \"leave\", \"leave\", \"let\", \"let\", \"life\", \"life\", \"like\", \"like\", \"live\", \"live\", \"local\", \"lockdown\", \"long\", \"look\", \"look\", \"lot\", \"love\", \"love\", \"make\", \"make\", \"male\", \"man\", \"man\", \"man\", \"marines\", \"marriage\", \"marry\", \"mattis\", \"meeting\", \"meeting\", \"meeting\", \"member\", \"member\", \"member\", \"member\", \"memoir\", \"migrant\", \"military\", \"military\", \"military\", \"militia\", \"militia\", \"million\", \"million\", \"money\", \"money\", \"money\", \"money\", \"morning\", \"morning\", \"mosque\", \"mosque\", \"mother\", \"mother\", \"movie\", \"mr\", \"mr\", \"ms\", \"ms\", \"ms\", \"museum\", \"music\", \"music\", \"muslim\", \"muslim\", \"muslim\", \"muslims\", \"narrative\", \"nato\", \"need\", \"need\", \"negotiation\", \"negotiation\", \"negotiator\", \"new\", \"new\", \"new\", \"new_york\", \"new_york\", \"news\", \"news\", \"news\", \"news\", \"novel\", \"nuclear\", \"obama\", \"office\", \"office\", \"office\", \"office\", \"office\", \"office\", \"officer\", \"officer\", \"official\", \"official\", \"official\", \"old\", \"old\", \"old\", \"outpost\", \"pakistan\", \"pandemic\", \"parent\", \"partner\", \"party\", \"party\", \"pay\", \"pay\", \"pay\", \"peace\", \"people\", \"people\", \"percent\", \"percent\", \"play\", \"play\", \"podcast\", \"police\", \"policy\", \"policy\", \"political\", \"portrait\", \"powell\", \"power\", \"power\", \"prayer\", \"president\", \"prison\", \"prisoner\", \"pro\", \"pro\", \"pro\", \"program\", \"program\", \"program\", \"promise\", \"prosecutor\", \"province\", \"provincial_capital\", \"qatar\", \"question\", \"question\", \"race\", \"read\", \"read\", \"read\", \"read\", \"reader\", \"refugee\", \"refugee\", \"refugee\", \"related\", \"release\", \"remain\", \"remain\", \"report\", \"report\", \"republican\", \"republican\", \"republicans\", \"retribution\", \"right\", \"right\", \"rumsfeld\", \"russia\", \"russia\", \"russia\", \"russian\", \"safe_haven\", \"saigon\", \"say\", \"school\", \"season\", \"security\", \"security\", \"senator\", \"sentence\", \"sentence\", \"sept\", \"sept\", \"sept\", \"sergeant\", \"sergeant_bergdahl\", \"series\", \"series\", \"series\", \"shop\", \"social_medium\", \"soldier\", \"son\", \"son\", \"song\", \"special_immigrant_visa\", \"special_immigrant_visa\", \"sport\", \"star\", \"star\", \"state\", \"state\", \"state\", \"states\", \"story\", \"student\", \"support\", \"syria\", \"syria\", \"talk\", \"talk\", \"teach\", \"teacher\", \"team\", \"team\", \"team\", \"team\", \"tell\", \"tell\", \"tell\", \"tell\", \"terrorist\", \"terrorist\", \"terrorist\", \"th_anniversary\", \"theater\", \"theater\", \"think\", \"time\", \"timeline\", \"times\", \"times\", \"today\", \"today\", \"today\", \"today\", \"today_mini_crossword_clue\", \"today_mini_crossword_clue\", \"transfer\", \"transfer\", \"trauma\", \"trial\", \"troop\", \"troop\", \"trump\", \"turkey\", \"turkey\", \"twitter\", \"united\", \"university\", \"university\", \"vaccinate\", \"vaccination\", \"vaccine\", \"variant\", \"vehicle\", \"vice\", \"vietnam\", \"vietnam\", \"village\", \"village\", \"virus\", \"vote\", \"vote\", \"voter\", \"want\", \"want\", \"war\", \"washington\", \"washington\", \"wear\", \"white_house\", \"white_house\", \"wife\", \"wife\", \"withdraw\", \"withdrawal\", \"woman\", \"women\", \"work\", \"work\", \"work\", \"worker\", \"worker\", \"worker\", \"world\", \"world\", \"world\", \"wound\", \"write\", \"write\", \"writer\", \"writer\", \"xinjiang\", \"year\", \"yemen\", \"yemeni\", \"young\", \"young\"]}, \"R\": 30, \"lambda.step\": 0.01, \"plot.opts\": {\"xlab\": \"PC1\", \"ylab\": \"PC2\"}, \"topic.order\": [4, 1, 7, 6, 2, 3, 5]};\n",
       "\n",
       "function LDAvis_load_lib(url, callback){\n",
       "  var s = document.createElement('script');\n",
       "  s.src = url;\n",
       "  s.async = true;\n",
       "  s.onreadystatechange = s.onload = callback;\n",
       "  s.onerror = function(){console.warn(\"failed to load library \" + url);};\n",
       "  document.getElementsByTagName(\"head\")[0].appendChild(s);\n",
       "}\n",
       "\n",
       "if(typeof(LDAvis) !== \"undefined\"){\n",
       "   // already loaded: just create the visualization\n",
       "   !function(LDAvis){\n",
       "       new LDAvis(\"#\" + \"ldavis_el1282415753290311047251447371\", ldavis_el1282415753290311047251447371_data);\n",
       "   }(LDAvis);\n",
       "}else if(typeof define === \"function\" && define.amd){\n",
       "   // require.js is available: use it to load d3/LDAvis\n",
       "   require.config({paths: {d3: \"https://d3js.org/d3.v5\"}});\n",
       "   require([\"d3\"], function(d3){\n",
       "      window.d3 = d3;\n",
       "      LDAvis_load_lib(\"https://cdn.jsdelivr.net/gh/bmabey/pyLDAvis@3.3.1/pyLDAvis/js/ldavis.v3.0.0.js\", function(){\n",
       "        new LDAvis(\"#\" + \"ldavis_el1282415753290311047251447371\", ldavis_el1282415753290311047251447371_data);\n",
       "      });\n",
       "    });\n",
       "}else{\n",
       "    // require.js not available: dynamically load d3 & LDAvis\n",
       "    LDAvis_load_lib(\"https://d3js.org/d3.v5.js\", function(){\n",
       "         LDAvis_load_lib(\"https://cdn.jsdelivr.net/gh/bmabey/pyLDAvis@3.3.1/pyLDAvis/js/ldavis.v3.0.0.js\", function(){\n",
       "                 new LDAvis(\"#\" + \"ldavis_el1282415753290311047251447371\", ldavis_el1282415753290311047251447371_data);\n",
       "            })\n",
       "         });\n",
       "}\n",
       "</script>"
      ],
      "text/plain": [
       "PreparedData(topic_coordinates=              x         y  topics  cluster       Freq\n",
       "topic                                                \n",
       "3     -0.111500 -0.004400       1        1  28.541801\n",
       "0     -0.061896 -0.377768       2        1  17.613436\n",
       "6     -0.393528 -0.155199       3        1  16.416045\n",
       "5     -0.250797  0.307496       4        1  12.321575\n",
       "1      0.282361 -0.265773       5        1  10.140131\n",
       "2      0.354354  0.082782       6        1   9.915123\n",
       "4      0.181006  0.412863       7        1   5.051889, topic_info=             Term           Freq          Total Category  logprob  loglift\n",
       "189            mr  117064.000000  117064.000000  Default  30.0000  30.0000\n",
       "430          kill   54778.000000   54778.000000  Default  29.0000  29.0000\n",
       "6344        trump   33825.000000   33825.000000  Default  28.0000  28.0000\n",
       "26262       biden   30377.000000   30377.000000  Default  27.0000  27.0000\n",
       "203       officer   27207.000000   27207.000000  Default  26.0000  26.0000\n",
       "...           ...            ...            ...      ...      ...      ...\n",
       "3851        image     926.309827    1552.792309   Topic7  -5.7475   2.4688\n",
       "1339       direct    1011.947457    2820.132976   Topic7  -5.6591   1.9605\n",
       "1787   journalist    1042.025193    4248.208605   Topic7  -5.6298   1.5801\n",
       "670          life    1042.352202    4734.182484   Topic7  -5.6295   1.4721\n",
       "2304     director     917.480225    2414.755682   Topic7  -5.7571   2.0177\n",
       "\n",
       "[405 rows x 6 columns], token_table=       Topic      Freq            Term\n",
       "term                                  \n",
       "5472       3  0.089938        abdullah\n",
       "5472       5  0.909573        abdullah\n",
       "15066      2  0.999141        activist\n",
       "1613       1  0.211117  administration\n",
       "1613       4  0.655630  administration\n",
       "...      ...       ...             ...\n",
       "366        1  0.999570            year\n",
       "12416      5  0.999673           yemen\n",
       "10612      5  0.999582          yemeni\n",
       "1133       6  0.901234           young\n",
       "1133       7  0.098585           young\n",
       "\n",
       "[596 rows x 3 columns], R=30, lambda_step=0.01, plot_opts={'xlab': 'PC1', 'ylab': 'PC2'}, topic_order=[4, 1, 7, 6, 2, 3, 5])"
      ]
     },
     "execution_count": 92,
     "metadata": {},
     "output_type": "execute_result"
    }
   ],
   "source": [
    "pyLDAvis.enable_notebook()\n",
    "vis = pyLDAvis.gensim_models.prepare(lda_model_nyt, corpus, id2word, mds = \"mmds\", R=30)\n",
    "vis"
   ]
  },
  {
   "cell_type": "code",
   "execution_count": 101,
   "id": "b92bb79f",
   "metadata": {},
   "outputs": [],
   "source": [
    "lda_model_guardian = gensim.models.ldamodel.LdaModel(corpus = corpus,\n",
    "                                            id2word = id2word,\n",
    "                                            num_topics = 7,\n",
    "                                            random_state = 100,\n",
    "                                            update_every = 1,\n",
    "                                             chunksize = 100,\n",
    "                                            passes = 10,\n",
    "                                            alpha = \"auto\",\n",
    "                                            )"
   ]
  },
  {
   "cell_type": "code",
   "execution_count": 102,
   "id": "04498bd9",
   "metadata": {},
   "outputs": [
    {
     "name": "stderr",
     "output_type": "stream",
     "text": [
      "C:\\Users\\ah140\\anaconda3\\lib\\site-packages\\pyLDAvis\\_prepare.py:246: FutureWarning: In a future version of pandas all arguments of DataFrame.drop except for the argument 'labels' will be keyword-only\n",
      "  default_term_info = default_term_info.sort_values(\n"
     ]
    },
    {
     "data": {
      "text/html": [
       "\n",
       "<link rel=\"stylesheet\" type=\"text/css\" href=\"https://cdn.jsdelivr.net/gh/bmabey/pyLDAvis@3.3.1/pyLDAvis/js/ldavis.v1.0.0.css\">\n",
       "\n",
       "\n",
       "<div id=\"ldavis_el1282415720956684008817229684\"></div>\n",
       "<script type=\"text/javascript\">\n",
       "\n",
       "var ldavis_el1282415720956684008817229684_data = {\"mdsDat\": {\"x\": [-0.03539120283752361, -0.11015379378023454, -0.3398779628348195, -0.2785675628476729, 0.2791178537285768, 0.3449259144034436, 0.13994675416823016], \"y\": [0.03887012885408725, -0.36598240037126156, -0.09917372908522228, 0.23798277083965727, -0.2874793201384114, 0.07479833293726391, 0.40098421696388686], \"topics\": [1, 2, 3, 4, 5, 6, 7], \"cluster\": [1, 1, 1, 1, 1, 1, 1], \"Freq\": [29.110792661883618, 15.883375994887242, 14.551441694893278, 12.76235834414045, 11.202670345301378, 8.61088196499024, 7.878478993903798]}, \"tinfo\": {\"Term\": [\"pakistan\", \"afghan\", \"group\", \"kabul\", \"woman\", \"australia\", \"australian\", \"attack\", \"afghans\", \"airport\", \"biden\", \"family\", \"people\", \"force\", \"afghanistan\", \"child\", \"foreign\", \"trump\", \"refugee\", \"evacuation\", \"president\", \"work\", \"government\", \"militant\", \"british\", \"isis\", \"protest\", \"border\", \"war\", \"talk\", \"trump\", \"war\", \"nato\", \"need\", \"global\", \"nation\", \"pandemic\", \"mean\", \"future\", \"obama\", \"strategy\", \"challenge\", \"economy\", \"bn\", \"intervention\", \"fail\", \"require\", \"escalate\", \"recognise\", \"failure\", \"datum\", \"defence_secretary\", \"argue\", \"address\", \"virus\", \"engagement\", \"create\", \"ministry_defence\", \"achieve\", \"advocate\", \"new\", \"america\", \"victory\", \"problem\", \"long\", \"conflict\", \"ally\", \"country\", \"britain\", \"decade\", \"aid\", \"national\", \"far\", \"economic\", \"development\", \"american\", \"risk\", \"world\", \"power\", \"support\", \"decision\", \"end\", \"international\", \"state\", \"uk\", \"china\", \"threat\", \"military\", \"government\", \"western\", \"withdrawal\", \"woman\", \"family\", \"child\", \"refugee\", \"girl\", \"life\", \"education\", \"school\", \"visa\", \"young\", \"female\", \"mother\", \"interpreter\", \"old\", \"father\", \"sister\", \"asylum\", \"ghani\", \"migrant\", \"charity\", \"asylum_seeker\", \"parent\", \"boy\", \"yousafzai\", \"lgbtq\", \"husband\", \"doctor\", \"male\", \"zahra\", \"vaccine\", \"live\", \"home\", \"feel\", \"work\", \"people\", \"friend\", \"know\", \"man\", \"university\", \"guardian\", \"day\", \"son\", \"right\", \"like\", \"student\", \"help\", \"try\", \"want\", \"leave\", \"go\", \"tell\", \"uk\", \"office\", \"afghan\", \"afghans\", \"force\", \"afghanistan\", \"evacuation\", \"troop\", \"say\", \"soldier\", \"evacuate\", \"mission\", \"airlift\", \"insurgent\", \"district\", \"helmand\", \"checkpoint\", \"lockdown\", \"karzai\", \"injure\", \"mod\", \"airstrike\", \"herat\", \"evacuation_flight\", \"mazar_sharif\", \"helicopter\", \"wound\", \"kunduz\", \"vehicle\", \"ngos\", \"raf\", \"president_ashraf_ghani\", \"evacuee\", \"kabul\", \"airport\", \"kandahar\", \"personnel\", \"civilian\", \"embassy\", \"fire\", \"british\", \"special\", \"flight\", \"kill\", \"area\", \"operation\", \"staff\", \"number\", \"security\", \"saturday\", \"situation\", \"government\", \"leave\", \"official\", \"uk\", \"city\", \"member\", \"attack\", \"report\", \"foreign\", \"pakistan\", \"group\", \"militant\", \"intelligence\", \"pakistani\", \"drone\", \"cia\", \"drone_strike\", \"marine\", \"bin_laden\", \"islamabad\", \"yemen\", \"provincial_capital\", \"saudi\", \"karachi\", \"omar\", \"milley\", \"ttp\", \"suicide_bomber\", \"isi\", \"underscore\", \"peshawar\", \"cross_border\", \"saifullah\", \"kashmir\", \"hardline_islamist\", \"mujahid\", \"haqqani_network\", \"mi\", \"dramatic\", \"iskp\", \"affiliate\", \"border\", \"doha\", \"al_qaida\", \"khan\", \"extremist\", \"attack\", \"analyst\", \"strike\", \"terrorist\", \"army\", \"india\", \"official\", \"target\", \"islamic\", \"leader\", \"region\", \"kill\", \"fighter\", \"military\", \"recent\", \"terrorism\", \"australian\", \"court\", \"covid\", \"yorkshire\", \"new_zealand\", \"sydney\", \"australians\", \"morrison\", \"nsw\", \"trial\", \"lawyer\", \"football\", \"wallace\", \"abc\", \"blackman\", \"film\", \"award\", \"icc\", \"boyle\", \"app\", \"paper\", \"hearing\", \"sentence\", \"brisbane\", \"coleman\", \"digital\", \"prosecutor\", \"roberts_smith\", \"melbourne\", \"detainee\", \"safi\", \"rita\", \"torture\", \"boat\", \"australia\", \"release\", \"case\", \"boris_johnson\", \"sport\", \"bbc\", \"player\", \"journalist\", \"story\", \"judge\", \"news\", \"match\", \"email\", \"medium\", \"cricket\", \"evidence\", \"company\", \"report\", \"crime\", \"play\", \"uk\", \"team\", \"police\", \"biden\", \"isis\", \"iran\", \"russia\", \"secretary\", \"prime_minister\", \"eu\", \"election\", \"syria\", \"putin\", \"qatar\", \"raab\", \"russian\", \"eligible\", \"cabinet\", \"mps\", \"safe_passage\", \"summit\", \"candidate\", \"republicans\", \"iranian\", \"voter\", \"blinken\", \"turkey\", \"labor\", \"israeli\", \"tehran\", \"moscow\", \"hamas\", \"powell\", \"biden_administration\", \"talk\", \"vote\", \"labour\", \"minister\", \"meeting\", \"president\", \"sanction\", \"foreign\", \"agreement\", \"deal\", \"peace\", \"iraq\", \"joe_biden\", \"government\", \"leader\", \"office\", \"policy\", \"takeover\", \"muslim\", \"muslims\", \"islam\", \"protester\", \"liberal\", \"hate\", \"stonewall\", \"bolton\", \"robertson\", \"art\", \"religion\", \"historical\", \"gay\", \"modi\", \"baton\", \"slogan\", \"diversity\", \"church\", \"bradford\", \"hindu\", \"god\", \"aboriginal\", \"homosexuality\", \"museum\", \"activism\", \"empathy\", \"contend\", \"heritage\", \"bangladesh\", \"hussain\", \"crystal\", \"racism\", \"music\", \"protest\", \"culture\", \"demonstration\", \"book\", \"cultural\", \"johnson\", \"faith\", \"social_medium\", \"south_asian\", \"religious\", \"ceremony\", \"history\", \"image\", \"party\", \"event\", \"tweet\", \"activist\", \"india\", \"world\", \"islamic\", \"violence\", \"community\", \"city\", \"west\", \"write\"], \"Freq\": [11520.0, 11619.0, 10737.0, 11766.0, 10678.0, 7383.0, 5490.0, 8061.0, 6009.0, 7202.0, 4501.0, 5434.0, 6763.0, 4527.0, 4426.0, 4470.0, 4577.0, 6274.0, 4166.0, 3924.0, 3776.0, 5014.0, 8236.0, 3266.0, 5535.0, 2625.0, 3097.0, 3308.0, 4894.0, 2561.0, 6273.82478484557, 4893.4793574246605, 3406.419942695273, 2838.737888394688, 1535.3959094517725, 1454.8720858541592, 1376.6214414159936, 1294.1078129985162, 1200.103410612327, 1122.628913742764, 990.4088572399107, 922.7015777095487, 892.4749550580384, 823.4993097441507, 809.5346000888992, 806.699429513959, 783.683708565802, 785.3232202037183, 849.7800200402986, 737.9346102686087, 708.5917286324875, 682.886647241034, 677.7472167173017, 629.0586844829544, 615.3599851548723, 595.3648491333948, 591.8399942571483, 590.3023673496083, 585.6306154890083, 585.8546429642444, 3569.693989290475, 1968.0195651654474, 965.1557158975975, 1164.7907180779741, 1151.4758506407497, 1358.651670760352, 1948.3554157641693, 5435.762380963561, 2810.3912570598736, 1595.0558017492322, 1734.9815153776553, 2730.3626646108446, 1008.8687053418219, 1096.3828521837168, 964.952818601852, 1945.5847853997554, 2224.0004704794383, 2522.1653014047292, 2055.649313514649, 1706.5102437345515, 1711.9823655646335, 2000.7842672753839, 1898.9683586468523, 2201.55601761094, 4099.748307976918, 1658.8273970411333, 1703.5896009889143, 2435.253899870477, 2886.0929596208875, 1774.9282584579826, 1486.2392624717893, 10677.164501612384, 5433.834272858693, 4469.82051737563, 4165.803193402366, 2814.032834656166, 2693.357639328048, 2123.514682535552, 2102.887403890503, 1517.63978782316, 1405.5022885885028, 1264.4379221748407, 1233.978151059885, 1233.9553093463278, 1102.9496029754448, 920.9519341294031, 875.194271446152, 869.1717594932401, 859.7322483224859, 794.8180883909932, 767.3939290947902, 757.9248275223825, 716.2098885738105, 619.1158640183779, 567.5523828352594, 1223.3617725110869, 561.4604805252537, 559.3281979125346, 556.3718831789149, 569.9623566588175, 542.8282179074758, 1748.1625140801943, 3074.8123522554097, 1981.1428010640304, 4417.0018234674, 5541.240509129553, 805.1999067676198, 1581.8504402814228, 2147.8878291606793, 1071.8141843560675, 1862.3508358013814, 1900.1239352501516, 1082.7634116626464, 2222.255949377184, 1587.1036883129857, 977.5071516803483, 1853.614399495646, 1514.9427351905777, 1593.2868709555776, 1936.396922465388, 1355.7058821661165, 1295.7276954040128, 1470.9800504976884, 1325.0664921218256, 11618.185629229647, 6008.257667181579, 4526.139159251028, 4425.863946503771, 3923.7345369376617, 3044.4268112565087, 2860.631037986593, 2852.1679458612607, 2443.973722437501, 1609.620862837728, 1328.92098843638, 1192.784167910174, 852.7232737556861, 829.7267264642018, 766.9287248948399, 879.7424214440719, 744.6148972616379, 641.788304158993, 628.3077813718953, 590.1337411546464, 589.9425511145005, 679.8489540974572, 529.6928385192812, 522.9319481008782, 495.13095838886915, 458.26806015091296, 443.4791300679326, 416.36660681267625, 351.9063140609344, 392.4878665063477, 396.13716280123117, 11332.815946024353, 6697.555150626215, 725.29994723575, 723.9704947675378, 1982.4493677408932, 1888.0331943831177, 928.7371679508575, 3931.0558789227525, 1074.4335697505462, 1364.8765266455007, 2625.6383450360386, 1026.6516751526633, 1420.72034720239, 1595.5404931896003, 1206.3413014658458, 2205.1388389289223, 1155.715415387699, 1447.6174249646463, 2947.731893589398, 2167.7637225983362, 1926.5479999331142, 2994.1130754180363, 1734.3898025938304, 1491.7552152028156, 2343.340860659922, 1625.646583217722, 1634.9849325666414, 11519.990274673708, 10736.292935122758, 3265.759301754189, 2387.2454582357295, 2278.3247747518462, 1495.6646810254028, 1237.6236424722138, 1147.3410567980602, 1114.8396679962132, 1026.5446733490471, 934.7727500543566, 880.1212964644544, 877.4065210323504, 833.2597536739923, 788.1676465889824, 717.430609780007, 724.9448718063792, 575.5670475741338, 576.1336743899947, 543.7306918525303, 545.8045230568166, 523.8672257517309, 521.867990041392, 512.7611872157644, 451.2564377306227, 425.64258366909365, 416.78629795664364, 405.7414026983348, 399.62412031140985, 403.7815851101471, 795.9929433217116, 684.7053649758201, 3092.892969353438, 1178.4785229570787, 1285.6635576973536, 1394.8443868833351, 1295.810213366149, 5717.608211855277, 769.204540452874, 1227.3633903103055, 1933.529802422258, 1487.4892095461562, 1487.5238307539714, 2067.3165774952577, 1409.0140547084686, 1270.3515290553103, 1225.382056128104, 980.3940471672582, 1303.3662572115916, 1081.8694329584096, 1115.3772004838197, 948.3790932872662, 935.8342585325332, 5490.032500811401, 1889.66010644671, 2288.8879334648814, 1069.739609102968, 977.1691999065396, 808.58436133452, 778.11268323596, 770.0946267428413, 690.2613516526816, 685.5502072110893, 576.1019755261779, 572.7502715675502, 590.1262972298414, 518.7042588200669, 516.8106107693027, 500.82163912943565, 450.58168748543414, 449.6523469496767, 443.86650185963583, 433.04885963608996, 426.6951215113285, 418.86480657433685, 416.0930174565591, 406.9683140433739, 388.33067000586107, 380.8794081083242, 381.4598111443469, 882.5621014737266, 356.35480155561123, 355.1593336262995, 380.96017389721874, 370.0959090346737, 1083.8096380796817, 697.7288460397128, 6564.3045138983325, 1514.5281285707697, 2343.361727232501, 829.3414436902016, 973.2558274016442, 798.5125897983663, 925.5583657052118, 1593.3781175585814, 1223.2639317171272, 860.9684356651132, 929.8082267329364, 964.2718767592072, 919.7443273439436, 1244.1270744740923, 970.5227887757047, 821.1664934734351, 781.4711609026099, 1586.0985172886685, 900.838664156582, 1034.7471216557979, 1506.3279142538124, 848.5172008568961, 912.0644070323623, 4500.11526939342, 2624.957104893694, 2383.747225898524, 2123.949762211476, 2083.3727728853733, 1702.1462290523057, 1685.5309531814498, 1604.757289405596, 1580.1038043918343, 1293.5352316890771, 1274.5137653240054, 1994.154130034728, 1020.7205673081844, 993.4427783104387, 934.5859084844744, 919.3259382422957, 732.4921274952316, 643.4511181468985, 615.0110891385153, 559.381501556957, 535.94729440406, 526.672452133361, 511.84917793198616, 1117.2893064211137, 461.6360753463261, 452.67639534180984, 424.1632396816959, 407.7332899179525, 383.2836120252745, 373.33829357764233, 503.9526721982387, 2436.629193288658, 1180.9527408757826, 809.6687949349913, 2187.765735390602, 1223.5265240211138, 2714.3140270062395, 898.0430336904108, 2871.86007431469, 976.996458308431, 1573.41001865618, 1778.7495629038006, 1301.9743005918876, 1072.5033365221427, 2006.3251442005276, 1133.6037263944704, 1107.4893031544061, 988.4317029687475, 1697.4386456148388, 1562.0509860710865, 994.1363972529673, 881.8880282088431, 685.9395190604739, 553.0558228384954, 509.33785494393766, 491.352106779875, 437.8780591861334, 581.4960309422977, 413.3469865196507, 386.8500805526766, 353.841968702544, 348.9383077011293, 304.50678858248256, 310.13166140363177, 303.8861301274394, 293.7062714271268, 287.7067160833836, 276.9784488595079, 264.89665953050303, 263.8539387344198, 262.7164797596954, 267.55497205249554, 249.5538597806397, 242.8751722475845, 239.03970298631805, 216.28698288039763, 210.63949306258078, 209.23865551375877, 311.1636530741611, 262.64910085121676, 767.1277562900352, 460.16000672099887, 2520.6763810647026, 973.1407002060079, 545.7609187083764, 754.9903686324099, 515.4064629397459, 1437.611927073585, 512.6076203312481, 972.3866572620784, 495.33351360692586, 540.6983593575081, 434.3797634245244, 690.5161777732562, 553.223669278661, 944.9322841306725, 649.6398831564074, 619.9579289774967, 748.2172862527312, 822.237265950212, 956.0036258732603, 772.3394504861029, 674.1138768749433, 661.501918535817, 591.4151933499012, 538.2061551573414, 531.663534394561], \"Total\": [11520.0, 11619.0, 10737.0, 11766.0, 10678.0, 7383.0, 5490.0, 8061.0, 6009.0, 7202.0, 4501.0, 5434.0, 6763.0, 4527.0, 4426.0, 4470.0, 4577.0, 6274.0, 4166.0, 3924.0, 3776.0, 5014.0, 8236.0, 3266.0, 5535.0, 2625.0, 3097.0, 3308.0, 4894.0, 2561.0, 6274.756404166264, 4894.402982543986, 3407.346162593038, 2839.662926655912, 1536.3207770563722, 1455.7975053537657, 1377.5944933386506, 1295.0355356258128, 1201.028954617205, 1123.5513707289842, 991.3340215101059, 923.6269207778046, 893.3998882963009, 824.4239947895405, 810.4586999415518, 807.6240790654745, 784.609486042177, 786.2557057877342, 850.8210713512813, 738.8593863436812, 709.5194249926476, 683.8141200814437, 678.671749451943, 629.985785265824, 616.2903766108133, 596.2930301933686, 592.7645096003938, 591.2311784710105, 586.5552233261667, 586.7841039329376, 3590.430665817435, 1974.4341117564504, 967.5261604023085, 1175.6236366692165, 1175.3822814640646, 1395.8392698317639, 2044.5904201810304, 6094.114392702291, 3169.653693903132, 1757.2661662010926, 1941.3588669939322, 3449.9287769949688, 1062.0033618645277, 1176.582998098798, 1007.1810333623421, 2463.6519852253887, 2926.341198430743, 3478.9282748482165, 2672.26960502581, 2109.2340159187925, 2181.5665698089397, 2724.1783931048485, 2583.860456033791, 3317.4743904429, 10140.654447152468, 2188.18937431059, 2303.158552745028, 4613.553414366979, 8236.436931299444, 2857.399497557457, 2437.2079459998686, 10678.132491870942, 5434.80183031223, 4470.7870703207645, 4166.771745375948, 2814.999709688218, 2694.325444557551, 2124.482229285875, 2103.853382193161, 1518.6104301034552, 1406.4692450903908, 1265.4058892762446, 1234.944598031417, 1234.9249023818293, 1103.916992376224, 921.9190875006029, 876.1627384310729, 870.13875632116, 860.7127815771022, 795.7856473875428, 768.3628460139896, 758.8914543953256, 717.1761191613755, 620.0823225827049, 568.5262280673863, 1225.4647987833014, 562.4267390165734, 560.2955049730073, 557.3405888921509, 570.9586581479035, 543.7996372208877, 1763.810416678034, 3179.9885983459026, 2088.6336452797245, 5014.244172620247, 6763.224139537659, 832.1074512033193, 1842.1892424922698, 2648.73976768102, 1188.2994110407903, 2445.427908609126, 2516.28879813242, 1215.566594212574, 3577.731431275906, 2275.5602077916237, 1058.0088469131008, 3282.4682754834007, 2480.496676770097, 2782.8133971810757, 5141.8625637591085, 2168.249473482254, 2078.3801584338935, 10140.654447152468, 3351.814210581816, 11619.12388481739, 6009.197386049783, 4527.075659977421, 4426.8014937136895, 3924.6835959564855, 3045.3638786661268, 2861.568819031377, 2853.1051111655324, 2444.9160150003836, 1610.5627358780962, 1329.8710299249817, 1193.7207246310968, 853.6611008318257, 830.6629644304105, 767.8669098352776, 880.8189349391716, 745.5507908956164, 642.7264432172183, 629.246428720053, 591.0722269276939, 590.883090446505, 680.9779098627262, 530.6389532235128, 523.8699452173764, 496.06775075165405, 459.20504378971356, 444.4168181353858, 417.3229185401831, 352.84546533393126, 393.58088114270515, 397.2719926794143, 11766.55777538085, 7202.1522393737705, 738.6749589523025, 750.2037556784733, 2370.36453223703, 2282.6882059464024, 1018.5696637230392, 5535.649786618852, 1229.0700769889047, 1699.565609820505, 3929.6958956162425, 1212.6131211104394, 1888.583185216975, 2223.0984491152253, 1531.9333836173732, 3695.954438407363, 1545.0042396590163, 2293.9427152782605, 8236.436931299444, 5141.8625637591085, 4147.58338916215, 10140.654447152468, 3461.310855627082, 2626.239972795387, 8061.641819945213, 3560.87546495258, 4577.166378067763, 11520.816490710304, 10737.122172509036, 3266.586152442521, 2388.0744156461255, 2279.150443317379, 1496.4915287246336, 1238.4514083463687, 1148.1694512943225, 1115.6705217993397, 1027.3707185561784, 935.5987318867436, 880.9493549235765, 878.2432702579385, 834.0870018985693, 788.9955275134935, 718.2588554062512, 725.84335984916, 576.3929203139791, 576.9616099713011, 544.5562753717471, 546.658751317846, 524.6935046094418, 522.6998229918654, 513.5913490038461, 452.0832782082123, 426.4853829349909, 417.62059969095696, 406.56882062680114, 400.45226996114036, 404.6199967876301, 803.7101599540308, 693.7086029988428, 3308.502026896205, 1220.5888772135304, 1396.922334952681, 1538.4710756532663, 1445.9550489241458, 8061.641819945213, 825.8452850915726, 1492.3232738652484, 2778.8811595434604, 2273.503574886762, 2310.423014018611, 4147.58338916215, 2244.195756264638, 2043.3536430543131, 2359.668127687665, 1502.0614645467924, 3929.6958956162425, 2192.0958051794364, 4613.553414366979, 1591.4905756393073, 1579.7569515927328, 5490.980144170238, 1890.6053295565662, 2290.2386625431936, 1070.717750647062, 978.1194781946583, 809.5321520374976, 779.0610895141032, 771.0635392138563, 691.2081871308294, 686.4957792709553, 577.0483591063328, 573.6970467076637, 591.1588917939321, 519.6507684603422, 517.770797417162, 501.76891647621096, 451.5290503256179, 450.5988365941005, 444.8136906657433, 433.99604470394496, 427.6438422402938, 419.81333323327306, 417.03876946479465, 407.91480918913555, 389.2777640906221, 381.82739193440773, 382.4122324385046, 884.8441448630784, 357.30252888798407, 356.1059294512582, 381.99029052398436, 371.15625808269414, 1100.8548975770566, 708.9879221946477, 7383.251004127661, 1619.9394511360224, 2566.189262492492, 874.8253330344013, 1059.4595443488176, 871.5611796289828, 1032.4669116221232, 2000.1822027455075, 1505.286468833116, 991.32183998016, 1098.2266575045473, 1199.5752008767581, 1149.8429161685094, 1761.4364050794754, 1267.792270953929, 1002.34436041244, 930.0184064736994, 3560.87546495258, 1241.7431990133111, 1851.2557058716027, 10140.654447152468, 1468.355760561674, 2734.099925660533, 4501.047338993032, 2625.8955491245106, 2384.6750370382765, 2124.8776433929065, 2084.3016732002293, 1703.0764852840155, 1686.4598470580715, 1605.6839239394167, 1581.032366191427, 1294.4629630788966, 1275.4443307329113, 1995.9227033099382, 1021.6489520790625, 994.3942702324395, 935.5224111441452, 920.2562511807502, 733.4470431499249, 644.379367072855, 615.938134082544, 560.3108411475719, 536.8747527195285, 527.599392636804, 512.8574395507579, 1119.5575330861993, 462.5740018108368, 453.60347905616834, 425.0902371245644, 408.66130993634204, 384.21100237816887, 374.2678904589406, 507.70794412596587, 2561.99259759637, 1220.440920080306, 851.7937004077585, 2536.9459728982365, 1458.0826371564156, 3776.7043579673737, 1022.2879157791499, 4577.166378067763, 1162.6814698993473, 2299.1170859074227, 3062.0192896891, 1950.2020970833591, 1534.078473002659, 8236.436931299444, 2359.668127687665, 3351.814210581816, 2214.16149029795, 1698.3946213319173, 1562.9576912508132, 995.0431865445889, 882.7951829155559, 686.8496136992412, 553.9657038816702, 510.24644022672385, 492.34976046981114, 438.79331534601334, 582.7284412567839, 414.25512212684845, 387.7566539783715, 354.7522656698013, 349.84893077457764, 305.4150475309823, 311.05744603374075, 304.79687657226276, 294.61732892298846, 288.61423592341816, 277.89055475838944, 265.8034277537197, 264.7623742051363, 263.6277169234166, 268.49107729952607, 250.46119355208515, 243.78495151558013, 239.95173759672463, 217.20761628232805, 211.54628291321023, 210.14934651053574, 312.8530418486256, 264.44813971269406, 804.540365060761, 478.77533485324403, 3097.1023872812575, 1116.6924998952343, 615.9452632808367, 904.1241632283835, 584.1912712369714, 1986.4408175932788, 588.3500056848236, 1394.4459720858285, 594.0526761850842, 677.9453761647893, 506.43405071232996, 1004.0095111478338, 739.2494728590606, 1868.6164871553672, 1028.3773423897183, 1004.8292737020538, 1796.5732142409493, 2310.423014018611, 3478.9282748482165, 2043.3536430543131, 1774.791650203752, 1924.4263144722217, 3461.310855627082, 1662.2578556422022, 1663.5415383035865], \"Category\": [\"Default\", \"Default\", \"Default\", \"Default\", \"Default\", \"Default\", \"Default\", \"Default\", \"Default\", \"Default\", \"Default\", \"Default\", \"Default\", \"Default\", \"Default\", \"Default\", \"Default\", \"Default\", \"Default\", \"Default\", \"Default\", \"Default\", \"Default\", \"Default\", \"Default\", \"Default\", \"Default\", \"Default\", \"Default\", \"Default\", \"Topic1\", \"Topic1\", \"Topic1\", \"Topic1\", \"Topic1\", \"Topic1\", \"Topic1\", \"Topic1\", \"Topic1\", \"Topic1\", \"Topic1\", \"Topic1\", \"Topic1\", \"Topic1\", \"Topic1\", \"Topic1\", \"Topic1\", \"Topic1\", \"Topic1\", \"Topic1\", \"Topic1\", \"Topic1\", \"Topic1\", \"Topic1\", \"Topic1\", \"Topic1\", \"Topic1\", \"Topic1\", \"Topic1\", \"Topic1\", \"Topic1\", \"Topic1\", \"Topic1\", \"Topic1\", \"Topic1\", \"Topic1\", \"Topic1\", \"Topic1\", \"Topic1\", \"Topic1\", \"Topic1\", \"Topic1\", \"Topic1\", \"Topic1\", \"Topic1\", \"Topic1\", \"Topic1\", \"Topic1\", \"Topic1\", \"Topic1\", \"Topic1\", \"Topic1\", \"Topic1\", \"Topic1\", \"Topic1\", \"Topic1\", \"Topic1\", \"Topic1\", \"Topic1\", \"Topic1\", \"Topic1\", \"Topic2\", \"Topic2\", \"Topic2\", \"Topic2\", \"Topic2\", \"Topic2\", \"Topic2\", \"Topic2\", \"Topic2\", \"Topic2\", \"Topic2\", \"Topic2\", \"Topic2\", \"Topic2\", \"Topic2\", \"Topic2\", \"Topic2\", \"Topic2\", \"Topic2\", \"Topic2\", \"Topic2\", \"Topic2\", \"Topic2\", \"Topic2\", \"Topic2\", \"Topic2\", \"Topic2\", \"Topic2\", \"Topic2\", \"Topic2\", \"Topic2\", \"Topic2\", \"Topic2\", \"Topic2\", \"Topic2\", \"Topic2\", \"Topic2\", \"Topic2\", \"Topic2\", \"Topic2\", \"Topic2\", \"Topic2\", \"Topic2\", \"Topic2\", \"Topic2\", \"Topic2\", \"Topic2\", \"Topic2\", \"Topic2\", \"Topic2\", \"Topic2\", \"Topic2\", \"Topic2\", \"Topic3\", \"Topic3\", \"Topic3\", \"Topic3\", \"Topic3\", \"Topic3\", \"Topic3\", \"Topic3\", \"Topic3\", \"Topic3\", \"Topic3\", \"Topic3\", \"Topic3\", \"Topic3\", \"Topic3\", \"Topic3\", \"Topic3\", \"Topic3\", \"Topic3\", \"Topic3\", \"Topic3\", \"Topic3\", \"Topic3\", \"Topic3\", \"Topic3\", \"Topic3\", \"Topic3\", \"Topic3\", \"Topic3\", \"Topic3\", \"Topic3\", \"Topic3\", \"Topic3\", \"Topic3\", \"Topic3\", \"Topic3\", \"Topic3\", \"Topic3\", \"Topic3\", \"Topic3\", \"Topic3\", \"Topic3\", \"Topic3\", \"Topic3\", \"Topic3\", \"Topic3\", \"Topic3\", \"Topic3\", \"Topic3\", \"Topic3\", \"Topic3\", \"Topic3\", \"Topic3\", \"Topic3\", \"Topic3\", \"Topic3\", \"Topic3\", \"Topic3\", \"Topic4\", \"Topic4\", \"Topic4\", \"Topic4\", \"Topic4\", \"Topic4\", \"Topic4\", \"Topic4\", \"Topic4\", \"Topic4\", \"Topic4\", \"Topic4\", \"Topic4\", \"Topic4\", \"Topic4\", \"Topic4\", \"Topic4\", \"Topic4\", \"Topic4\", \"Topic4\", \"Topic4\", \"Topic4\", \"Topic4\", \"Topic4\", \"Topic4\", \"Topic4\", \"Topic4\", \"Topic4\", \"Topic4\", \"Topic4\", \"Topic4\", \"Topic4\", \"Topic4\", \"Topic4\", \"Topic4\", \"Topic4\", \"Topic4\", \"Topic4\", \"Topic4\", \"Topic4\", \"Topic4\", \"Topic4\", \"Topic4\", \"Topic4\", \"Topic4\", \"Topic4\", \"Topic4\", \"Topic4\", \"Topic4\", \"Topic4\", \"Topic4\", \"Topic4\", \"Topic4\", \"Topic5\", \"Topic5\", \"Topic5\", \"Topic5\", \"Topic5\", \"Topic5\", \"Topic5\", \"Topic5\", \"Topic5\", \"Topic5\", \"Topic5\", \"Topic5\", \"Topic5\", \"Topic5\", \"Topic5\", \"Topic5\", \"Topic5\", \"Topic5\", \"Topic5\", \"Topic5\", \"Topic5\", \"Topic5\", \"Topic5\", \"Topic5\", \"Topic5\", \"Topic5\", \"Topic5\", \"Topic5\", \"Topic5\", \"Topic5\", \"Topic5\", \"Topic5\", \"Topic5\", \"Topic5\", \"Topic5\", \"Topic5\", \"Topic5\", \"Topic5\", \"Topic5\", \"Topic5\", \"Topic5\", \"Topic5\", \"Topic5\", \"Topic5\", \"Topic5\", \"Topic5\", \"Topic5\", \"Topic5\", \"Topic5\", \"Topic5\", \"Topic5\", \"Topic5\", \"Topic5\", \"Topic5\", \"Topic5\", \"Topic5\", \"Topic5\", \"Topic6\", \"Topic6\", \"Topic6\", \"Topic6\", \"Topic6\", \"Topic6\", \"Topic6\", \"Topic6\", \"Topic6\", \"Topic6\", \"Topic6\", \"Topic6\", \"Topic6\", \"Topic6\", \"Topic6\", \"Topic6\", \"Topic6\", \"Topic6\", \"Topic6\", \"Topic6\", \"Topic6\", \"Topic6\", \"Topic6\", \"Topic6\", \"Topic6\", \"Topic6\", \"Topic6\", \"Topic6\", \"Topic6\", \"Topic6\", \"Topic6\", \"Topic6\", \"Topic6\", \"Topic6\", \"Topic6\", \"Topic6\", \"Topic6\", \"Topic6\", \"Topic6\", \"Topic6\", \"Topic6\", \"Topic6\", \"Topic6\", \"Topic6\", \"Topic6\", \"Topic6\", \"Topic6\", \"Topic6\", \"Topic7\", \"Topic7\", \"Topic7\", \"Topic7\", \"Topic7\", \"Topic7\", \"Topic7\", \"Topic7\", \"Topic7\", \"Topic7\", \"Topic7\", \"Topic7\", \"Topic7\", \"Topic7\", \"Topic7\", \"Topic7\", \"Topic7\", \"Topic7\", \"Topic7\", \"Topic7\", \"Topic7\", \"Topic7\", \"Topic7\", \"Topic7\", \"Topic7\", \"Topic7\", \"Topic7\", \"Topic7\", \"Topic7\", \"Topic7\", \"Topic7\", \"Topic7\", \"Topic7\", \"Topic7\", \"Topic7\", \"Topic7\", \"Topic7\", \"Topic7\", \"Topic7\", \"Topic7\", \"Topic7\", \"Topic7\", \"Topic7\", \"Topic7\", \"Topic7\", \"Topic7\", \"Topic7\", \"Topic7\", \"Topic7\", \"Topic7\", \"Topic7\", \"Topic7\", \"Topic7\", \"Topic7\", \"Topic7\", \"Topic7\", \"Topic7\", \"Topic7\", \"Topic7\"], \"logprob\": [30.0, 29.0, 28.0, 27.0, 26.0, 25.0, 24.0, 23.0, 22.0, 21.0, 20.0, 19.0, 18.0, 17.0, 16.0, 15.0, 14.0, 13.0, 12.0, 11.0, 10.0, 9.0, 8.0, 7.0, 6.0, 5.0, 4.0, 3.0, 2.0, 1.0, -4.6873, -4.9358, -5.298, -5.4803, -6.0949, -6.1488, -6.204, -6.2659, -6.3413, -6.408, -6.5333, -6.6041, -6.6374, -6.7179, -6.735, -6.7385, -6.7674, -6.7653, -6.6865, -6.8276, -6.8682, -6.9051, -6.9127, -6.9872, -7.0092, -7.0423, -7.0482, -7.0508, -7.0587, -7.0584, -5.2512, -5.8466, -6.5591, -6.3711, -6.3826, -6.2172, -5.8567, -4.8307, -5.4904, -6.0568, -5.9727, -5.5192, -6.5148, -6.4317, -6.5594, -5.8581, -5.7244, -5.5986, -5.8031, -5.9892, -5.986, -5.8301, -5.8824, -5.7345, -5.1127, -6.0176, -5.9909, -5.6336, -5.4638, -5.9499, -6.1274, -3.5497, -4.2252, -4.4205, -4.4909, -4.8832, -4.927, -5.1648, -5.1745, -5.5007, -5.5774, -5.6832, -5.7076, -5.7076, -5.8199, -6.0002, -6.0511, -6.0581, -6.069, -6.1475, -6.1826, -6.195, -6.2516, -6.3973, -6.4843, -5.7162, -6.4951, -6.4989, -6.5042, -6.48, -6.5288, -5.3593, -4.7946, -5.2342, -4.4324, -4.2056, -6.1345, -5.4592, -5.1534, -5.8485, -5.296, -5.2759, -5.8383, -5.1193, -5.4559, -5.9406, -5.3007, -5.5025, -5.452, -5.257, -5.6135, -5.6588, -5.5319, -5.6364, -3.3777, -4.0371, -4.3204, -4.3428, -4.4632, -4.7169, -4.7792, -4.7822, -4.9366, -5.3543, -5.5459, -5.654, -5.9896, -6.0169, -6.0956, -5.9584, -6.1251, -6.2738, -6.295, -6.3577, -6.358, -6.2161, -6.4657, -6.4786, -6.5332, -6.6106, -6.6434, -6.7064, -6.8746, -6.7655, -6.7563, -3.4026, -3.9285, -6.1514, -6.1533, -5.1459, -5.1947, -5.9042, -4.4613, -5.7585, -5.5192, -4.8649, -5.804, -5.4791, -5.363, -5.6427, -5.0395, -5.6855, -5.4603, -4.7492, -5.0566, -5.1745, -4.7336, -5.2796, -5.4303, -4.9787, -5.3443, -5.3386, -3.255, -3.3254, -4.5156, -4.8289, -4.8756, -5.2965, -5.4859, -5.5616, -5.5904, -5.6729, -5.7665, -5.8268, -5.8299, -5.8815, -5.9371, -6.0311, -6.0207, -6.2515, -6.2505, -6.3084, -6.3046, -6.3456, -6.3494, -6.367, -6.4948, -6.5532, -6.5742, -6.6011, -6.6163, -6.6059, -5.9272, -6.0778, -4.57, -5.5348, -5.4478, -5.3663, -5.4399, -3.9555, -5.9615, -5.4942, -5.0397, -5.302, -5.302, -4.9728, -5.3562, -5.4598, -5.4958, -5.7189, -5.4341, -5.6204, -5.5899, -5.7521, -5.7654, -3.8658, -4.9323, -4.7407, -5.5013, -5.5918, -5.7812, -5.8196, -5.83, -5.9394, -5.9463, -6.1202, -6.126, -6.0961, -6.2251, -6.2288, -6.2602, -6.3659, -6.368, -6.3809, -6.4056, -6.4204, -6.4389, -6.4456, -6.4677, -6.5146, -6.534, -6.5325, -5.6936, -6.6005, -6.6039, -6.5338, -6.5627, -5.4882, -5.9286, -3.6871, -5.1536, -4.7171, -5.7558, -5.5958, -5.7937, -5.6461, -5.1029, -5.3672, -5.7184, -5.6415, -5.6051, -5.6524, -5.3503, -5.5986, -5.7657, -5.8153, -5.1074, -5.6731, -5.5346, -5.159, -5.733, -5.6608, -3.8015, -4.3405, -4.4369, -4.5523, -4.5716, -4.7737, -4.7835, -4.8326, -4.8481, -5.0482, -5.063, -4.6154, -5.2851, -5.3122, -5.3732, -5.3897, -5.6169, -5.7465, -5.7917, -5.8865, -5.9293, -5.9468, -5.9753, -5.1947, -6.0786, -6.0982, -6.1632, -6.2027, -6.2646, -6.2909, -5.9909, -4.415, -5.1393, -5.5167, -4.5227, -5.1039, -4.3071, -5.4131, -4.2506, -5.3289, -4.8523, -4.7297, -5.0417, -5.2356, -4.6093, -5.1802, -5.2035, -5.3172, -4.6876, -4.7707, -5.2226, -5.3424, -5.5937, -5.809, -5.8913, -5.9273, -6.0425, -5.7589, -6.1002, -6.1664, -6.2556, -6.2696, -6.4058, -6.3875, -6.4078, -6.4419, -6.4625, -6.5005, -6.5451, -6.5491, -6.5534, -6.5351, -6.6048, -6.6319, -6.6478, -6.7478, -6.7743, -6.781, -6.3841, -6.5536, -5.4818, -5.9929, -4.2922, -5.2439, -5.8223, -5.4978, -5.8795, -4.8537, -5.8849, -5.2447, -5.9192, -5.8316, -6.0505, -5.587, -5.8087, -5.2733, -5.648, -5.6948, -5.5068, -5.4124, -5.2617, -5.475, -5.6111, -5.6299, -5.7419, -5.8362, -5.8484], \"loglift\": [30.0, 29.0, 28.0, 27.0, 26.0, 25.0, 24.0, 23.0, 22.0, 21.0, 20.0, 19.0, 18.0, 17.0, 16.0, 15.0, 14.0, 13.0, 12.0, 11.0, 10.0, 9.0, 8.0, 7.0, 6.0, 5.0, 4.0, 3.0, 2.0, 1.0, 1.2339, 1.2339, 1.2338, 1.2337, 1.2335, 1.2334, 1.2334, 1.2333, 1.2333, 1.2332, 1.2331, 1.2331, 1.233, 1.2329, 1.2329, 1.2329, 1.2329, 1.2329, 1.2328, 1.2328, 1.2328, 1.2327, 1.2327, 1.2326, 1.2326, 1.2325, 1.2325, 1.2325, 1.2325, 1.2325, 1.2283, 1.2308, 1.2316, 1.2248, 1.2135, 1.2071, 1.1858, 1.1197, 1.1138, 1.1372, 1.1217, 1.0001, 1.1827, 1.1635, 1.1912, 0.998, 0.9596, 0.9125, 0.9717, 1.0222, 0.9917, 0.9254, 0.9261, 0.824, 0.3284, 0.9571, 0.9325, 0.5951, 0.1854, 0.7579, 0.7395, 1.8398, 1.8397, 1.8397, 1.8397, 1.8396, 1.8395, 1.8394, 1.8394, 1.8393, 1.8392, 1.8391, 1.8391, 1.8391, 1.839, 1.8388, 1.8388, 1.8388, 1.8388, 1.8387, 1.8386, 1.8386, 1.8385, 1.8383, 1.8382, 1.8382, 1.8382, 1.8382, 1.8382, 1.8382, 1.8381, 1.831, 1.8063, 1.7871, 1.7131, 1.6406, 1.807, 1.6875, 1.6303, 1.7367, 1.5675, 1.559, 1.7242, 1.3637, 1.4796, 1.7608, 1.2684, 1.3468, 1.2822, 0.8633, 1.3703, 1.3674, -0.0907, 0.9119, 1.9274, 1.9273, 1.9273, 1.9273, 1.9272, 1.9272, 1.9272, 1.9272, 1.9271, 1.9269, 1.9268, 1.9267, 1.9264, 1.9264, 1.9263, 1.9263, 1.9262, 1.926, 1.926, 1.9259, 1.9259, 1.9258, 1.9257, 1.9257, 1.9256, 1.9254, 1.9254, 1.9252, 1.9248, 1.9247, 1.9246, 1.8899, 1.8548, 1.9092, 1.8919, 1.7488, 1.7377, 1.8352, 1.5852, 1.793, 1.7082, 1.5242, 1.761, 1.6428, 1.5958, 1.6885, 1.411, 1.6372, 1.4671, 0.8999, 1.0638, 1.1607, 0.7076, 1.2365, 1.3619, 0.6919, 1.1434, 0.898, 2.0586, 2.0586, 2.0584, 2.0583, 2.0583, 2.0581, 2.058, 2.0579, 2.0579, 2.0579, 2.0578, 2.0577, 2.0577, 2.0577, 2.0576, 2.0575, 2.0574, 2.0572, 2.0572, 2.0572, 2.0571, 2.0571, 2.0571, 2.0571, 2.0568, 2.0567, 2.0567, 2.0566, 2.0566, 2.0566, 2.049, 2.0456, 1.9913, 2.0236, 1.9757, 1.9607, 1.949, 1.7151, 1.9876, 1.8632, 1.696, 1.6344, 1.6184, 1.3624, 1.5932, 1.5834, 1.4034, 1.632, 0.9551, 1.3525, 0.6389, 1.541, 1.5351, 2.1888, 2.1885, 2.1884, 2.1881, 2.188, 2.1878, 2.1878, 2.1878, 2.1876, 2.1876, 2.1874, 2.1874, 2.1873, 2.1872, 2.1872, 2.1871, 2.1869, 2.1869, 2.1869, 2.1868, 2.1868, 2.1868, 2.1867, 2.1867, 2.1866, 2.1865, 2.1865, 2.1864, 2.1864, 2.1864, 2.1863, 2.1862, 2.1734, 2.173, 2.0715, 2.1217, 2.0982, 2.1356, 2.1042, 2.1015, 2.0797, 1.9616, 1.9816, 2.048, 2.0225, 1.9707, 1.9657, 1.8413, 1.9218, 1.9896, 2.015, 1.3803, 1.8681, 1.6073, 0.2821, 1.6406, 1.0912, 2.4519, 2.4518, 2.4518, 2.4517, 2.4517, 2.4516, 2.4516, 2.4516, 2.4516, 2.4514, 2.4514, 2.4513, 2.4512, 2.4512, 2.4511, 2.4511, 2.4508, 2.4507, 2.4506, 2.4505, 2.4504, 2.4504, 2.4502, 2.4501, 2.4501, 2.4501, 2.45, 2.4499, 2.4497, 2.4497, 2.4447, 2.402, 2.4193, 2.4014, 2.3041, 2.2768, 2.1218, 2.3226, 1.986, 2.2781, 2.0729, 1.909, 2.0481, 2.0942, 1.0399, 1.719, 1.3447, 1.6456, 2.5405, 2.5405, 2.5401, 2.54, 2.5397, 2.5394, 2.5393, 2.539, 2.5389, 2.5389, 2.5388, 2.5387, 2.5385, 2.5384, 2.5381, 2.5381, 2.538, 2.5379, 2.5379, 2.5377, 2.5376, 2.5376, 2.5376, 2.5375, 2.5374, 2.5373, 2.5372, 2.5368, 2.5367, 2.5367, 2.5356, 2.5342, 2.4934, 2.5014, 2.3351, 2.4034, 2.4201, 2.3608, 2.4158, 2.2177, 2.4032, 2.1805, 2.3593, 2.3148, 2.3876, 2.1667, 2.2512, 1.8592, 2.0817, 2.0581, 1.6651, 1.5079, 1.2493, 1.5681, 1.573, 1.4732, 0.7742, 1.4133, 1.4003]}, \"token.table\": {\"Topic\": [5, 7, 1, 7, 2, 7, 1, 1, 4, 5, 3, 3, 3, 1, 3, 4, 6, 1, 3, 3, 2, 3, 4, 5, 3, 1, 4, 1, 4, 1, 4, 1, 3, 4, 4, 6, 5, 3, 4, 1, 3, 4, 7, 2, 2, 3, 4, 2, 5, 5, 5, 5, 7, 7, 1, 5, 6, 1, 3, 4, 6, 4, 5, 6, 1, 3, 5, 7, 2, 5, 7, 2, 4, 2, 5, 2, 5, 7, 5, 1, 2, 6, 1, 3, 5, 6, 6, 6, 1, 2, 5, 4, 5, 7, 1, 2, 3, 2, 1, 6, 7, 4, 2, 3, 4, 7, 1, 3, 4, 5, 1, 2, 7, 2, 3, 5, 1, 3, 7, 1, 3, 5, 5, 1, 5, 7, 1, 2, 5, 4, 2, 7, 1, 2, 7, 1, 2, 7, 1, 2, 3, 1, 4, 6, 1, 4, 1, 5, 6, 1, 4, 6, 7, 5, 1, 3, 5, 3, 7, 2, 4, 5, 4, 4, 4, 1, 6, 1, 2, 6, 6, 2, 5, 3, 4, 6, 7, 1, 3, 6, 1, 1, 6, 3, 3, 3, 3, 1, 7, 1, 4, 5, 4, 7, 1, 1, 1, 7, 2, 1, 3, 2, 1, 2, 2, 3, 4, 5, 3, 4, 5, 2, 3, 5, 5, 3, 1, 3, 6, 1, 2, 1, 7, 2, 2, 1, 1, 2, 3, 7, 1, 3, 4, 6, 4, 1, 2, 6, 6, 4, 4, 7, 5, 3, 3, 1, 2, 3, 3, 7, 7, 7, 1, 7, 2, 3, 7, 2, 3, 7, 5, 1, 5, 7, 4, 7, 3, 3, 4, 1, 3, 2, 1, 6, 6, 1, 6, 4, 6, 1, 4, 7, 7, 4, 4, 7, 6, 1, 6, 2, 7, 3, 4, 5, 1, 5, 2, 3, 3, 4, 4, 3, 4, 2, 4, 3, 4, 1, 2, 4, 3, 6, 1, 2, 6, 5, 4, 6, 1, 2, 3, 2, 7, 7, 2, 1, 2, 7, 1, 2, 3, 1, 4, 2, 2, 3, 4, 5, 4, 1, 3, 5, 3, 1, 1, 4, 5, 7, 3, 4, 6, 5, 3, 4, 6, 4, 2, 4, 1, 3, 4, 4, 3, 6, 1, 3, 3, 7, 5, 6, 2, 6, 4, 7, 5, 7, 7, 7, 1, 1, 3, 6, 1, 1, 1, 5, 5, 3, 4, 5, 3, 5, 1, 2, 3, 1, 2, 3, 5, 6, 3, 4, 6, 2, 4, 3, 4, 4, 4, 1, 5, 2, 6, 7, 1, 3, 4, 6, 1, 2, 3, 1, 3, 4, 1, 2, 5, 7, 1, 5, 2, 3, 4, 5, 1, 6, 6, 1, 6, 7, 1, 4, 6, 3, 6, 1, 2, 3, 5, 3, 4, 5, 7, 7, 4, 6, 6, 1, 6, 5, 7, 3, 1, 3, 4, 1, 2, 1, 4, 6, 3, 5, 7, 4, 7, 3, 4, 5, 6, 1, 1, 2, 1, 2, 3, 5, 3, 5, 7, 6, 6, 6, 5, 4, 1, 6, 3, 4, 5, 6, 4, 3, 2, 6, 1, 3, 4, 6, 5, 2, 1, 2, 3, 7, 5, 7, 3, 2, 4, 5, 4, 7, 3, 4, 5, 2, 5, 2, 3, 5, 6, 1, 6, 7, 7, 2, 5, 1, 3, 4, 2, 7, 4, 6, 1, 4, 6, 5, 6, 7, 2, 6, 1, 3, 4, 2, 3, 4, 5, 6, 6, 2, 3, 4, 5, 6, 1, 4, 1, 4, 1, 4, 1, 2, 5, 5, 3, 1, 1, 2, 3, 4, 4, 6, 7, 5, 7, 1, 2, 3, 5, 6, 4, 1, 2, 2, 3, 1, 4, 1, 3, 4, 7, 1, 2, 6, 7, 6, 5, 1, 2, 6, 1, 1, 3, 4, 7, 1, 3, 4, 7, 1, 3, 6, 2, 1, 2, 3, 1, 7, 3, 1, 2, 5, 7, 4, 5, 2, 2, 2], \"Freq\": [0.9987476811354088, 0.9976189266790982, 0.9990534167899516, 0.996780147787219, 0.5833327535403444, 0.41634818668719237, 0.9984352261767175, 0.9986637266966127, 0.9874463096447179, 0.011532219674682835, 0.9999032728432425, 0.9998189451876648, 0.9998007411018712, 0.0808475944904648, 0.06794638260368852, 0.01032096950942104, 0.840298934225363, 0.8937039047739456, 0.1061112417195578, 0.9993450267692268, 0.019160939037856154, 0.9299997802576849, 0.03290683008675296, 0.018050159963197827, 0.9981859629350761, 0.07946039462799483, 0.9205952026270391, 0.9527580589111446, 0.04695316922765394, 0.996741288190809, 0.003038845390825637, 0.7898842903422372, 0.05723210942356395, 0.1526189584628372, 0.9311671494434102, 0.06780931127286212, 0.9977049452037646, 0.8469312941785869, 0.15256308609838226, 0.9990101997725919, 0.3452820609877858, 0.6540565919603025, 0.9969701711341444, 0.998691293413967, 0.9988253202876874, 0.2906355866869713, 0.7092847992642347, 0.11079130311873334, 0.8890392587669507, 0.9998214992324678, 0.9986379893330766, 0.9988283138698687, 0.9945308109227068, 0.9966004799202716, 0.08261037972188008, 0.9167457416358636, 0.9997673121577818, 0.0039392726135949255, 0.0019696363067974627, 0.0019696363067974627, 0.9926966986259212, 0.999639157950015, 0.998511315390889, 0.9983281132637776, 0.9982727397570421, 0.014104612627314361, 0.9845019613865424, 0.9981920523438518, 0.03207524052498367, 0.132725133206829, 0.835062296426299, 0.06498409197037648, 0.9348641696017418, 0.051438839618320055, 0.9476177343019406, 0.9982545501729562, 0.998170715778722, 0.9967953039671905, 0.9977573523477756, 0.8865321802836283, 0.016721069592538187, 0.09622502312687069, 0.22490584628556134, 0.7101244030108769, 0.06304589586639431, 0.0018064726609282036, 0.9994415835067957, 0.9984769020935172, 0.08066435435044442, 0.005845243068872783, 0.9130269673579288, 0.003949181531508159, 0.13822135360278556, 0.8569723923372705, 0.9993212402500388, 0.9982262989145563, 0.9988710155051953, 0.9998239526265992, 0.758161071192791, 0.24175238496744206, 0.9978717753770776, 0.9996355058072312, 0.18230087568534273, 0.5009662732779466, 0.1456095742399568, 0.17074456026947316, 0.07889081930512978, 0.8361583094265628, 0.08437520781297303, 0.996717603191112, 0.1345855635272953, 0.5211942865555105, 0.3439986218342452, 0.09247128809641689, 0.0655900996962957, 0.8397683256197859, 0.9736077995310993, 0.025790935086916537, 0.9944402673212049, 0.8920081983544017, 0.10797303063230249, 0.9996798223578963, 0.9994591556926132, 0.9987102642145206, 0.7658983433219604, 0.23347673493645754, 0.24481712502356232, 0.028991501647527115, 0.7255928606783869, 0.9986611378824279, 0.0037814597640446093, 0.9945239179437323, 0.041082435122973, 0.0753177977254505, 0.8815605870137957, 0.018805535097594167, 0.10925120390030897, 0.8713231261885298, 0.9992679199830886, 0.7550802600282498, 0.24440755785124926, 0.29620066075548335, 0.019137781311661186, 0.6841756818918874, 0.9076598813986818, 0.09218865253077521, 0.7847571665667465, 0.09396917006202281, 0.1210139555920684, 0.9988094424237003, 0.09091716965516645, 0.022729292413791614, 0.886442404137873, 0.9968943806890204, 0.9581197103945392, 0.04070767681469027, 0.9978330733941952, 0.9992255699232617, 0.9979046415048117, 0.9976878183717185, 0.9651079261751458, 0.03359034378028945, 0.9984677060141555, 0.9996715459358113, 0.9989814645451469, 0.9315109956297095, 0.06714358453900278, 0.9984330776009269, 0.9997730132644899, 0.9995740606670964, 0.9985978698045861, 0.1991576386477821, 0.8001092906373779, 0.8270949992564732, 0.09944415510128148, 0.07315935639609694, 0.9960336290695083, 0.7345333936517223, 0.15894700622248664, 0.10645411502198875, 0.9978315523947189, 0.9984029295069139, 0.9997273299694186, 0.9996253388685895, 0.9998258213841263, 0.9985639624302596, 0.9967981818430357, 0.3675693584629284, 0.6320637116426018, 0.10076377339863617, 0.07881522869794313, 0.8190797817849533, 0.8962934227895127, 0.10304608024354737, 0.999227265405216, 0.9988368742962934, 0.1274751411155372, 0.8719299652302744, 0.9998524637443527, 0.9500911543524012, 0.04896406345522781, 0.999003071405003, 0.05122966406378549, 0.9484669580407389, 0.9988889815606526, 0.5063647297610424, 0.4935915654067098, 0.9984675884636082, 0.912063291384855, 0.020617146522154954, 0.06676028397650176, 0.06942950558552562, 0.803146399357987, 0.1270912983599452, 0.9987849916403371, 0.9997623940799287, 0.015293304682000722, 0.3572079022153026, 0.6274624435243724, 0.03124596464363001, 0.9674231360816214, 0.9991432724304861, 0.9975734361322812, 0.9991718705794096, 0.9996448633068141, 0.9991402986432932, 0.3685000318329557, 0.6253892905700725, 0.005534418500620111, 0.9971205341868341, 0.35039423285484717, 0.3579217596867946, 0.04807904234598734, 0.24355191653043082, 0.9998954866591805, 0.12390469534321125, 0.7614209330992058, 0.11409046204869946, 0.9968480799074647, 0.9986009241290953, 0.9988619001860026, 0.9975571799654889, 0.9980626312484908, 0.9983393870457381, 0.9992018851702807, 0.31927193564290085, 0.5648188632461242, 0.11576654154990679, 0.9985054734840395, 0.9974176671615905, 0.9969773612006836, 0.9978794619721991, 0.31175003476029106, 0.6882404920746361, 0.9669845991270178, 0.0327045197753528, 0.9981709734846115, 0.9974632446902008, 0.0031963889310171753, 0.9940769575463415, 0.998671020549838, 0.04463986950490734, 0.20561394438623984, 0.7480559950367804, 0.6440379060334334, 0.35577900454266276, 0.9988697474253867, 0.9993962368113198, 0.9995500912203212, 0.7349468101365477, 0.2647201780586617, 0.9992510456465447, 0.9994340242857719, 0.9997169270329114, 0.9983706577463413, 0.33176048829381644, 0.6676231155464436, 0.9989784795494876, 0.9996589547802809, 0.0037326889088618574, 0.9904067904846794, 0.004976918545149143, 0.9990992441611092, 0.9993600548329772, 0.6215272644150139, 0.3778102741168431, 0.9986695890044229, 0.30050613975286583, 0.6994427070603579, 0.2758702877762766, 0.723907798945777, 0.14398688259733686, 0.05899462550863107, 0.7964274443665195, 0.13113803686863368, 0.8685373057222584, 0.03679920740337205, 0.9631533891510751, 0.9814871767526838, 0.01759908041073778, 0.9987382342753819, 0.9992612295468767, 0.9976038082795149, 0.09294942379029081, 0.9067443789332564, 0.6682450931965052, 0.33157782042461775, 0.12159445665688168, 0.8587608501392269, 0.018999133852637764, 0.9973758045430673, 0.9987591135502865, 0.01526191141561252, 0.03287180920285773, 0.9509344805112416, 0.9981832387359071, 0.5191408001939778, 0.4805760550367109, 0.20167789145298953, 0.3765172592603546, 0.4216370961138682, 0.9979886825098946, 0.0008160169112918189, 0.9982567442805513, 0.9995080607057962, 0.11645484004010428, 0.6974106835609264, 0.18588829183760042, 0.00850431534940759, 0.9910362153842978, 0.9990702573404281, 0.979255871176062, 0.019568101682927393, 0.9975946684686726, 0.8109516934087416, 0.017366749486406943, 0.03699872716669305, 0.1344035395034972, 0.99939899657987, 0.16089028837786754, 0.03417876592483197, 0.8036178134521467, 0.998795879534227, 0.9992003805321741, 0.13114296907561493, 0.10502791895666132, 0.7062417901734415, 0.05733956656552861, 0.06926905061908727, 0.09121568051820403, 0.839458593641216, 0.9963545489251423, 0.5681125927010796, 0.201047888033626, 0.23074814422041168, 0.9988706020790337, 0.999012739938045, 0.999820561156153, 0.527792740497425, 0.23019133076314796, 0.24167922203475517, 0.9988380966255098, 0.13717280687788583, 0.8624543145080869, 0.9979176022580635, 0.9996505967351906, 0.9980191723573412, 0.9986410377146195, 0.9986206853783534, 0.9983817652411356, 0.9992351089814695, 0.998634889815594, 0.9985139629333031, 0.998158622716979, 0.03759592169784065, 0.9607846656114832, 0.9993872570856049, 0.9989516168155359, 0.9994521866187894, 0.7913206841266861, 0.20174329529383644, 0.006666804298503216, 0.999604923442233, 0.9997665474131844, 0.9943096893606819, 0.005570362405381972, 0.9988554790906274, 0.09378756133459956, 0.059186325114067684, 0.8468197285551222, 0.9968299882862635, 0.9982520647855105, 0.18930327069132694, 0.022846946462746355, 0.7872404981163458, 0.9995092607749422, 0.3953083067125022, 0.16259851106287826, 0.1115813635550761, 0.3302689022873509, 0.46460789794735674, 0.4983624935429094, 0.03688895090085396, 0.999169328506983, 0.9982473513597835, 0.7524158909827129, 0.24727531392605692, 0.9999291290933275, 0.999495231514553, 0.9995684554914198, 0.9984944428594578, 0.9983600692633899, 0.4939483336171895, 0.505721750019766, 0.13422515050247466, 0.013063274988075394, 0.2717161197519682, 0.5809891550946531, 0.017447299921671176, 0.8192838039489829, 0.16308789672545176, 0.03332427998496271, 0.96507114836452, 0.9986782672105727, 0.26360485936773453, 0.06374051927334565, 0.559079978372142, 0.11343651735086938, 0.10266672840242591, 0.8968810424589282, 0.11667459444553133, 0.3705058438035211, 0.17885227800584583, 0.33356498474709895, 0.5532568448000408, 0.4462185817652574, 0.9966123450841966, 0.7693834469894897, 0.16540247255318796, 0.06511319055261246, 0.2764314865677974, 0.004766060113237886, 0.7186159526293124, 0.9959833385755037, 0.9993679172407598, 0.9909634033054019, 0.005954286543465934, 0.0025518370900568287, 0.9963070416720216, 0.02260177134842752, 0.15627510475198456, 0.007103413852362935, 0.8139866509912255, 0.9987630280598611, 0.9985843668832516, 0.9996423512359168, 0.9996516267137617, 0.000501021406461107, 0.9990366844834473, 0.045988991487339065, 0.95333936407538, 0.9976038650996092, 0.2626468584849068, 0.14137689750981824, 0.5956679948413676, 0.9990349658947948, 0.9998147857806696, 0.19706250841693101, 0.6524366832722716, 0.15045988818319733, 0.06481723741363676, 0.9352201398253305, 0.9980486370237409, 0.20208117765331463, 0.7979993949667388, 0.4566292800755539, 0.09800960562507277, 0.4453960874537691, 0.9976605108248715, 0.9992231982240599, 0.3787316141605336, 0.6210639458780115, 0.759993401040393, 0.07859643985579604, 0.1609518398786084, 0.996884713493268, 0.0011301425293996164, 0.9979158534598612, 0.9970338821062927, 0.9995869675622804, 0.9993647993493833, 0.998027065261985, 0.9974075505358371, 0.9988486001468034, 0.12031835464498665, 0.8784218087089269, 0.7482180115280008, 0.14627791574855378, 0.0330096181556471, 0.07249171045946029, 0.9986967763601459, 0.9998012212645057, 0.9995943718319994, 0.999375487139426, 0.3087159268369316, 0.5965982635192236, 0.07873473681818326, 0.01569283414245577, 0.9975091777051621, 0.9986729195615475, 0.2855345931864506, 0.08326275923452224, 0.6312276197465351, 0.9973855487588179, 0.3019120198470388, 0.6970510291955385, 0.999612663704114, 0.8909425490600548, 0.051005021275829544, 0.05758631434367852, 0.16496853549981638, 0.8332594395143788, 0.8738313787861385, 0.03417217682403893, 0.09112580486410383, 0.08022958540832636, 0.9183927835564889, 0.11875317537334876, 0.717916923847972, 0.11785353010536885, 0.0454320860329857, 0.6637579498258076, 0.267372071523838, 0.0690284153088601, 0.9972585333066413, 0.18667543076888785, 0.8124699353393232, 0.9986543168284755, 0.17690536938167345, 0.8222079099670959, 0.92437790369472, 0.07561373445355582, 0.9983333207016167, 0.9978593866542921, 0.8092985354479136, 0.04598825889774318, 0.1446022573588832, 0.9993426424927556, 0.9993470303242976, 0.9991788590740922, 0.048399827585893604, 0.9512127405388928, 0.03787548379535244, 0.3337498513261056, 0.6278418431488422, 0.17570673737903278, 0.16821536485512054, 0.012258609584583682, 0.5781977520728637, 0.06537925111777963, 0.9974352807254783, 0.6235625348620367, 0.16743808806480615, 0.007698302899531317, 0.16599465627114401, 0.03560465091033234, 0.4070246371454283, 0.5924962058602191, 0.30407921443420927, 0.6959635511429121, 0.7398535363399456, 0.260077622222786, 0.009083849308396277, 0.005450309585037766, 0.9846892650301564, 0.9992778116254672, 0.9995521459108118, 0.9998794528237365, 0.14755109467696434, 0.6107647771464507, 0.2132637406669785, 0.028623299787061386, 0.9993183116930634, 0.9977155858358175, 0.0017864200283541944, 0.38215447146085185, 0.6170202403795003, 0.40431315566139764, 0.14505967121412583, 0.2952472165976157, 0.14851112498196703, 0.006804294570886936, 0.9987949496532197, 0.09761849490306455, 0.9021295391041827, 0.9985295370460814, 0.9968119610294447, 0.9973890520942006, 0.002067127569107152, 0.32679892309241715, 0.24847987083406198, 0.04507571352998857, 0.37976288649015366, 0.9979062197629801, 0.9995980337739326, 0.9676830566466825, 0.03195566402135531, 0.9988639247027779, 0.9980396272304807, 0.1509263971581602, 0.5724422635070219, 0.27633904622529804, 0.9997133496058683, 0.6515234663045645, 0.004812731053034641, 0.019250924212138563, 0.3236561633165796, 0.6211942017618794, 0.14103733144227462, 0.19948208169254722, 0.038146573516644994, 0.6097140797685878, 0.3836357096794277, 0.00615458357774483, 0.9998939428901258, 0.04646762143580323, 0.8808904887637032, 0.07259319400271405, 0.7249359000107679, 0.2747972721690302, 0.997847570719854, 0.11060739738884781, 0.09978710851385184, 0.46948031174288124, 0.31979964897210345, 0.9989223501688598, 0.9993296546670415, 0.9996663666183752, 0.9990743996645939, 0.9983209674917388], \"Term\": [\"abc\", \"aboriginal\", \"achieve\", \"activism\", \"activist\", \"activist\", \"address\", \"advocate\", \"affiliate\", \"affiliate\", \"afghan\", \"afghanistan\", \"afghans\", \"agreement\", \"agreement\", \"agreement\", \"agreement\", \"aid\", \"aid\", \"airlift\", \"airport\", \"airport\", \"airport\", \"airport\", \"airstrike\", \"al_qaida\", \"al_qaida\", \"ally\", \"ally\", \"america\", \"america\", \"american\", \"american\", \"american\", \"analyst\", \"analyst\", \"app\", \"area\", \"area\", \"argue\", \"army\", \"army\", \"art\", \"asylum\", \"asylum_seeker\", \"attack\", \"attack\", \"australia\", \"australia\", \"australian\", \"australians\", \"award\", \"bangladesh\", \"baton\", \"bbc\", \"bbc\", \"biden\", \"biden_administration\", \"biden_administration\", \"biden_administration\", \"biden_administration\", \"bin_laden\", \"blackman\", \"blinken\", \"bn\", \"boat\", \"boat\", \"bolton\", \"book\", \"book\", \"book\", \"border\", \"border\", \"boris_johnson\", \"boris_johnson\", \"boy\", \"boyle\", \"bradford\", \"brisbane\", \"britain\", \"britain\", \"britain\", \"british\", \"british\", \"british\", \"british\", \"cabinet\", \"candidate\", \"case\", \"case\", \"case\", \"ceremony\", \"ceremony\", \"ceremony\", \"challenge\", \"charity\", \"checkpoint\", \"child\", \"china\", \"china\", \"church\", \"cia\", \"city\", \"city\", \"city\", \"city\", \"civilian\", \"civilian\", \"civilian\", \"coleman\", \"community\", \"community\", \"community\", \"company\", \"company\", \"company\", \"conflict\", \"conflict\", \"contend\", \"country\", \"country\", \"court\", \"covid\", \"create\", \"cricket\", \"cricket\", \"crime\", \"crime\", \"crime\", \"cross_border\", \"crystal\", \"crystal\", \"cultural\", \"cultural\", \"cultural\", \"culture\", \"culture\", \"culture\", \"datum\", \"day\", \"day\", \"deal\", \"deal\", \"deal\", \"decade\", \"decade\", \"decision\", \"decision\", \"decision\", \"defence_secretary\", \"demonstration\", \"demonstration\", \"demonstration\", \"detainee\", \"development\", \"development\", \"digital\", \"district\", \"diversity\", \"doctor\", \"doha\", \"doha\", \"dramatic\", \"drone\", \"drone_strike\", \"economic\", \"economic\", \"economy\", \"education\", \"election\", \"eligible\", \"email\", \"email\", \"embassy\", \"embassy\", \"embassy\", \"empathy\", \"end\", \"end\", \"end\", \"engagement\", \"escalate\", \"eu\", \"evacuate\", \"evacuation\", \"evacuation_flight\", \"evacuee\", \"event\", \"event\", \"evidence\", \"evidence\", \"evidence\", \"extremist\", \"extremist\", \"fail\", \"failure\", \"faith\", \"faith\", \"family\", \"far\", \"far\", \"father\", \"feel\", \"feel\", \"female\", \"fighter\", \"fighter\", \"film\", \"fire\", \"fire\", \"fire\", \"flight\", \"flight\", \"flight\", \"football\", \"force\", \"foreign\", \"foreign\", \"foreign\", \"friend\", \"friend\", \"future\", \"gay\", \"ghani\", \"girl\", \"global\", \"go\", \"go\", \"go\", \"god\", \"government\", \"government\", \"government\", \"government\", \"group\", \"guardian\", \"guardian\", \"guardian\", \"hamas\", \"haqqani_network\", \"hardline_islamist\", \"hate\", \"hearing\", \"helicopter\", \"helmand\", \"help\", \"help\", \"help\", \"herat\", \"heritage\", \"hindu\", \"historical\", \"history\", \"history\", \"home\", \"home\", \"homosexuality\", \"husband\", \"hussain\", \"hussain\", \"icc\", \"image\", \"image\", \"image\", \"india\", \"india\", \"injure\", \"insurgent\", \"intelligence\", \"international\", \"international\", \"interpreter\", \"intervention\", \"iran\", \"iranian\", \"iraq\", \"iraq\", \"isi\", \"isis\", \"iskp\", \"iskp\", \"iskp\", \"islam\", \"islamabad\", \"islamic\", \"islamic\", \"israeli\", \"joe_biden\", \"joe_biden\", \"johnson\", \"johnson\", \"journalist\", \"journalist\", \"journalist\", \"judge\", \"judge\", \"kabul\", \"kabul\", \"kandahar\", \"kandahar\", \"karachi\", \"karzai\", \"kashmir\", \"khan\", \"khan\", \"kill\", \"kill\", \"know\", \"know\", \"know\", \"kunduz\", \"labor\", \"labour\", \"labour\", \"labour\", \"lawyer\", \"leader\", \"leader\", \"leave\", \"leave\", \"leave\", \"lgbtq\", \"lgbtq\", \"liberal\", \"life\", \"like\", \"like\", \"like\", \"live\", \"live\", \"lockdown\", \"long\", \"long\", \"male\", \"man\", \"man\", \"man\", \"man\", \"marine\", \"match\", \"match\", \"match\", \"mazar_sharif\", \"mean\", \"medium\", \"medium\", \"medium\", \"medium\", \"meeting\", \"meeting\", \"meeting\", \"melbourne\", \"member\", \"member\", \"member\", \"mi\", \"migrant\", \"militant\", \"military\", \"military\", \"military\", \"milley\", \"minister\", \"minister\", \"ministry_defence\", \"mission\", \"mod\", \"modi\", \"morrison\", \"moscow\", \"mother\", \"mps\", \"mujahid\", \"museum\", \"music\", \"music\", \"muslim\", \"muslims\", \"nation\", \"national\", \"national\", \"national\", \"nato\", \"need\", \"new\", \"new\", \"new_zealand\", \"news\", \"news\", \"news\", \"ngos\", \"nsw\", \"number\", \"number\", \"number\", \"obama\", \"office\", \"office\", \"office\", \"office\", \"official\", \"official\", \"official\", \"old\", \"omar\", \"operation\", \"operation\", \"pakistan\", \"pakistani\", \"pandemic\", \"paper\", \"parent\", \"party\", \"party\", \"peace\", \"peace\", \"peace\", \"peace\", \"people\", \"people\", \"people\", \"personnel\", \"personnel\", \"peshawar\", \"play\", \"play\", \"play\", \"play\", \"player\", \"player\", \"police\", \"police\", \"police\", \"police\", \"policy\", \"policy\", \"powell\", \"power\", \"power\", \"power\", \"president\", \"president\", \"president\", \"president_ashraf_ghani\", \"prime_minister\", \"problem\", \"problem\", \"problem\", \"prosecutor\", \"protest\", \"protest\", \"protest\", \"protest\", \"protester\", \"provincial_capital\", \"putin\", \"qatar\", \"raab\", \"raab\", \"racism\", \"racism\", \"raf\", \"recent\", \"recent\", \"recent\", \"recognise\", \"refugee\", \"region\", \"region\", \"region\", \"release\", \"release\", \"religion\", \"religious\", \"religious\", \"report\", \"report\", \"report\", \"republicans\", \"require\", \"right\", \"right\", \"risk\", \"risk\", \"risk\", \"rita\", \"roberts_smith\", \"roberts_smith\", \"robertson\", \"russia\", \"russian\", \"safe_passage\", \"safi\", \"saifullah\", \"sanction\", \"sanction\", \"saturday\", \"saturday\", \"saturday\", \"saturday\", \"saudi\", \"say\", \"school\", \"secretary\", \"security\", \"security\", \"security\", \"security\", \"sentence\", \"sister\", \"situation\", \"situation\", \"situation\", \"slogan\", \"social_medium\", \"social_medium\", \"soldier\", \"son\", \"son\", \"son\", \"south_asian\", \"south_asian\", \"special\", \"special\", \"special\", \"sport\", \"sport\", \"staff\", \"staff\", \"staff\", \"staff\", \"state\", \"state\", \"state\", \"stonewall\", \"story\", \"story\", \"strategy\", \"strike\", \"strike\", \"student\", \"student\", \"suicide_bomber\", \"summit\", \"support\", \"support\", \"support\", \"sydney\", \"syria\", \"takeover\", \"talk\", \"talk\", \"target\", \"target\", \"target\", \"team\", \"team\", \"team\", \"team\", \"team\", \"tehran\", \"tell\", \"tell\", \"tell\", \"tell\", \"tell\", \"terrorism\", \"terrorism\", \"terrorist\", \"terrorist\", \"threat\", \"threat\", \"torture\", \"torture\", \"torture\", \"trial\", \"troop\", \"trump\", \"try\", \"try\", \"try\", \"try\", \"ttp\", \"turkey\", \"turkey\", \"tweet\", \"tweet\", \"uk\", \"uk\", \"uk\", \"uk\", \"uk\", \"underscore\", \"university\", \"university\", \"vaccine\", \"vehicle\", \"victory\", \"victory\", \"violence\", \"violence\", \"violence\", \"violence\", \"virus\", \"visa\", \"vote\", \"vote\", \"voter\", \"wallace\", \"want\", \"want\", \"want\", \"war\", \"west\", \"west\", \"west\", \"west\", \"western\", \"western\", \"western\", \"western\", \"withdrawal\", \"withdrawal\", \"withdrawal\", \"woman\", \"work\", \"work\", \"work\", \"world\", \"world\", \"wound\", \"write\", \"write\", \"write\", \"write\", \"yemen\", \"yorkshire\", \"young\", \"yousafzai\", \"zahra\"]}, \"R\": 30, \"lambda.step\": 0.01, \"plot.opts\": {\"xlab\": \"PC1\", \"ylab\": \"PC2\"}, \"topic.order\": [1, 5, 2, 6, 3, 7, 4]};\n",
       "\n",
       "function LDAvis_load_lib(url, callback){\n",
       "  var s = document.createElement('script');\n",
       "  s.src = url;\n",
       "  s.async = true;\n",
       "  s.onreadystatechange = s.onload = callback;\n",
       "  s.onerror = function(){console.warn(\"failed to load library \" + url);};\n",
       "  document.getElementsByTagName(\"head\")[0].appendChild(s);\n",
       "}\n",
       "\n",
       "if(typeof(LDAvis) !== \"undefined\"){\n",
       "   // already loaded: just create the visualization\n",
       "   !function(LDAvis){\n",
       "       new LDAvis(\"#\" + \"ldavis_el1282415720956684008817229684\", ldavis_el1282415720956684008817229684_data);\n",
       "   }(LDAvis);\n",
       "}else if(typeof define === \"function\" && define.amd){\n",
       "   // require.js is available: use it to load d3/LDAvis\n",
       "   require.config({paths: {d3: \"https://d3js.org/d3.v5\"}});\n",
       "   require([\"d3\"], function(d3){\n",
       "      window.d3 = d3;\n",
       "      LDAvis_load_lib(\"https://cdn.jsdelivr.net/gh/bmabey/pyLDAvis@3.3.1/pyLDAvis/js/ldavis.v3.0.0.js\", function(){\n",
       "        new LDAvis(\"#\" + \"ldavis_el1282415720956684008817229684\", ldavis_el1282415720956684008817229684_data);\n",
       "      });\n",
       "    });\n",
       "}else{\n",
       "    // require.js not available: dynamically load d3 & LDAvis\n",
       "    LDAvis_load_lib(\"https://d3js.org/d3.v5.js\", function(){\n",
       "         LDAvis_load_lib(\"https://cdn.jsdelivr.net/gh/bmabey/pyLDAvis@3.3.1/pyLDAvis/js/ldavis.v3.0.0.js\", function(){\n",
       "                 new LDAvis(\"#\" + \"ldavis_el1282415720956684008817229684\", ldavis_el1282415720956684008817229684_data);\n",
       "            })\n",
       "         });\n",
       "}\n",
       "</script>"
      ],
      "text/plain": [
       "PreparedData(topic_coordinates=              x         y  topics  cluster       Freq\n",
       "topic                                                \n",
       "0     -0.035391  0.038870       1        1  29.110793\n",
       "4     -0.110154 -0.365982       2        1  15.883376\n",
       "1     -0.339878 -0.099174       3        1  14.551442\n",
       "5     -0.278568  0.237983       4        1  12.762358\n",
       "2      0.279118 -0.287479       5        1  11.202670\n",
       "6      0.344926  0.074798       6        1   8.610882\n",
       "3      0.139947  0.400984       7        1   7.878479, topic_info=           Term          Freq         Total Category  logprob  loglift\n",
       "309    pakistan  11520.000000  11520.000000  Default  30.0000  30.0000\n",
       "1        afghan  11619.000000  11619.000000  Default  29.0000  29.0000\n",
       "594       group  10737.000000  10737.000000  Default  28.0000  28.0000\n",
       "80        kabul  11766.000000  11766.000000  Default  27.0000  27.0000\n",
       "513       woman  10678.000000  10678.000000  Default  26.0000  26.0000\n",
       "...         ...           ...           ...      ...      ...      ...\n",
       "1374   violence    674.113877   1774.791650   Topic7  -5.6111   1.5730\n",
       "1816  community    661.501919   1924.426314   Topic7  -5.6299   1.4732\n",
       "23         city    591.415193   3461.310856   Topic7  -5.7419   0.7742\n",
       "1091       west    538.206155   1662.257856   Topic7  -5.8362   1.4133\n",
       "3470      write    531.663534   1663.541538   Topic7  -5.8484   1.4003\n",
       "\n",
       "[419 rows x 6 columns], token_table=       Topic      Freq        Term\n",
       "term                              \n",
       "514        5  0.998748         abc\n",
       "16529      7  0.997619  aboriginal\n",
       "1599       1  0.999053     achieve\n",
       "7407       7  0.996780    activism\n",
       "3989       2  0.583333    activist\n",
       "...      ...       ...         ...\n",
       "3471       4  0.998922       yemen\n",
       "11198      5  0.999330   yorkshire\n",
       "1713       2  0.999666       young\n",
       "31643      2  0.999074   yousafzai\n",
       "44091      2  0.998321       zahra\n",
       "\n",
       "[640 rows x 3 columns], R=30, lambda_step=0.01, plot_opts={'xlab': 'PC1', 'ylab': 'PC2'}, topic_order=[1, 5, 2, 6, 3, 7, 4])"
      ]
     },
     "execution_count": 102,
     "metadata": {},
     "output_type": "execute_result"
    }
   ],
   "source": [
    "pyLDAvis.enable_notebook()\n",
    "vis = pyLDAvis.gensim_models.prepare(lda_model_guardian, corpus, id2word, mds = \"mmds\", R=30)\n",
    "vis"
   ]
  },
  {
   "cell_type": "code",
   "execution_count": null,
   "id": "f8b4c691",
   "metadata": {},
   "outputs": [],
   "source": [
    "\n"
   ]
  },
  {
   "cell_type": "markdown",
   "id": "b87762e4",
   "metadata": {},
   "source": [
    "# Grab dominant topic for each article"
   ]
  },
  {
   "cell_type": "code",
   "execution_count": null,
   "id": "8675625e",
   "metadata": {},
   "outputs": [],
   "source": []
  },
  {
   "cell_type": "code",
   "execution_count": null,
   "id": "88ccedb8",
   "metadata": {},
   "outputs": [],
   "source": []
  },
  {
   "cell_type": "code",
   "execution_count": 167,
   "id": "ab3e5275",
   "metadata": {},
   "outputs": [],
   "source": [
    "all_topics = []\n",
    "\n",
    "#looping through all the articles in df\n",
    "for i in range(len(df_nyt)):\n",
    "    #getting the probability and index of each topic for given article \n",
    "    top_topics = lda_model_nyt.get_document_topics(corpus[i], minimum_probability=0.0)\n",
    "    \n",
    "    #checking if there was some lists that were not functioning correctly\n",
    "    if len(top_topics) != 7:\n",
    "        print(\"List of Topics is not 7 in article number \" + str(i))\n",
    "    \n",
    "    #removing the index of the topic, keep only the probabilities\n",
    "    topic_vec_prop = [top_topics[i][1] for i in range(7)]\n",
    "    all_topics.append(topic_vec_prop)"
   ]
  },
  {
   "cell_type": "code",
   "execution_count": null,
   "id": "fcd65b89",
   "metadata": {},
   "outputs": [],
   "source": []
  },
  {
   "cell_type": "code",
   "execution_count": null,
   "id": "0fa0cdf0",
   "metadata": {},
   "outputs": [],
   "source": []
  },
  {
   "cell_type": "code",
   "execution_count": null,
   "id": "a456e223",
   "metadata": {},
   "outputs": [],
   "source": []
  },
  {
   "cell_type": "code",
   "execution_count": 170,
   "id": "c73ef2f7",
   "metadata": {},
   "outputs": [],
   "source": [
    "#for each article, find the topic with the highest probability and find the probability of that topic.\n",
    "\n",
    "dominant_topic = []\n",
    "topic_contribution = []\n",
    "\n",
    "for i in all_topics:\n",
    "    max_prop = max(i)\n",
    "    max_index = i.index(max_prop)\n",
    "    \n",
    "    dominant_topic.append(max_index)\n",
    "    topic_contribution.append(max_prop)"
   ]
  },
  {
   "cell_type": "code",
   "execution_count": null,
   "id": "2c9cd25f",
   "metadata": {},
   "outputs": [],
   "source": []
  },
  {
   "cell_type": "code",
   "execution_count": 176,
   "id": "deaa9466",
   "metadata": {},
   "outputs": [],
   "source": [
    "#making new columns in df for dominant_topic and topic_contribution respectively\n",
    "df['dominant_topic'] = dominant_topic\n",
    "df['topic_contribution'] = topic_contribution"
   ]
  },
  {
   "cell_type": "code",
   "execution_count": 180,
   "id": "a9344064",
   "metadata": {},
   "outputs": [],
   "source": [
    "#splitting into three datasets\n",
    "df1 = df.iloc[0:7500,]\n",
    "df2 = df.iloc[7501:15000,]\n",
    "df3 = df.iloc[15001:21109, ]\n",
    "\n",
    "#saving to three new files\n",
    "df1.to_csv(\"data/new_york_times/NYT_clean_1.csv\", index = False)\n",
    "df2.to_csv(\"data/new_york_times/NYT_clean_2.csv\", index = False)\n",
    "df3.to_csv(\"data/new_york_times/NYT_clean_3.csv\", index = False)"
   ]
  },
  {
   "cell_type": "code",
   "execution_count": null,
   "id": "b31cbbd4",
   "metadata": {},
   "outputs": [],
   "source": []
  },
  {
   "cell_type": "code",
   "execution_count": null,
   "id": "fd038c82",
   "metadata": {},
   "outputs": [],
   "source": []
  },
  {
   "cell_type": "code",
   "execution_count": null,
   "id": "8d90bbe9",
   "metadata": {},
   "outputs": [],
   "source": []
  }
 ],
 "metadata": {
  "kernelspec": {
   "display_name": "Python 3 (ipykernel)",
   "language": "python",
   "name": "python3"
  },
  "language_info": {
   "codemirror_mode": {
    "name": "ipython",
    "version": 3
   },
   "file_extension": ".py",
   "mimetype": "text/x-python",
   "name": "python",
   "nbconvert_exporter": "python",
   "pygments_lexer": "ipython3",
   "version": "3.8.3"
  }
 },
 "nbformat": 4,
 "nbformat_minor": 5
}
