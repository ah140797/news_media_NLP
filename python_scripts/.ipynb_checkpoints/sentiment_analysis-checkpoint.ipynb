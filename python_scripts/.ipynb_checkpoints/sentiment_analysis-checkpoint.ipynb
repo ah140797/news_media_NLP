{
 "cells": [
  {
   "cell_type": "code",
   "execution_count": null,
   "id": "db11bab1",
   "metadata": {},
   "outputs": [],
   "source": [
    "'''\n",
    "Here We will do a quick sentiment analysis. We do polatiry and subjectivity. \n",
    "'''"
   ]
  },
  {
   "cell_type": "code",
   "execution_count": 1,
   "id": "297ea2b7",
   "metadata": {},
   "outputs": [],
   "source": [
    "import pandas as pd"
   ]
  },
  {
   "cell_type": "code",
   "execution_count": 2,
   "id": "443af5e4",
   "metadata": {},
   "outputs": [],
   "source": [
    "import numpy as np"
   ]
  },
  {
   "cell_type": "code",
   "execution_count": 3,
   "id": "b3b396ee",
   "metadata": {},
   "outputs": [],
   "source": [
    "import spacy"
   ]
  },
  {
   "cell_type": "code",
   "execution_count": 4,
   "id": "5659e68a",
   "metadata": {},
   "outputs": [],
   "source": [
    "from spacytextblob.spacytextblob import SpacyTextBlob"
   ]
  },
  {
   "cell_type": "code",
   "execution_count": 7,
   "id": "5db919c4",
   "metadata": {},
   "outputs": [],
   "source": [
    "#loading the dataframes and combining them \n",
    "df1 = pd.read_csv(\"data/new_york_times/NYT_clean_1.csv\")\n",
    "df2 = pd.read_csv(\"data/new_york_times/NYT_clean_2.csv\")\n",
    "df3 = pd.read_csv(\"data/new_york_times/NYT_clean_3.csv\")\n",
    "\n",
    "#combining\n",
    "df = pd.concat([df1, df2, df3])"
   ]
  },
  {
   "cell_type": "code",
   "execution_count": null,
   "id": "93e784ca",
   "metadata": {},
   "outputs": [],
   "source": [
    "\n"
   ]
  },
  {
   "cell_type": "code",
   "execution_count": 10,
   "id": "04495f6c",
   "metadata": {},
   "outputs": [],
   "source": [
    "#loading the transformer model\n",
    "nlp = spacy.load(\"en_core_web_trf\")"
   ]
  },
  {
   "cell_type": "code",
   "execution_count": 11,
   "id": "4f86fab6",
   "metadata": {},
   "outputs": [
    {
     "data": {
      "text/plain": [
       "<spacytextblob.spacytextblob.SpacyTextBlob at 0x22a0fd40c70>"
      ]
     },
     "execution_count": 11,
     "metadata": {},
     "output_type": "execute_result"
    }
   ],
   "source": [
    "#adding the blob pipe for sentiment analysis\n",
    "nlp.add_pipe('spacytextblob')"
   ]
  },
  {
   "cell_type": "markdown",
   "id": "9ef7f0d1",
   "metadata": {},
   "source": [
    "# Iterating through articles"
   ]
  },
  {
   "cell_type": "code",
   "execution_count": 15,
   "id": "85058507",
   "metadata": {},
   "outputs": [
    {
     "ename": "AttributeError",
     "evalue": "'str' object has no attribute '_'",
     "output_type": "error",
     "traceback": [
      "\u001b[1;31m---------------------------------------------------------------------------\u001b[0m",
      "\u001b[1;31mAttributeError\u001b[0m                            Traceback (most recent call last)",
      "\u001b[1;32m~\\AppData\\Local\\Temp/ipykernel_5104/1121249426.py\u001b[0m in \u001b[0;36m<module>\u001b[1;34m\u001b[0m\n\u001b[0;32m     12\u001b[0m \u001b[1;33m\u001b[0m\u001b[0m\n\u001b[0;32m     13\u001b[0m     \u001b[1;31m#appending polarity and subjectivity\u001b[0m\u001b[1;33m\u001b[0m\u001b[1;33m\u001b[0m\u001b[1;33m\u001b[0m\u001b[0m\n\u001b[1;32m---> 14\u001b[1;33m     \u001b[0mall_polarity\u001b[0m\u001b[1;33m.\u001b[0m\u001b[0mappend\u001b[0m\u001b[1;33m(\u001b[0m\u001b[0marticle\u001b[0m\u001b[1;33m.\u001b[0m\u001b[0m_\u001b[0m\u001b[1;33m.\u001b[0m\u001b[0mpolarity\u001b[0m\u001b[1;33m)\u001b[0m\u001b[1;33m\u001b[0m\u001b[1;33m\u001b[0m\u001b[0m\n\u001b[0m\u001b[0;32m     15\u001b[0m     \u001b[0mall_subjectivity\u001b[0m\u001b[1;33m.\u001b[0m\u001b[0mappend\u001b[0m\u001b[1;33m(\u001b[0m\u001b[0marticle\u001b[0m\u001b[1;33m.\u001b[0m\u001b[0m_\u001b[0m\u001b[1;33m.\u001b[0m\u001b[0msubjectivity\u001b[0m\u001b[1;33m)\u001b[0m\u001b[1;33m\u001b[0m\u001b[1;33m\u001b[0m\u001b[0m\n\u001b[0;32m     16\u001b[0m \u001b[1;33m\u001b[0m\u001b[0m\n",
      "\u001b[1;31mAttributeError\u001b[0m: 'str' object has no attribute '_'"
     ]
    }
   ],
   "source": [
    "#defining index to loop over\n",
    "article_index = 0\n",
    "\n",
    "#defining lists for the cleaned articles, polarity and subjectivity\n",
    "all_polarity = []\n",
    "all_subjectivity = []\n",
    "\n",
    "#looping over bread texts from all articles and running the functions on them\n",
    "for article in df.index:\n",
    "    #load article using index\n",
    "    article = df.iloc[article_index,4] \n",
    "    \n",
    "    #make into nlp object\n",
    "    article = nlp(article)\n",
    "    \n",
    "    #appending polarity and subjectivity\n",
    "    all_polarity.append(article._.polarity)\n",
    "    all_subjectivity.append(article._.subjectivity)\n",
    "\n",
    "    #indexing to next article\n",
    "    article_index += 1\n",
    "    \n",
    "    #checking the progress\n",
    "    print(article_index)\n"
   ]
  },
  {
   "cell_type": "code",
   "execution_count": null,
   "id": "54f23052",
   "metadata": {},
   "outputs": [],
   "source": [
    "#making new columns in df for polarity and subjectibity respectively\n",
    "df['polarity'] = all_polarity\n",
    "df['subjectivity'] = all_subjectivity"
   ]
  },
  {
   "cell_type": "code",
   "execution_count": null,
   "id": "a8e029b1",
   "metadata": {},
   "outputs": [],
   "source": [
    "#saving the new file\n",
    "df.to_csv(\"data/data_clean_full.csv\", index = False)"
   ]
  },
  {
   "cell_type": "code",
   "execution_count": null,
   "id": "439ddb2d",
   "metadata": {},
   "outputs": [],
   "source": []
  },
  {
   "cell_type": "code",
   "execution_count": null,
   "id": "ab62c856",
   "metadata": {},
   "outputs": [],
   "source": []
  },
  {
   "cell_type": "code",
   "execution_count": null,
   "id": "d409486a",
   "metadata": {},
   "outputs": [],
   "source": []
  },
  {
   "cell_type": "code",
   "execution_count": null,
   "id": "3fff3811",
   "metadata": {},
   "outputs": [],
   "source": []
  }
 ],
 "metadata": {
  "kernelspec": {
   "display_name": "Python 3 (ipykernel)",
   "language": "python",
   "name": "python3"
  },
  "language_info": {
   "codemirror_mode": {
    "name": "ipython",
    "version": 3
   },
   "file_extension": ".py",
   "mimetype": "text/x-python",
   "name": "python",
   "nbconvert_exporter": "python",
   "pygments_lexer": "ipython3",
   "version": "3.8.3"
  }
 },
 "nbformat": 4,
 "nbformat_minor": 5
}
